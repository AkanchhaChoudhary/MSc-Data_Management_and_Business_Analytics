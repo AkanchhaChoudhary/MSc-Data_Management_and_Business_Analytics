{
 "cells": [
  {
   "cell_type": "code",
   "execution_count": null,
   "id": "b2123edf",
   "metadata": {},
   "outputs": [],
   "source": []
  },
  {
   "cell_type": "code",
   "execution_count": null,
   "id": "c222b6e7",
   "metadata": {},
   "outputs": [],
   "source": [
    "## 1_5 Cleaning Files and preparing data\n",
    "\n",
    "For the Taxi, Titanic and Adults datasets. \n",
    "\n",
    "1. Open the data using pandas\n",
    "2. Use info and decribe for initial exploration, what are the data types of the variables?\n",
    "3. Look and remove missing data\n",
    "4. Look and remove outliers if any\n",
    "5. which variables do you think that could be predictors and target data?\n",
    "6. save the clean data again as a csv with a different name\n",
    "\n",
    "\n"
   ]
  },
  {
   "cell_type": "code",
   "execution_count": null,
   "id": "10ff43bf",
   "metadata": {},
   "outputs": [],
   "source": []
  },
  {
   "cell_type": "code",
   "execution_count": null,
   "id": "2e1c8b31",
   "metadata": {},
   "outputs": [],
   "source": []
  }
 ],
 "metadata": {
  "kernelspec": {
   "display_name": "Python 3 (ipykernel)",
   "language": "python",
   "name": "python3"
  },
  "language_info": {
   "codemirror_mode": {
    "name": "ipython",
    "version": 3
   },
   "file_extension": ".py",
   "mimetype": "text/x-python",
   "name": "python",
   "nbconvert_exporter": "python",
   "pygments_lexer": "ipython3",
   "version": "3.11.5"
  }
 },
 "nbformat": 4,
 "nbformat_minor": 5
}
