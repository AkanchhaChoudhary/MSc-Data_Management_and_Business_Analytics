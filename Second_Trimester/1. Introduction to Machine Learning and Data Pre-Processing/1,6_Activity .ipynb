{
 "cells": [
  {
   "cell_type": "markdown",
   "id": "87b78caa-c818-4934-bb6e-76ffc8ea157c",
   "metadata": {},
   "source": [
    "## Pratice Data Splitting\n",
    "**1- Using the titanic data set**\n",
    "\n",
    "\n",
    "Create the following 4 sets:\n",
    "- X_train \n",
    "- y_train\n",
    "- X_test\n",
    "- y_test\n",
    "\n",
    "Using a 80-20 training validation split.\n",
    "\n",
    "\n",
    "**2- Using the Taxi data set**\n",
    "\n",
    "\n",
    "Create the following 6 sets:\n",
    "- X_train \n",
    "- y_train\n",
    "- X_validation\n",
    "- y_validation\n",
    "- X_test\n",
    "- y_test\n",
    "\n",
    "Using a split 60% training, 25% validation, and 15% test set.\n",
    "\n",
    "\n"
   ]
  },
  {
   "cell_type": "code",
   "execution_count": null,
   "id": "dac268c8-e9ea-4f2c-a274-42687c0eec69",
   "metadata": {},
   "outputs": [],
   "source": []
  }
 ],
 "metadata": {
  "kernelspec": {
   "display_name": "Python 3 (ipykernel)",
   "language": "python",
   "name": "python3"
  },
  "language_info": {
   "codemirror_mode": {
    "name": "ipython",
    "version": 3
   },
   "file_extension": ".py",
   "mimetype": "text/x-python",
   "name": "python",
   "nbconvert_exporter": "python",
   "pygments_lexer": "ipython3",
   "version": "3.11.4"
  }
 },
 "nbformat": 4,
 "nbformat_minor": 5
}
