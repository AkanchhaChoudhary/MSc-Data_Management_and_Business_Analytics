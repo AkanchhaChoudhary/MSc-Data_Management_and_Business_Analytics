{
 "cells": [
  {
   "cell_type": "markdown",
   "metadata": {},
   "source": [
    "# Applying K-means to a synthetic 2d datasets with n clusters\n",
    "\n",
    "To determine how well a k-means clustering can identify and classify this dataset into n clusters.\n",
    "\n",
    "To start we will pick n=4. This number can change later depending on our result and requirements"
   ]
  },
  {
   "cell_type": "markdown",
   "metadata": {},
   "source": []
  }
 ],
 "metadata": {
  "language_info": {
   "name": "python"
  }
 },
 "nbformat": 4,
 "nbformat_minor": 2
}
