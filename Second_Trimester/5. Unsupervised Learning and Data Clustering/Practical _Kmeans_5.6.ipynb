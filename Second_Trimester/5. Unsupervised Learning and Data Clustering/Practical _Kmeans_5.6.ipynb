{
 "cells": [
  {
   "cell_type": "markdown",
   "metadata": {},
   "source": [
    "# Applying K-means to a synthetic 2d datasets with n clusters\n",
    "\n",
    "To determine how well a k-means clustering can identify and classify this dataset into n clusters.\n",
    "\n",
    "To start we will pick n=4. This number can change later depending on our result and requirements"
   ]
  },
  {
   "cell_type": "code",
   "execution_count": 1,
   "metadata": {},
   "outputs": [],
   "source": [
    "import os\n",
    "# set the omp_num_threads environment variable to '2'\n",
    "os.environ['omp_num_threads'] = '2' # this is important in some system while implementing k-means because we are going to have different threads in our computer . And if there is an unknown bug in the libraray so by putting this at the beggining of the code ,nothing else on the computer will be impacted "
   ]
  }
 ],
 "metadata": {
  "kernelspec": {
   "display_name": "base",
   "language": "python",
   "name": "python3"
  },
  "language_info": {
   "codemirror_mode": {
    "name": "ipython",
    "version": 3
   },
   "file_extension": ".py",
   "mimetype": "text/x-python",
   "name": "python",
   "nbconvert_exporter": "python",
   "pygments_lexer": "ipython3",
   "version": "3.11.7"
  }
 },
 "nbformat": 4,
 "nbformat_minor": 2
}
