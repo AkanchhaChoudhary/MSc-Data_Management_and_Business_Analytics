{
 "cells": [
  {
   "cell_type": "markdown",
   "id": "f91474d7-0c1a-404f-bbce-66d7c97c89e2",
   "metadata": {},
   "source": [
    "## Activity 5.6b \n",
    "\n",
    "**PCA**\n",
    "\n",
    "Perform PCA on a dataset named data_5b.csv to reduce its dimensionality while retaining most of the variance. Create a biplot to visualize the variables in relation to the first and second principal components, and generate a plot depicting the variance explained by each compoenent, as well as the cumulative variance explained as a function of the number of retained components"
   ]
  },
  {
   "cell_type": "code",
   "execution_count": null,
   "id": "daa54431-c9c4-4f46-97fd-8af77503e7b1",
   "metadata": {},
   "outputs": [],
   "source": []
  }
 ],
 "metadata": {
  "kernelspec": {
   "display_name": "Python 3 (ipykernel)",
   "language": "python",
   "name": "python3"
  },
  "language_info": {
   "codemirror_mode": {
    "name": "ipython",
    "version": 3
   },
   "file_extension": ".py",
   "mimetype": "text/x-python",
   "name": "python",
   "nbconvert_exporter": "python",
   "pygments_lexer": "ipython3",
   "version": "3.9.18"
  }
 },
 "nbformat": 4,
 "nbformat_minor": 5
}
