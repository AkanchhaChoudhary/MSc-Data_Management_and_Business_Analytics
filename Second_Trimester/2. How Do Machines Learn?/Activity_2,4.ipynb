{
 "cells": [
  {
   "cell_type": "markdown",
   "id": "2ed264f6-3ba6-4201-b266-07db6f5fa009",
   "metadata": {},
   "source": [
    "## Activity 2.4  Loss functions\n",
    "\n",
    "Remember the defintion of Mean Squared Error (MSE):\n",
    "\n",
    "\\begin{equation}\n",
    "MSE = \\frac{1}{n} \\sum_{i=1}^{n} (y_i - \\hat{y}_i)^2\n",
    "\\end{equation}\n",
    "\n",
    "Where:\n",
    "\\begin{align*}\n",
    "MSE & : \\text{Mean Squared Error} \\\\\n",
    "n & : \\text{Number of data points} \\\\\n",
    "y_i & : \\text{Actual value of the i-th data point} \\\\\n",
    "\\hat{y}_i & : \\text{Predicted value of the i-th data point}\n",
    "\\end{align*}\n",
    "\n",
    "\n",
    "\n",
    "The file data_activity_2.4.csv consists on a predictor variable **x** and two target variables **y1** and **y2**.\n",
    "\n",
    "**Exercise 1** \n",
    "\n",
    "\n",
    "a) The variable y1 is expected to follow the function\n",
    "$$\n",
    "y1 = 3x + 5 + noise\n",
    "$$\n",
    "\n",
    "Using the definition of Mean Squared Error, calculate the mse between the real data and the prediction for the function.\n",
    "\n",
    "\n",
    "\n",
    "\n",
    "**Exercise 2** \n",
    "\n",
    "\n",
    "a) The variable y2 is also expected to follow the function\n",
    "$$\n",
    "y2 = 3x + 5 + noise\n",
    "$$\n",
    "\n",
    "Calculate the mse between the real data and the prediction for the function.\n",
    "\n",
    "\n",
    "b) Is the mse bigger or smaller than in the first case?\n",
    "\n",
    "\n",
    "\n",
    "\n"
   ]
  },
  {
   "cell_type": "code",
   "execution_count": null,
   "id": "cefa8a64-e251-48e7-bdec-4f543bd0d4be",
   "metadata": {},
   "outputs": [],
   "source": []
  }
 ],
 "metadata": {
  "kernelspec": {
   "display_name": "Python 3 (ipykernel)",
   "language": "python",
   "name": "python3"
  },
  "language_info": {
   "codemirror_mode": {
    "name": "ipython",
    "version": 3
   },
   "file_extension": ".py",
   "mimetype": "text/x-python",
   "name": "python",
   "nbconvert_exporter": "python",
   "pygments_lexer": "ipython3",
   "version": "3.9.18"
  }
 },
 "nbformat": 4,
 "nbformat_minor": 5
}
