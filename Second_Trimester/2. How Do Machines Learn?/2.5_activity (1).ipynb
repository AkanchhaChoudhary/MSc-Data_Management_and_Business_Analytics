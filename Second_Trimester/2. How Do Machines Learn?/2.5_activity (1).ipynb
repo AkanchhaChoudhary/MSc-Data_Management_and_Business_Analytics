{
 "cells": [
  {
   "cell_type": "code",
   "execution_count": null,
   "id": "b89ca8e9",
   "metadata": {},
   "outputs": [],
   "source": [
    "## Activity 2.5  Strategies for learning model\n",
    "\n",
    "In this activity, we will have some data corresponding to a linear model with zero intercept. (data_activity_2.5.csv).\n",
    "\n",
    "Using only python and numpy, find the best linear fit, that is, the equation y=ax that minimizes the mean squared error.\n",
    "\n",
    "\n",
    "You can use a quick heuristic of the model parameters first (changing manually the parameters) and then write some code that \n",
    "computes the mse for different values of the slope a (remember that we assume there is not intercept)\n",
    "\n",
    "for which value of the slope you obtain the smallest mse?\n",
    "\n"
   ]
  },
  {
   "cell_type": "code",
   "execution_count": null,
   "id": "0acf44fa-3a91-4402-8eb9-19a75508a860",
   "metadata": {},
   "outputs": [],
   "source": []
  }
 ],
 "metadata": {
  "kernelspec": {
   "display_name": "Python 3 (ipykernel)",
   "language": "python",
   "name": "python3"
  },
  "language_info": {
   "codemirror_mode": {
    "name": "ipython",
    "version": 3
   },
   "file_extension": ".py",
   "mimetype": "text/x-python",
   "name": "python",
   "nbconvert_exporter": "python",
   "pygments_lexer": "ipython3",
   "version": "3.11.4"
  }
 },
 "nbformat": 4,
 "nbformat_minor": 5
}
