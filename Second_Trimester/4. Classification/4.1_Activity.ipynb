{
 "cells": [
  {
   "cell_type": "markdown",
   "id": "630ca895-a11c-420f-93ac-03c7931bc4a9",
   "metadata": {},
   "source": [
    "## Activity_4.1\n",
    "\n",
    "Using  logistic regressions to classify the following datasets\n",
    "- Breast Cancer Dataset\n",
    "- Iris Dataset\n",
    "- Wine Dataset \n",
    "\n",
    "\n",
    "In the following cells, you will have some help to load the data\n"
   ]
  },
  {
   "cell_type": "markdown",
   "id": "cc0f085c-6707-4885-86d9-30b3dfdf1f02",
   "metadata": {},
   "source": [
    "**Breast Cancer Dataset - Binary Classification:**\n",
    "\n",
    "Utilize the Breast Cancer Wisconsin dataset, also available in scikit-learn.\n",
    "Create a binary classification task to predict whether a tumor is malignant or benign based on various features.\n"
   ]
  },
  {
   "cell_type": "code",
   "execution_count": 5,
   "id": "6faf1059-d334-42f2-a3cd-264242adf705",
   "metadata": {},
   "outputs": [],
   "source": [
    "# Import necessary libraries\n",
    "import matplotlib.pyplot as plt\n",
    "from sklearn.datasets import load_breast_cancer\n",
    "from sklearn.model_selection import train_test_split\n",
    "from sklearn.linear_model import LogisticRegression\n",
    "from sklearn.metrics import accuracy_score, precision_score, recall_score, roc_auc_score,  roc_curve, auc\n",
    "\n",
    "# Load the Breast Cancer dataset\n",
    "breast_cancer = load_breast_cancer()\n",
    "X, y = breast_cancer.data, breast_cancer.target\n"
   ]
  },
  {
   "cell_type": "code",
   "execution_count": 6,
   "id": "bc5df8d6-7b6a-480c-a99b-85db5eaa62d2",
   "metadata": {},
   "outputs": [],
   "source": [
    "# complete analysis "
   ]
  },
  {
   "cell_type": "markdown",
   "id": "4287ac76-2ba4-4a8a-a40b-ebd4bf62e97d",
   "metadata": {},
   "source": [
    "**Iris Dataset - Multi-Class Classification:**\n",
    "\n",
    "Use the famous Iris dataset, available in scikit-learn.\n",
    "Perform a multi-class classification task to predict the species (Setosa, Versicolor, or Virginica) based on sepal and petal measurements.\n",
    "Split the dataset into training and testing sets, train a logistic regression model.\n",
    "\n"
   ]
  },
  {
   "cell_type": "code",
   "execution_count": 3,
   "id": "649df521-53a3-4401-90c5-c5ee4121bcca",
   "metadata": {},
   "outputs": [],
   "source": [
    "from sklearn.datasets import load_iris\n",
    "from sklearn.model_selection import train_test_split\n",
    "from sklearn.linear_model import LogisticRegression\n",
    "from sklearn.metrics import accuracy_score, precision_score, recall_score, f1_score\n",
    "from sklearn.metrics import confusion_matrix\n",
    "\n",
    "# Load the Iris dataset\n",
    "iris = load_iris()\n",
    "X, y = iris.data, iris.target"
   ]
  },
  {
   "cell_type": "code",
   "execution_count": 4,
   "id": "ca72c275-df0b-477d-bb6c-846884c3f573",
   "metadata": {},
   "outputs": [],
   "source": [
    "# complete analysis"
   ]
  },
  {
   "cell_type": "markdown",
   "id": "2cca9284-61bf-483a-8782-20c53b581c4b",
   "metadata": {},
   "source": [
    "**Wine Dataset - Multi-Class Classification:**\n",
    "\n",
    "Employ the Wine dataset, which contains information about different types of wine.\n",
    "Perform multi-class classification to predict the wine's class based on chemical attributes."
   ]
  },
  {
   "cell_type": "code",
   "execution_count": 1,
   "id": "d0e0018b-0906-4d0e-a307-7c262bb66cb3",
   "metadata": {},
   "outputs": [],
   "source": [
    "# Import necessary libraries\n",
    "from sklearn.datasets import load_wine\n",
    "from sklearn.model_selection import train_test_split\n",
    "from sklearn.linear_model import LogisticRegression\n",
    "from sklearn.metrics import accuracy_score, precision_score, recall_score, f1_score\n",
    "\n",
    "# Load the Wine dataset\n",
    "wine = load_wine()\n",
    "X, y = wine.data, wine.target\n",
    "\n"
   ]
  },
  {
   "cell_type": "code",
   "execution_count": 8,
   "id": "9db5d41b-2d2e-4c8c-87b6-83e5a6a52d61",
   "metadata": {},
   "outputs": [],
   "source": [
    "# complete analysis"
   ]
  },
  {
   "cell_type": "code",
   "execution_count": null,
   "id": "54bb364a-b17f-4fae-961b-e18af9a26da3",
   "metadata": {},
   "outputs": [],
   "source": []
  }
 ],
 "metadata": {
  "kernelspec": {
   "display_name": "Python 3 (ipykernel)",
   "language": "python",
   "name": "python3"
  },
  "language_info": {
   "codemirror_mode": {
    "name": "ipython",
    "version": 3
   },
   "file_extension": ".py",
   "mimetype": "text/x-python",
   "name": "python",
   "nbconvert_exporter": "python",
   "pygments_lexer": "ipython3",
   "version": "3.9.18"
  }
 },
 "nbformat": 4,
 "nbformat_minor": 5
}
