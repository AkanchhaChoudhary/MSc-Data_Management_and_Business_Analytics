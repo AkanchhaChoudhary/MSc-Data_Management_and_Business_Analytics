{
 "cells": [
  {
   "cell_type": "markdown",
   "id": "138e7e5a-d86d-44d3-8807-9b9a524af09f",
   "metadata": {},
   "source": [
    "## Activity 5.6a\n",
    "\n",
    "**Clustering**\n",
    "\n",
    "Perform a K-means clustering analysis on the dataset `data_5.6a.csv`. Based on your analysis, determine the optimal number of clusters that the data is likely to have. Provide a rationale for your choice of the number of clusters, and visualize the results if possible. You may use any appropriate techniques or methods to support your decision."
   ]
  },
  {
   "cell_type": "code",
   "execution_count": null,
   "id": "fd5af367-bbe5-4d32-9f67-fff8d92e2692",
   "metadata": {},
   "outputs": [],
   "source": []
  }
 ],
 "metadata": {
  "kernelspec": {
   "display_name": "Python 3 (ipykernel)",
   "language": "python",
   "name": "python3"
  },
  "language_info": {
   "codemirror_mode": {
    "name": "ipython",
    "version": 3
   },
   "file_extension": ".py",
   "mimetype": "text/x-python",
   "name": "python",
   "nbconvert_exporter": "python",
   "pygments_lexer": "ipython3",
   "version": "3.9.18"
  }
 },
 "nbformat": 4,
 "nbformat_minor": 5
}
