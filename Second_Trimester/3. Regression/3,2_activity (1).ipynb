{
 "cells": [
  {
   "cell_type": "markdown",
   "id": "8dad753c-d54c-438f-a8b6-27b74aa5b0d9",
   "metadata": {},
   "source": [
    "# Activity 3.2\n",
    "\n",
    "Using the dataset `data_3.2.csv`, which contains 5 independent variables and 1 continuous output:\n",
    "- split the data into a training and test dataset. \n",
    "- using sklearn, find the best linear model (using trainng data)\n",
    "- apply the model to the test data and evaluate the model (mean squared error and R2 score)\n",
    "\n",
    "If you repeat the process a number of times (let's say 1000) with random splits, what is the distribution of all possible R2?\n",
    "\n",
    "Can you estimate (empirically) a 99% confidence interval for the value of R2?"
   ]
  },
  {
   "cell_type": "code",
   "execution_count": null,
   "id": "e518fa09-a1ea-4f74-b137-0b9dfede8d4b",
   "metadata": {},
   "outputs": [],
   "source": []
  }
 ],
 "metadata": {
  "kernelspec": {
   "display_name": "Python 3 (ipykernel)",
   "language": "python",
   "name": "python3"
  },
  "language_info": {
   "codemirror_mode": {
    "name": "ipython",
    "version": 3
   },
   "file_extension": ".py",
   "mimetype": "text/x-python",
   "name": "python",
   "nbconvert_exporter": "python",
   "pygments_lexer": "ipython3",
   "version": "3.11.4"
  }
 },
 "nbformat": 4,
 "nbformat_minor": 5
}
