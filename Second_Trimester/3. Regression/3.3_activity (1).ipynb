{
 "cells": [
  {
   "cell_type": "markdown",
   "id": "608b7483-2fae-4525-a46b-68ba909bd84d",
   "metadata": {},
   "source": [
    "## Activity 3.3\n",
    "\n",
    "Using the dataset data_3.3.csv (consisting on an independent and a dependent continuous variable), make a nonlinear model to adjust for the data. In particular,\n",
    "- split the data into training and test.\n",
    "- try different values of k to make a polynomial expansion of x (of degree k), fit a nonlinear model to the training data,\n",
    "- evaluate that model in the test data\n",
    "- for which value of k you obtain a good fit?\n",
    "- for which value of k you can see overfitting?"
   ]
  },
  {
   "cell_type": "code",
   "execution_count": null,
   "id": "ebbb1961-80fa-4a58-a216-2f5e498d3f19",
   "metadata": {},
   "outputs": [],
   "source": []
  }
 ],
 "metadata": {
  "kernelspec": {
   "display_name": "Python 3 (ipykernel)",
   "language": "python",
   "name": "python3"
  },
  "language_info": {
   "codemirror_mode": {
    "name": "ipython",
    "version": 3
   },
   "file_extension": ".py",
   "mimetype": "text/x-python",
   "name": "python",
   "nbconvert_exporter": "python",
   "pygments_lexer": "ipython3",
   "version": "3.11.4"
  }
 },
 "nbformat": 4,
 "nbformat_minor": 5
}
