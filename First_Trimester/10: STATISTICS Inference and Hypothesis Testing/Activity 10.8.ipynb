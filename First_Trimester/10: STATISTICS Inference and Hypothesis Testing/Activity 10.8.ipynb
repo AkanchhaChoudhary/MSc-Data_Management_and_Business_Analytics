{
 "cells": [
  {
   "cell_type": "markdown",
   "metadata": {},
   "source": [
    "Activities Session 5\n",
    "\n",
    "For each of the next activities, create a new code cell and write your solution.\n",
    "\n",
    "For these activities you will need the file 5.1_data_session_5_activities.xlsx, which contain 2\n",
    "different sheets: data1 and data2."
   ]
  },
  {
   "cell_type": "markdown",
   "metadata": {},
   "source": [
    "1. Open the file 5.1_data_session_5_activities.xlsx and load the data for sheets data1 to\n",
    "data2 in pandas dataframes called df1 and df2."
   ]
  },
  {
   "cell_type": "code",
   "execution_count": null,
   "metadata": {},
   "outputs": [],
   "source": []
  },
  {
   "cell_type": "code",
   "execution_count": 1,
   "metadata": {},
   "outputs": [],
   "source": [
    "import pandas as pd\n",
    "import numpy as np"
   ]
  },
  {
   "cell_type": "code",
   "execution_count": 7,
   "metadata": {},
   "outputs": [],
   "source": [
    "import pandas as pd\n",
    "\n",
    "# Load data from Excel file\n",
    "xls_file = pd.ExcelFile('5.1_data_session_5_activities.xlsx')\n",
    "\n",
    "# Load data from sheets data1 and data2 into dataframes\n",
    "df1 = pd.read_excel(xls_file, 'data1')\n",
    "df2 = pd.read_excel(xls_file, 'data2')\n"
   ]
  },
  {
   "cell_type": "markdown",
   "metadata": {},
   "source": [
    "2. Load the dataset in sheet data1 and consider it like your population of study. Compute the\n",
    "mean and the standard deviation."
   ]
  },
  {
   "cell_type": "code",
   "execution_count": 10,
   "metadata": {},
   "outputs": [
    {
     "data": {
      "text/html": [
       "<div>\n",
       "<style scoped>\n",
       "    .dataframe tbody tr th:only-of-type {\n",
       "        vertical-align: middle;\n",
       "    }\n",
       "\n",
       "    .dataframe tbody tr th {\n",
       "        vertical-align: top;\n",
       "    }\n",
       "\n",
       "    .dataframe thead th {\n",
       "        text-align: right;\n",
       "    }\n",
       "</style>\n",
       "<table border=\"1\" class=\"dataframe\">\n",
       "  <thead>\n",
       "    <tr style=\"text-align: right;\">\n",
       "      <th></th>\n",
       "      <th>X</th>\n",
       "    </tr>\n",
       "  </thead>\n",
       "  <tbody>\n",
       "    <tr>\n",
       "      <th>0</th>\n",
       "      <td>50.923263</td>\n",
       "    </tr>\n",
       "    <tr>\n",
       "      <th>1</th>\n",
       "      <td>47.859969</td>\n",
       "    </tr>\n",
       "    <tr>\n",
       "      <th>2</th>\n",
       "      <td>50.361931</td>\n",
       "    </tr>\n",
       "    <tr>\n",
       "      <th>3</th>\n",
       "      <td>49.712429</td>\n",
       "    </tr>\n",
       "    <tr>\n",
       "      <th>4</th>\n",
       "      <td>49.151845</td>\n",
       "    </tr>\n",
       "  </tbody>\n",
       "</table>\n",
       "</div>"
      ],
      "text/plain": [
       "           X\n",
       "0  50.923263\n",
       "1  47.859969\n",
       "2  50.361931\n",
       "3  49.712429\n",
       "4  49.151845"
      ]
     },
     "execution_count": 10,
     "metadata": {},
     "output_type": "execute_result"
    }
   ],
   "source": [
    "df1.head()"
   ]
  },
  {
   "cell_type": "code",
   "execution_count": 22,
   "metadata": {},
   "outputs": [],
   "source": [
    "data1_mean = df1.mean()\n",
    "\n",
    "data1_std = df1.std()"
   ]
  },
  {
   "cell_type": "code",
   "execution_count": 23,
   "metadata": {},
   "outputs": [
    {
     "name": "stdout",
     "output_type": "stream",
     "text": [
      "Mean for data1 is X    50.007477\n",
      "dtype: float64\n",
      "std for data1 is: X    2.002636\n",
      "dtype: float64\n"
     ]
    }
   ],
   "source": [
    "print(\"Mean for data1 is\" , data1_mean)\n",
    "print(\"std for data1 is:\", data1_std)"
   ]
  },
  {
   "cell_type": "code",
   "execution_count": 27,
   "metadata": {},
   "outputs": [
    {
     "name": "stdout",
     "output_type": "stream",
     "text": [
      "Expected average of all sample means:\n",
      "X    50.007477\n",
      "dtype: float64\n",
      "\n",
      "Standard Error:\n",
      "X    0.12572\n",
      "dtype: float64\n"
     ]
    }
   ],
   "source": [
    "\n",
    "population_mean = data1_mean\n",
    "\n",
    "population_std_dev = data1_std\n",
    "\n",
    "\n",
    "# Sample size\n",
    "sample_size = 200\n",
    "\n",
    "# Expected average of all sample means (should be equal to population mean)\n",
    "expected_avg_sample_means = population_mean\n",
    "\n",
    "# Standard error (if population standard deviation is provided)\n",
    "#standard_error = population_std_dev / (sample_size ** 0.5)\n",
    "\n",
    "# If population standard deviation is not provided, you can estimate it using sample standard deviation\n",
    "sample_std_dev = df1.sample(sample_size).std()\n",
    "standard_error = sample_std_dev / (sample_size ** 0.5)\n",
    "\n",
    "print(\"Expected average of all sample means:\")\n",
    "print(expected_avg_sample_means)\n",
    "print(\"\\nStandard Error:\")\n",
    "print(standard_error)\n"
   ]
  },
  {
   "cell_type": "code",
   "execution_count": null,
   "metadata": {},
   "outputs": [],
   "source": []
  },
  {
   "cell_type": "code",
   "execution_count": null,
   "metadata": {},
   "outputs": [],
   "source": []
  }
 ],
 "metadata": {
  "kernelspec": {
   "display_name": "base",
   "language": "python",
   "name": "python3"
  },
  "language_info": {
   "codemirror_mode": {
    "name": "ipython",
    "version": 3
   },
   "file_extension": ".py",
   "mimetype": "text/x-python",
   "name": "python",
   "nbconvert_exporter": "python",
   "pygments_lexer": "ipython3",
   "version": "3.11.7"
  }
 },
 "nbformat": 4,
 "nbformat_minor": 2
}
