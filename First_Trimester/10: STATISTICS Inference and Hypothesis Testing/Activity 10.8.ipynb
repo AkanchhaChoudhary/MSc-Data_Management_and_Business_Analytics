{
 "cells": [
  {
   "cell_type": "markdown",
   "metadata": {},
   "source": [
    "Activities Session 5\n",
    "\n",
    "For each of the next activities, create a new code cell and write your solution.\n",
    "\n",
    "For these activities you will need the file 5.1_data_session_5_activities.xlsx, which contain 2\n",
    "different sheets: data1 and data2."
   ]
  },
  {
   "cell_type": "markdown",
   "metadata": {},
   "source": [
    "1. Open the file 5.1_data_session_5_activities.xlsx and load the data for sheets data1 to\n",
    "data2 in pandas dataframes called df1 and df2."
   ]
  },
  {
   "cell_type": "code",
   "execution_count": 2,
   "metadata": {},
   "outputs": [],
   "source": [
    "import pandas as pd\n",
    "import numpy as np"
   ]
  },
  {
   "cell_type": "code",
   "execution_count": 3,
   "metadata": {},
   "outputs": [],
   "source": [
    "import pandas as pd\n",
    "\n",
    "# Load data from Excel file\n",
    "xls_file = pd.ExcelFile('5.1_data_session_5_activities.xlsx')\n",
    "\n",
    "# Load data from sheets data1 and data2 into dataframes\n",
    "df1 = pd.read_excel(xls_file, 'data1')\n",
    "df2 = pd.read_excel(xls_file, 'data2')\n"
   ]
  },
  {
   "cell_type": "markdown",
   "metadata": {},
   "source": [
    "2. Load the dataset in sheet data1 and consider it like your population of study. Compute the\n",
    "mean and the standard deviation."
   ]
  },
  {
   "cell_type": "code",
   "execution_count": 4,
   "metadata": {},
   "outputs": [
    {
     "data": {
      "text/html": [
       "<div>\n",
       "<style scoped>\n",
       "    .dataframe tbody tr th:only-of-type {\n",
       "        vertical-align: middle;\n",
       "    }\n",
       "\n",
       "    .dataframe tbody tr th {\n",
       "        vertical-align: top;\n",
       "    }\n",
       "\n",
       "    .dataframe thead th {\n",
       "        text-align: right;\n",
       "    }\n",
       "</style>\n",
       "<table border=\"1\" class=\"dataframe\">\n",
       "  <thead>\n",
       "    <tr style=\"text-align: right;\">\n",
       "      <th></th>\n",
       "      <th>X</th>\n",
       "    </tr>\n",
       "  </thead>\n",
       "  <tbody>\n",
       "    <tr>\n",
       "      <th>0</th>\n",
       "      <td>50.923263</td>\n",
       "    </tr>\n",
       "    <tr>\n",
       "      <th>1</th>\n",
       "      <td>47.859969</td>\n",
       "    </tr>\n",
       "    <tr>\n",
       "      <th>2</th>\n",
       "      <td>50.361931</td>\n",
       "    </tr>\n",
       "    <tr>\n",
       "      <th>3</th>\n",
       "      <td>49.712429</td>\n",
       "    </tr>\n",
       "    <tr>\n",
       "      <th>4</th>\n",
       "      <td>49.151845</td>\n",
       "    </tr>\n",
       "  </tbody>\n",
       "</table>\n",
       "</div>"
      ],
      "text/plain": [
       "           X\n",
       "0  50.923263\n",
       "1  47.859969\n",
       "2  50.361931\n",
       "3  49.712429\n",
       "4  49.151845"
      ]
     },
     "execution_count": 4,
     "metadata": {},
     "output_type": "execute_result"
    }
   ],
   "source": [
    "df1.head()"
   ]
  },
  {
   "cell_type": "code",
   "execution_count": 5,
   "metadata": {},
   "outputs": [],
   "source": [
    "data1_mean = df1.mean()\n",
    "\n",
    "data1_std = df1.std()"
   ]
  },
  {
   "cell_type": "code",
   "execution_count": 6,
   "metadata": {},
   "outputs": [
    {
     "name": "stdout",
     "output_type": "stream",
     "text": [
      "Mean for data1 is X    50.007477\n",
      "dtype: float64\n",
      "std for data1 is: X    2.002636\n",
      "dtype: float64\n"
     ]
    }
   ],
   "source": [
    "print(\"Mean for data1 is\" , data1_mean)\n",
    "print(\"std for data1 is:\", data1_std)"
   ]
  },
  {
   "cell_type": "markdown",
   "metadata": {},
   "source": [
    "3. Suppose you take samples of size=200 from the previous data set. Using the theory, what\n",
    "would you expect to be the average of all sample means, and what would you expect to be\n",
    "the standard error (that is, the standard deviation of all sample means)?"
   ]
  },
  {
   "cell_type": "code",
   "execution_count": 7,
   "metadata": {},
   "outputs": [
    {
     "name": "stdout",
     "output_type": "stream",
     "text": [
      "Expected average of all sample means:\n",
      "X    50.007477\n",
      "dtype: float64\n",
      "\n",
      "Standard Error:\n",
      "X    0.141146\n",
      "dtype: float64\n"
     ]
    }
   ],
   "source": [
    "\n",
    "population_mean = data1_mean\n",
    "\n",
    "population_std_dev = data1_std\n",
    "\n",
    "\n",
    "# Sample size\n",
    "sample_size = 200\n",
    "\n",
    "# Expected average of all sample means (should be equal to population mean)\n",
    "expected_avg_sample_means = population_mean\n",
    "\n",
    "# Standard error (if population standard deviation is provided)\n",
    "#standard_error = population_std_dev / (sample_size ** 0.5)\n",
    "\n",
    "# If population standard deviation is not provided, you can estimate it using sample standard deviation\n",
    "sample_std_dev = df1.sample(sample_size).std()\n",
    "standard_error = sample_std_dev / (sample_size ** 0.5)\n",
    "\n",
    "print(\"Expected average of all sample means:\")\n",
    "print(expected_avg_sample_means)\n",
    "print(\"\\nStandard Error:\")\n",
    "print(standard_error)\n"
   ]
  },
  {
   "cell_type": "markdown",
   "metadata": {},
   "source": [
    "4. Now, select 5000 of these random samples and for each of them, save the sample mean in an\n",
    "array. Compute empirically the average of the sample means and the standard deviation of\n",
    "the sample means. Is it close to the theoretical results?"
   ]
  },
  {
   "cell_type": "code",
   "execution_count": 8,
   "metadata": {},
   "outputs": [
    {
     "name": "stdout",
     "output_type": "stream",
     "text": [
      "Empirical average of sample means: 50.010648653610374\n",
      "Empirical standard deviation of sample means: 0.1429221275050675\n"
     ]
    }
   ],
   "source": [
    "population_mean = df1.mean().mean()  # Population mean\n",
    "\n",
    "# Sample size and number of samples\n",
    "sample_size = 200\n",
    "num_samples = 5000\n",
    "\n",
    "# Array to store sample means\n",
    "sample_means = []\n",
    "\n",
    "# Generate 5000 random samples and compute sample means\n",
    "for _ in range(num_samples):\n",
    "    sample = df1.sample(n=sample_size, replace=False)\n",
    "    sample_mean = sample.mean().mean()  # Calculate mean of the sample\n",
    "    sample_means.append(sample_mean)\n",
    "\n",
    "# Compute empirical average and standard deviation of sample means\n",
    "empirical_avg_sample_means = np.mean(sample_means)\n",
    "empirical_std_dev_sample_means = np.std(sample_means)\n",
    "\n",
    "# Display the results\n",
    "print(\"Empirical average of sample means:\", empirical_avg_sample_means)\n",
    "print(\"Empirical standard deviation of sample means:\", empirical_std_dev_sample_means)"
   ]
  },
  {
   "cell_type": "markdown",
   "metadata": {},
   "source": [
    "5. Do the same as before but now with the data on sheet data2 and choosing sample size = 15. Do you also obtain similar results between theory and experiment? How would you\n",
    "explain this result?"
   ]
  },
  {
   "cell_type": "code",
   "execution_count": 9,
   "metadata": {},
   "outputs": [
    {
     "name": "stdout",
     "output_type": "stream",
     "text": [
      "Empirical average of sample means: 0.6662173474374423\n",
      "Empirical standard deviation of sample means: 0.053583226160336714\n"
     ]
    }
   ],
   "source": [
    "# Population parameters\n",
    "population_mean = df2.mean().mean()  # Population mean\n",
    "\n",
    "# Sample size and number of samples\n",
    "sample_size = 15\n",
    "num_samples = 5000\n",
    "\n",
    "# Array to store sample means\n",
    "sample_means = []\n",
    "\n",
    "# Generate 5000 random samples and compute sample means\n",
    "for _ in range(num_samples):\n",
    "    sample = df2.sample(n=sample_size, replace=False)\n",
    "    sample_mean = sample.mean().mean()  # Calculate mean of the sample\n",
    "    \n",
    "    sample_means.append(sample_mean)\n",
    "\n",
    "# Compute empirical average and standard deviation of sample means\n",
    "empirical_avg_sample_means = np.mean(sample_means)\n",
    "empirical_std_dev_sample_means = np.std(sample_means)\n",
    "\n",
    "# Display the results\n",
    "print(\"Empirical average of sample means:\", empirical_avg_sample_means)\n",
    "print(\"Empirical standard deviation of sample means:\", empirical_std_dev_sample_means)"
   ]
  },
  {
   "cell_type": "code",
   "execution_count": 10,
   "metadata": {},
   "outputs": [
    {
     "name": "stdout",
     "output_type": "stream",
     "text": [
      "Confidence interval for 80% confidence level:\n",
      "(19.30, 20.70)\n",
      "Confidence interval for 90% confidence level:\n",
      "(19.10, 20.90)\n",
      "Confidence interval for 95% confidence level:\n",
      "(18.93, 21.07)\n"
     ]
    }
   ],
   "source": [
    "import scipy.stats as stats\n",
    "\n",
    "# Population parameters\n",
    "population_mean = 20\n",
    "population_std_dev = 3\n",
    "\n",
    "# Sample size\n",
    "sample_size = 30\n",
    "\n",
    "# Confidence levels\n",
    "confidence_levels = [0.80, 0.90, 0.95]\n",
    "\n",
    "# Calculate z-scores for each confidence level\n",
    "z_scores = [stats.norm.ppf(1 - (1 - confidence_level) / 2) for confidence_level in confidence_levels]\n",
    "\n",
    "# Calculate standard error\n",
    "standard_error = population_std_dev / np.sqrt(sample_size)\n",
    "\n",
    "# Calculate confidence intervals\n",
    "confidence_intervals = [(population_mean - z * standard_error, population_mean + z * standard_error) for z in z_scores]\n",
    "\n",
    "# Display the results\n",
    "for i, confidence_level in enumerate(confidence_levels):\n",
    "    print(\"Confidence interval for {}% confidence level:\".format(int(confidence_level * 100)))\n",
    "    print(\"({:.2f}, {:.2f})\".format(confidence_intervals[i][0], confidence_intervals[i][1]))\n"
   ]
  },
  {
   "cell_type": "markdown",
   "metadata": {},
   "source": [
    "7. A process in an electronic manufacturing company produces integrated circuits with an\n",
    "error rate of only 0.1% (and the standard deviation is known to be .05%) The company buys\n",
    "a new machine to increase production, but you are afraid that the calibration of the machine\n",
    "might not be right, and that the failure rate in that production line will be higher. You ask\n",
    "the provider for a testing, where 1000 electronic chips are produced and tested, and the\n",
    "failure rate equals 0.101%. If you company typically uses significance levels of 1% to make\n",
    "investment decisions, should you recommend installing the new machine, or not?"
   ]
  },
  {
   "cell_type": "code",
   "execution_count": 11,
   "metadata": {},
   "outputs": [
    {
     "name": "stdout",
     "output_type": "stream",
     "text": [
      "Z-score: 63.24555320336759\n",
      "Critical value: 2.3263478740408408\n",
      "Recommend installing the new machine.\n"
     ]
    }
   ],
   "source": [
    "import scipy.stats as stats\n",
    "\n",
    "# Known population parameters\n",
    "population_proportion = 0.001  # 0.1% error rate\n",
    "population_std_dev = 0.05\n",
    "\n",
    "# Sample data\n",
    "sample_size = 1000\n",
    "sample_proportion = 0.101  # 0.101% failure rate\n",
    "\n",
    "# Calculate the z-score\n",
    "z_score = (sample_proportion - population_proportion) / (population_std_dev / (sample_size ** 0.5))\n",
    "\n",
    "# Calculate the critical value for a one-tailed test with a significance level of 1%\n",
    "critical_value = stats.norm.ppf(1 - 0.01)\n",
    "\n",
    "# Print the z-score and critical value\n",
    "print(\"Z-score:\", z_score)\n",
    "print(\"Critical value:\", critical_value)\n",
    "\n",
    "# Compare the z-score with the critical value\n",
    "if z_score > critical_value:\n",
    "    print(\"Recommend installing the new machine.\")\n",
    "else:\n",
    "    print(\"Do not recommend installing the new machine.\")\n"
   ]
  },
  {
   "cell_type": "markdown",
   "metadata": {},
   "source": [
    "8. The production manager of an electronic payment has asked for your help to analyse a risk\n",
    "management process. The process entails sending a large number of controlled hack attempts\n",
    "to their system and measure the slow down on the company servers. So far, the slowdown is\n",
    "only 1% in average when the attacks are sent (and the standard distribution of the\n",
    "slowdowns is about 0.1%). They want to install a new server facility and in their first 5\n",
    "hack attempts, the average slowdown was already 1.1%. Should they stop the implementation\n",
    "1of the new server facility? Since this decision would have a big economic impact, you want\n",
    "to select a significance level of 0.01"
   ]
  },
  {
   "cell_type": "code",
   "execution_count": 12,
   "metadata": {},
   "outputs": [
    {
     "name": "stdout",
     "output_type": "stream",
     "text": [
      "Z-score: 2.236067977499788\n",
      "Critical value: 2.3263478740408408\n",
      "Do not recommend stopping the implementation of the new server facility.\n"
     ]
    }
   ],
   "source": [
    "import scipy.stats as stats\n",
    "\n",
    "# Known population parameters\n",
    "population_mean = 0.01  # 1% slowdown\n",
    "population_std_dev = 0.001  # 0.1% standard deviation\n",
    "\n",
    "# Sample data\n",
    "sample_size = 5\n",
    "sample_mean = 0.011  # 1.1% slowdown\n",
    "\n",
    "# Calculate the z-score\n",
    "z_score = (sample_mean - population_mean) / (population_std_dev / (sample_size ** 0.5))\n",
    "\n",
    "# Calculate the critical value for a one-tailed test with a significance level of 0.01\n",
    "critical_value = stats.norm.ppf(1 - 0.01)\n",
    "\n",
    "# Print the z-score and critical value\n",
    "print(\"Z-score:\", z_score)\n",
    "print(\"Critical value:\", critical_value)\n",
    "\n",
    "# Compare the z-score with the critical value\n",
    "if z_score > critical_value:\n",
    "    print(\"Recommend stopping the implementation of the new server facility.\")\n",
    "else:\n",
    "    print(\"Do not recommend stopping the implementation of the new server facility.\")\n"
   ]
  },
  {
   "cell_type": "markdown",
   "metadata": {},
   "source": []
  }
 ],
 "metadata": {
  "kernelspec": {
   "display_name": "base",
   "language": "python",
   "name": "python3"
  },
  "language_info": {
   "codemirror_mode": {
    "name": "ipython",
    "version": 3
   },
   "file_extension": ".py",
   "mimetype": "text/x-python",
   "name": "python",
   "nbconvert_exporter": "python",
   "pygments_lexer": "ipython3",
   "version": "3.11.7"
  }
 },
 "nbformat": 4,
 "nbformat_minor": 2
}
