{
 "cells": [
  {
   "cell_type": "code",
   "execution_count": 3,
   "metadata": {},
   "outputs": [],
   "source": [
    "import pandas as pd\n",
    "import numpy as np\n"
   ]
  },
  {
   "cell_type": "code",
   "execution_count": 10,
   "metadata": {},
   "outputs": [
    {
     "name": "stdout",
     "output_type": "stream",
     "text": [
      "   Frequency  count\n",
      "0          0     19\n",
      "1          9     13\n",
      "2          5     13\n",
      "3          1     12\n",
      "4          8     11\n",
      "5          3     10\n",
      "6          7      7\n",
      "7          6      6\n",
      "8          4      5\n",
      "9          2      4\n"
     ]
    }
   ],
   "source": [
    "# 1. Frequency table for categorical data\n",
    "data1 = pd.read_excel(\"/home/akanchha/Desktop/EDHEC/MSc-Data_Management_and_Business_Analytics/First_Trimester/3.1_data_session 3.xlsx\",sheet_name='data2')\n",
    "frequency_table = data1['Values'].value_counts().reset_index().rename(columns ={'index':'Values', 'Values':'Frequency'})\n",
    "print(frequency_table)"
   ]
  },
  {
   "cell_type": "code",
   "execution_count": 14,
   "metadata": {},
   "outputs": [
    {
     "name": "stdout",
     "output_type": "stream",
     "text": [
      "\n",
      "Distribution for continuous data:\n",
      "Values\n",
      "(-3.661, -2.97]       10\n",
      "(-2.97, -2.286]       47\n",
      "(-2.286, -1.602]     231\n",
      "(-1.602, -0.918]     627\n",
      "(-0.918, -0.234]    1099\n",
      "(-0.234, 0.45]      1325\n",
      "(0.45, 1.134]       1051\n",
      "(1.134, 1.818]       488\n",
      "(1.818, 2.502]       133\n",
      "(2.502, 3.186]        27\n",
      "Name: count, dtype: int64\n"
     ]
    }
   ],
   "source": [
    "# 2. Distribution for continuous data\n",
    "data2 = pd.read_excel(\"/home/akanchha/Desktop/EDHEC/MSc-Data_Management_and_Business_Analytics/First_Trimester/3.1_data_session 3.xlsx\",sheet_name='data1')\n",
    "\n",
    "bins = 10\n",
    "distribution = pd.cut(data2['Values'], bins=bins).value_counts().sort_index()\n",
    "print(\"\\nDistribution for continuous data:\")\n",
    "print(distribution)"
   ]
  },
  {
   "cell_type": "code",
   "execution_count": null,
   "metadata": {},
   "outputs": [],
   "source": []
  }
 ],
 "metadata": {
  "kernelspec": {
   "display_name": "base",
   "language": "python",
   "name": "python3"
  },
  "language_info": {
   "codemirror_mode": {
    "name": "ipython",
    "version": 3
   },
   "file_extension": ".py",
   "mimetype": "text/x-python",
   "name": "python",
   "nbconvert_exporter": "python",
   "pygments_lexer": "ipython3",
   "version": "3.11.7"
  }
 },
 "nbformat": 4,
 "nbformat_minor": 2
}
