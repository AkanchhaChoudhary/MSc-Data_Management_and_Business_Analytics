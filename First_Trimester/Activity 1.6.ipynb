{
 "cells": [
  {
   "cell_type": "markdown",
   "metadata": {},
   "source": [
    "1 Exercises\n",
    "\n",
    "For each of the next 10 exercises, create a new code cell and write your solution"
   ]
  },
  {
   "cell_type": "markdown",
   "metadata": {},
   "source": [
    "1. Compute the product of three numbers (6, -4, 2) and print the result on screen"
   ]
  },
  {
   "cell_type": "code",
   "execution_count": 1,
   "metadata": {},
   "outputs": [
    {
     "name": "stdout",
     "output_type": "stream",
     "text": [
      "-48\n"
     ]
    }
   ],
   "source": [
    "print(6*(-4)*2)"
   ]
  },
  {
   "cell_type": "markdown",
   "metadata": {},
   "source": [
    "2. Use python to print the expression ‘I like using ‘quotes’ and also “quotes” in my text."
   ]
  },
  {
   "cell_type": "code",
   "execution_count": 2,
   "metadata": {},
   "outputs": [
    {
     "name": "stdout",
     "output_type": "stream",
     "text": [
      "I like using quotes\n",
      "I like using \"quotes\" \n"
     ]
    }
   ],
   "source": [
    "print('I like using quotes')\n",
    "print('I like using \"quotes\" ')"
   ]
  },
  {
   "cell_type": "markdown",
   "metadata": {},
   "source": [
    "3. Print the result of the following operations using python:\n",
    "   1.  5 + 4 + 3 + 2 + 1\n",
    "   2.  5 ∗ 4 ∗ 3 ∗ 2 ∗ 1\n",
    "   3.  6^4"
   ]
  },
  {
   "cell_type": "code",
   "execution_count": 3,
   "metadata": {},
   "outputs": [
    {
     "name": "stdout",
     "output_type": "stream",
     "text": [
      "15\n",
      "120\n",
      "2\n"
     ]
    }
   ],
   "source": [
    "print(5+4+3+2+1)\n",
    "print(5*4*3*2*1)\n",
    "print(6^4)\n"
   ]
  },
  {
   "cell_type": "markdown",
   "metadata": {},
   "source": [
    "4. what is the rest of dividing 8764 by 7?"
   ]
  },
  {
   "cell_type": "code",
   "execution_count": 4,
   "metadata": {},
   "outputs": [
    {
     "data": {
      "text/plain": [
       "1252"
      ]
     },
     "execution_count": 4,
     "metadata": {},
     "output_type": "execute_result"
    }
   ],
   "source": [
    "8764//7"
   ]
  },
  {
   "cell_type": "markdown",
   "metadata": {},
   "source": [
    "5. and the mod division of the previous numbers?"
   ]
  },
  {
   "cell_type": "code",
   "execution_count": 5,
   "metadata": {},
   "outputs": [
    {
     "data": {
      "text/plain": [
       "0"
      ]
     },
     "execution_count": 5,
     "metadata": {},
     "output_type": "execute_result"
    }
   ],
   "source": [
    "1252%2"
   ]
  },
  {
   "cell_type": "markdown",
   "metadata": {},
   "source": [
    "6. verify using a boolean expression in pytyhon that 4^3<3^4\n"
   ]
  },
  {
   "cell_type": "code",
   "execution_count": 16,
   "metadata": {},
   "outputs": [
    {
     "data": {
      "text/plain": [
       "True"
      ]
     },
     "execution_count": 16,
     "metadata": {},
     "output_type": "execute_result"
    }
   ],
   "source": [
    "4**3<3**4"
   ]
  },
  {
   "cell_type": "code",
   "execution_count": 18,
   "metadata": {},
   "outputs": [],
   "source": [
    "import numba"
   ]
  },
  {
   "cell_type": "markdown",
   "metadata": {},
   "source": [
    "7. Print all the available functions in the library called numba"
   ]
  },
  {
   "cell_type": "code",
   "execution_count": 19,
   "metadata": {},
   "outputs": [
    {
     "data": {
      "text/plain": [
       "['ByteCodeSupportError',\n",
       " 'CompilerError',\n",
       " 'ConstantInferenceError',\n",
       " 'DeprecationError',\n",
       " 'ForbiddenConstruct',\n",
       " 'ForceLiteralArg',\n",
       " 'IRError',\n",
       " 'InternalError',\n",
       " 'InternalTargetMismatchError',\n",
       " 'LiteralTypingError',\n",
       " 'LoweringError',\n",
       " 'NotDefinedError',\n",
       " 'NumbaAssertionError',\n",
       " 'NumbaAttributeError',\n",
       " 'NumbaDebugInfoWarning',\n",
       " 'NumbaDeprecationWarning',\n",
       " 'NumbaError',\n",
       " 'NumbaExperimentalFeatureWarning',\n",
       " 'NumbaIRAssumptionWarning',\n",
       " 'NumbaIndexError',\n",
       " 'NumbaInvalidConfigWarning',\n",
       " 'NumbaKeyError',\n",
       " 'NumbaNotImplementedError',\n",
       " 'NumbaParallelSafetyWarning',\n",
       " 'NumbaPedanticWarning',\n",
       " 'NumbaPendingDeprecationWarning',\n",
       " 'NumbaPerformanceWarning',\n",
       " 'NumbaRuntimeError',\n",
       " 'NumbaSystemWarning',\n",
       " 'NumbaTypeError',\n",
       " 'NumbaTypeSafetyWarning',\n",
       " 'NumbaValueError',\n",
       " 'NumbaWarning',\n",
       " 'RedefinedError',\n",
       " 'RequireLiteralValue',\n",
       " 'TypingError',\n",
       " 'UnsupportedError',\n",
       " 'UnsupportedParforsError',\n",
       " 'UnsupportedRewriteError',\n",
       " 'UntypedAttributeError',\n",
       " 'VerificationError',\n",
       " '__all__',\n",
       " '__builtins__',\n",
       " '__cached__',\n",
       " '__doc__',\n",
       " '__file__',\n",
       " '__loader__',\n",
       " '__name__',\n",
       " '__package__',\n",
       " '__path__',\n",
       " '__spec__',\n",
       " '__version__',\n",
       " '_devicearray',\n",
       " '_dispatcher',\n",
       " '_dynfunc',\n",
       " '_ensure_critical_deps',\n",
       " '_ensure_llvm',\n",
       " '_helperlib',\n",
       " '_min_llvm_version',\n",
       " '_min_llvmlite_version',\n",
       " '_try_enable_svml',\n",
       " '_version',\n",
       " 'b1',\n",
       " 'bool_',\n",
       " 'boolean',\n",
       " 'byte',\n",
       " 'c16',\n",
       " 'c8',\n",
       " 'carray',\n",
       " 'cfunc',\n",
       " 'char',\n",
       " 'cloudpickle',\n",
       " 'complex128',\n",
       " 'complex64',\n",
       " 'config',\n",
       " 'core',\n",
       " 'cpython',\n",
       " 'deferred_type',\n",
       " 'double',\n",
       " 'errors',\n",
       " 'experimental',\n",
       " 'extending',\n",
       " 'f4',\n",
       " 'f8',\n",
       " 'farray',\n",
       " 'ffi',\n",
       " 'ffi_forced_object',\n",
       " 'float32',\n",
       " 'float64',\n",
       " 'float_',\n",
       " 'from_dtype',\n",
       " 'gdb',\n",
       " 'gdb_breakpoint',\n",
       " 'gdb_init',\n",
       " 'get_num_threads',\n",
       " 'get_parallel_chunksize',\n",
       " 'get_thread_id',\n",
       " 'guvectorize',\n",
       " 'i1',\n",
       " 'i2',\n",
       " 'i4',\n",
       " 'i8',\n",
       " 'int16',\n",
       " 'int32',\n",
       " 'int64',\n",
       " 'int8',\n",
       " 'int_',\n",
       " 'intc',\n",
       " 'intp',\n",
       " 'jit',\n",
       " 'jit_module',\n",
       " 'literal_unroll',\n",
       " 'literally',\n",
       " 'llvmlite',\n",
       " 'long_',\n",
       " 'longlong',\n",
       " 'misc',\n",
       " 'njit',\n",
       " 'none',\n",
       " 'np',\n",
       " 'numba',\n",
       " 'objmode',\n",
       " 'optional',\n",
       " 'parallel_chunksize',\n",
       " 'parfors',\n",
       " 'platform',\n",
       " 'pndindex',\n",
       " 'prange',\n",
       " 're',\n",
       " 'set_num_threads',\n",
       " 'set_parallel_chunksize',\n",
       " 'short',\n",
       " 'size_t',\n",
       " 'ssize_t',\n",
       " 'stencil',\n",
       " 'stencils',\n",
       " 'sys',\n",
       " 'test',\n",
       " 'threading_layer',\n",
       " 'typed',\n",
       " 'typeof',\n",
       " 'types',\n",
       " 'u1',\n",
       " 'u2',\n",
       " 'u4',\n",
       " 'u8',\n",
       " 'uchar',\n",
       " 'uint',\n",
       " 'uint16',\n",
       " 'uint32',\n",
       " 'uint64',\n",
       " 'uint8',\n",
       " 'uintc',\n",
       " 'uintp',\n",
       " 'ulong',\n",
       " 'ulonglong',\n",
       " 'ushort',\n",
       " 'vectorize',\n",
       " 'version_info',\n",
       " 'void',\n",
       " 'warnings']"
      ]
     },
     "execution_count": 19,
     "metadata": {},
     "output_type": "execute_result"
    }
   ],
   "source": [
    "dir(numba)"
   ]
  },
  {
   "cell_type": "markdown",
   "metadata": {},
   "source": [
    "8. Use the math package to compute the following expression\n",
    "• 𝑒\n",
    "𝜋 − 1"
   ]
  },
  {
   "cell_type": "code",
   "execution_count": 23,
   "metadata": {},
   "outputs": [],
   "source": [
    "import math"
   ]
  },
  {
   "cell_type": "code",
   "execution_count": 30,
   "metadata": {},
   "outputs": [],
   "source": [
    "from math import exp,pi"
   ]
  },
  {
   "cell_type": "code",
   "execution_count": 31,
   "metadata": {},
   "outputs": [
    {
     "data": {
      "text/plain": [
       "['__doc__',\n",
       " '__file__',\n",
       " '__loader__',\n",
       " '__name__',\n",
       " '__package__',\n",
       " '__spec__',\n",
       " 'acos',\n",
       " 'acosh',\n",
       " 'asin',\n",
       " 'asinh',\n",
       " 'atan',\n",
       " 'atan2',\n",
       " 'atanh',\n",
       " 'cbrt',\n",
       " 'ceil',\n",
       " 'comb',\n",
       " 'copysign',\n",
       " 'cos',\n",
       " 'cosh',\n",
       " 'degrees',\n",
       " 'dist',\n",
       " 'e',\n",
       " 'erf',\n",
       " 'erfc',\n",
       " 'exp',\n",
       " 'exp2',\n",
       " 'expm1',\n",
       " 'fabs',\n",
       " 'factorial',\n",
       " 'floor',\n",
       " 'fmod',\n",
       " 'frexp',\n",
       " 'fsum',\n",
       " 'gamma',\n",
       " 'gcd',\n",
       " 'hypot',\n",
       " 'inf',\n",
       " 'isclose',\n",
       " 'isfinite',\n",
       " 'isinf',\n",
       " 'isnan',\n",
       " 'isqrt',\n",
       " 'lcm',\n",
       " 'ldexp',\n",
       " 'lgamma',\n",
       " 'log',\n",
       " 'log10',\n",
       " 'log1p',\n",
       " 'log2',\n",
       " 'modf',\n",
       " 'nan',\n",
       " 'nextafter',\n",
       " 'perm',\n",
       " 'pi',\n",
       " 'pow',\n",
       " 'prod',\n",
       " 'radians',\n",
       " 'remainder',\n",
       " 'sin',\n",
       " 'sinh',\n",
       " 'sqrt',\n",
       " 'tan',\n",
       " 'tanh',\n",
       " 'tau',\n",
       " 'trunc',\n",
       " 'ulp']"
      ]
     },
     "execution_count": 31,
     "metadata": {},
     "output_type": "execute_result"
    }
   ],
   "source": [
    "dir(math)"
   ]
  },
  {
   "cell_type": "code",
   "execution_count": 32,
   "metadata": {},
   "outputs": [
    {
     "data": {
      "text/plain": [
       "23.140692632779267"
      ]
     },
     "execution_count": 32,
     "metadata": {},
     "output_type": "execute_result"
    }
   ],
   "source": [
    "exp(pi)"
   ]
  },
  {
   "cell_type": "code",
   "execution_count": null,
   "metadata": {},
   "outputs": [],
   "source": []
  }
 ],
 "metadata": {
  "kernelspec": {
   "display_name": "Python 3 (ipykernel)",
   "language": "python",
   "name": "python3"
  },
  "language_info": {
   "codemirror_mode": {
    "name": "ipython",
    "version": 3
   },
   "file_extension": ".py",
   "mimetype": "text/x-python",
   "name": "python",
   "nbconvert_exporter": "python",
   "pygments_lexer": "ipython3",
   "version": "3.11.7"
  }
 },
 "nbformat": 4,
 "nbformat_minor": 4
}
