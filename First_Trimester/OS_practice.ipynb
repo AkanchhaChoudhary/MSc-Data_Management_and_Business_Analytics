{
 "cells": [
  {
   "cell_type": "code",
   "execution_count": 3,
   "metadata": {},
   "outputs": [
    {
     "data": {
      "text/plain": [
       "'/home/akanchha/Desktop/EDHEC/MSc-Data_Management_and_Business_Analytics/First_Trimester'"
      ]
     },
     "execution_count": 3,
     "metadata": {},
     "output_type": "execute_result"
    }
   ],
   "source": [
    "import os\n",
    "my_dir = os.getcwd()\n",
    "my_dir"
   ]
  },
  {
   "cell_type": "code",
   "execution_count": 4,
   "metadata": {},
   "outputs": [
    {
     "data": {
      "text/plain": [
       "['Activity 1.6.ipynb',\n",
       " 'Jupyter_Notebook_Cheat_Sheet.pdf',\n",
       " 'data',\n",
       " '3.5_solutions.pdf',\n",
       " 'Activity3.2.ipynb',\n",
       " 'OS_practice.ipynb',\n",
       " '2,5_solutions.pdf',\n",
       " 'Activity  2.3.ipynb',\n",
       " 'Activity 2.4.ipynb',\n",
       " '3.2_solutions.pdf',\n",
       " 'Activity4.2.ipynb',\n",
       " 'Activity1.4.ipynb',\n",
       " 'Activity4.4.ipynb',\n",
       " 'Activity3.4.ipynb',\n",
       " 'Activity3.5.ipynb',\n",
       " 'Activity4.3.ipynb',\n",
       " 'Activity3.3.ipynb',\n",
       " '3.3_solutions.pdf',\n",
       " '1,6_Solutions.pdf',\n",
       " 'Activity2.2.ipynb',\n",
       " '2,3_solutions.pdf',\n",
       " '2,4_solutions.pdf',\n",
       " 'Activity2.5.ipynb',\n",
       " 'Activity4.1.ipynb',\n",
       " '2,6_solutions.pdf',\n",
       " 'python-cheatsheets.pdf',\n",
       " 'Activity2.6.ipynb',\n",
       " '3.4_activity.pdf',\n",
       " '2,2_solutions.pdf.pdf']"
      ]
     },
     "execution_count": 4,
     "metadata": {},
     "output_type": "execute_result"
    }
   ],
   "source": [
    "os.listdir()"
   ]
  },
  {
   "cell_type": "code",
   "execution_count": 5,
   "metadata": {},
   "outputs": [
    {
     "data": {
      "text/plain": [
       "True"
      ]
     },
     "execution_count": 5,
     "metadata": {},
     "output_type": "execute_result"
    }
   ],
   "source": [
    "os.path.isfile('Activity2.2.ipynb') # this will check if given argument is file or folder"
   ]
  },
  {
   "cell_type": "code",
   "execution_count": 6,
   "metadata": {},
   "outputs": [
    {
     "data": {
      "text/plain": [
       "False"
      ]
     },
     "execution_count": 6,
     "metadata": {},
     "output_type": "execute_result"
    }
   ],
   "source": [
    "os.path.isfile('data')# this will give false which means data is a folder and not file"
   ]
  },
  {
   "cell_type": "code",
   "execution_count": 8,
   "metadata": {},
   "outputs": [
    {
     "data": {
      "text/plain": [
       "['CashFlow.xlsx',\n",
       " 'fortune500.csv',\n",
       " 'GermanDataClean_OUT.csv',\n",
       " 'giltBondPrices.txt',\n",
       " 'DowJonesPrices.csv',\n",
       " 'DowJonesPrices - Copy.csv']"
      ]
     },
     "execution_count": 8,
     "metadata": {},
     "output_type": "execute_result"
    }
   ],
   "source": [
    "os.listdir('./data') # this will all files presnt in current directory means data folder"
   ]
  },
  {
   "cell_type": "code",
   "execution_count": 10,
   "metadata": {},
   "outputs": [
    {
     "data": {
      "text/plain": [
       "['LICENSE', '.git', 'First_Trimester', '.gitignore', 'README.md']"
      ]
     },
     "execution_count": 10,
     "metadata": {},
     "output_type": "execute_result"
    }
   ],
   "source": [
    "os.listdir('../') # while the double dot tell file of previous folder"
   ]
  },
  {
   "cell_type": "code",
   "execution_count": null,
   "metadata": {},
   "outputs": [],
   "source": []
  }
 ],
 "metadata": {
  "kernelspec": {
   "display_name": "base",
   "language": "python",
   "name": "python3"
  },
  "language_info": {
   "codemirror_mode": {
    "name": "ipython",
    "version": 3
   },
   "file_extension": ".py",
   "mimetype": "text/x-python",
   "name": "python",
   "nbconvert_exporter": "python",
   "pygments_lexer": "ipython3",
   "version": "3.11.7"
  }
 },
 "nbformat": 4,
 "nbformat_minor": 2
}
