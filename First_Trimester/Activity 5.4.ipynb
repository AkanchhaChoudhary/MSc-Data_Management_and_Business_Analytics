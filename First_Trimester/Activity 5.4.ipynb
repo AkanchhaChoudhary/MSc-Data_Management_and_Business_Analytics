{
 "cells": [
  {
   "cell_type": "markdown",
   "metadata": {},
   "source": [
    "5.4_activity\n",
    "\n",
    "1 Exercises\n",
    "\n",
    "1.0.1 summarising with pandas\n",
    "\n",
    "For each of the next exercises, create a new code cell and write your solution.\n",
    "\n",
    "You will need the folder data_mixed in the same location as your notebook"
   ]
  },
  {
   "cell_type": "markdown",
   "metadata": {},
   "source": [
    "1. Write a function that loads the csv files ^DJI.csv ^GSPC.csv, and\n",
    "GermanDataClean_OUT.csvand returns a dictionary with keys df1, df2, df_options,\n",
    "and values the pandas dataframes with the informations of teh files ^DJI.csv ^GSPC.csv,\n",
    "and GermanDataClean_OUT.csv respectively."
   ]
  },
  {
   "cell_type": "code",
   "execution_count": 17,
   "metadata": {},
   "outputs": [],
   "source": [
    "import pandas as pd\n",
    "\n",
    "def load_csv_files():\n",
    "    folder_path = \"data_mixed/\"\n",
    "    df1 = pd.read_csv(folder_path + \"^DJI.csv\")\n",
    "    df2 = pd.read_csv(folder_path + \"^GSPC.csv\")\n",
    "    df_options = pd.read_csv(folder_path + \"GermanDataClean_OUT.csv\")\n",
    "    \n",
    "    return {\"df1\": df1, \"df2\": df2, \"df_options\": df_options}\n",
    "\n",
    "# Example usage:\n",
    "dataframes_dict = load_csv_files()\n",
    "\n"
   ]
  },
  {
   "cell_type": "markdown",
   "metadata": {},
   "source": [
    "2. What are the number of lines and number of columns of df1, df2, df_options?"
   ]
  },
  {
   "cell_type": "code",
   "execution_count": 18,
   "metadata": {},
   "outputs": [
    {
     "name": "stdout",
     "output_type": "stream",
     "text": [
      "DataFrame df1 has 1259 rows and 7 columns.\n",
      "DataFrame df2 has 17308 rows and 7 columns.\n",
      "DataFrame df_options has 4327 rows and 8 columns.\n"
     ]
    }
   ],
   "source": [
    "for key, dataframe in dataframes_dict.items():\n",
    "    num_rows, num_columns = dataframe.shape\n",
    "    print(f\"DataFrame {key} has {num_rows} rows and {num_columns} columns.\")"
   ]
  },
  {
   "cell_type": "markdown",
   "metadata": {},
   "source": [
    "3. Using the .info() method, describe the datatypes of the columns on each of the dataframes."
   ]
  },
  {
   "cell_type": "code",
   "execution_count": 19,
   "metadata": {},
   "outputs": [
    {
     "name": "stdout",
     "output_type": "stream",
     "text": [
      "\n",
      "DataFrame df1 info:\n",
      "<class 'pandas.core.frame.DataFrame'>\n",
      "RangeIndex: 1259 entries, 0 to 1258\n",
      "Data columns (total 7 columns):\n",
      " #   Column     Non-Null Count  Dtype  \n",
      "---  ------     --------------  -----  \n",
      " 0   Date       1259 non-null   object \n",
      " 1   Open       1259 non-null   float64\n",
      " 2   High       1259 non-null   float64\n",
      " 3   Low        1259 non-null   float64\n",
      " 4   Close      1259 non-null   float64\n",
      " 5   Adj Close  1259 non-null   float64\n",
      " 6   Volume     1259 non-null   int64  \n",
      "dtypes: float64(5), int64(1), object(1)\n",
      "memory usage: 69.0+ KB\n",
      "None\n",
      "\n",
      "DataFrame df2 info:\n",
      "<class 'pandas.core.frame.DataFrame'>\n",
      "RangeIndex: 17308 entries, 0 to 17307\n",
      "Data columns (total 7 columns):\n",
      " #   Column     Non-Null Count  Dtype  \n",
      "---  ------     --------------  -----  \n",
      " 0   Date       17308 non-null  object \n",
      " 1   Open       17308 non-null  float64\n",
      " 2   High       17308 non-null  float64\n",
      " 3   Low        17308 non-null  float64\n",
      " 4   Close      17308 non-null  float64\n",
      " 5   Adj Close  17308 non-null  float64\n",
      " 6   Volume     17308 non-null  int64  \n",
      "dtypes: float64(5), int64(1), object(1)\n",
      "memory usage: 946.7+ KB\n",
      "None\n",
      "\n",
      "DataFrame df_options info:\n",
      "<class 'pandas.core.frame.DataFrame'>\n",
      "RangeIndex: 4327 entries, 0 to 4326\n",
      "Data columns (total 8 columns):\n",
      " #   Column            Non-Null Count  Dtype  \n",
      "---  ------            --------------  -----  \n",
      " 0   TradeDate         4327 non-null   object \n",
      " 1   Currency          4327 non-null   object \n",
      " 2   OptionType        4327 non-null   object \n",
      " 3   Ticker            4327 non-null   object \n",
      " 4   TradedStockPrice  4327 non-null   float64\n",
      " 5   NumOptions        4327 non-null   int64  \n",
      " 6   Strike            4327 non-null   int64  \n",
      " 7   ExpiryDate        4327 non-null   object \n",
      "dtypes: float64(1), int64(2), object(5)\n",
      "memory usage: 270.6+ KB\n",
      "None\n"
     ]
    }
   ],
   "source": [
    "for key, dataframe in dataframes_dict.items():\n",
    "    print(f\"\\nDataFrame {key} info:\")\n",
    "    print(dataframe.info())"
   ]
  },
  {
   "cell_type": "markdown",
   "metadata": {},
   "source": [
    "4. For each numeric variable in the data sets, give the mean, standard deviation, maximum ,\n",
    "minimum values"
   ]
  },
  {
   "cell_type": "code",
   "execution_count": 21,
   "metadata": {},
   "outputs": [
    {
     "name": "stdout",
     "output_type": "stream",
     "text": [
      "\n",
      "Summary statistics for DataFrame df1:\n",
      "              Date          Open          High           Low         Close  \\\n",
      "count         1259   1259.000000   1259.000000   1259.000000   1259.000000   \n",
      "unique        1259           NaN           NaN           NaN           NaN   \n",
      "top     2014-09-25           NaN           NaN           NaN           NaN   \n",
      "freq             1           NaN           NaN           NaN           NaN   \n",
      "mean           NaN  21188.623193  21286.748301  21083.127467  21191.645970   \n",
      "std            NaN   3578.285028   3591.107044   3563.662531   3577.178399   \n",
      "min            NaN  15676.259766  15897.820313  15370.330078  15660.179688   \n",
      "25%            NaN  17840.714844  17919.484375  17751.384765  17841.299805   \n",
      "50%            NaN  20715.410156  20792.199219  20660.679688  20728.490234   \n",
      "75%            NaN  24835.834961  24950.750000  24718.365235  24832.790039   \n",
      "max            NaN  27364.689453  27398.679688  27294.169922  27359.160156   \n",
      "\n",
      "           Adj Close        Volume  \n",
      "count    1259.000000  1.259000e+03  \n",
      "unique           NaN           NaN  \n",
      "top              NaN           NaN  \n",
      "freq             NaN           NaN  \n",
      "mean    21191.645970  2.281002e+08  \n",
      "std      3577.178399  1.416805e+08  \n",
      "min     15660.179688  4.035000e+07  \n",
      "25%     17841.299805  1.007850e+08  \n",
      "50%     20728.490234  2.373700e+08  \n",
      "75%     24832.790039  3.151350e+08  \n",
      "max     27359.160156  2.190810e+09  \n",
      "\n",
      "Summary statistics for DataFrame df2:\n",
      "              Date          Open          High           Low         Close  \\\n",
      "count        17308  17308.000000  17308.000000  17308.000000  17308.000000   \n",
      "unique       17308           NaN           NaN           NaN           NaN   \n",
      "top     1950-01-03           NaN           NaN           NaN           NaN   \n",
      "freq             1           NaN           NaN           NaN           NaN   \n",
      "mean           NaN    562.223261    565.530248    558.728235    562.347006   \n",
      "std            NaN    667.237622    670.571447    663.625164    667.331694   \n",
      "min            NaN     16.660000     16.660000     16.660000     16.660000   \n",
      "25%            NaN     85.737499     86.397501     85.019997     85.739998   \n",
      "50%            NaN    165.539993    166.345001    164.834999    165.539993   \n",
      "75%            NaN   1089.989990   1097.084961   1080.044983   1089.920013   \n",
      "max            NaN   2936.760010   2940.909912   2927.110107   2930.750000   \n",
      "\n",
      "           Adj Close        Volume  \n",
      "count   17308.000000  1.730800e+04  \n",
      "unique           NaN           NaN  \n",
      "top              NaN           NaN  \n",
      "freq             NaN           NaN  \n",
      "mean      562.347006  9.110549e+08  \n",
      "std       667.331694  1.539511e+09  \n",
      "min        16.660000  6.800000e+05  \n",
      "25%        85.739998  8.850000e+06  \n",
      "50%       165.539993  9.114500e+07  \n",
      "75%      1089.920013  1.167475e+09  \n",
      "max      2930.750000  1.145623e+10  \n",
      "\n",
      "Summary statistics for DataFrame df_options:\n",
      "         TradeDate Currency OptionType Ticker  TradedStockPrice   NumOptions  \\\n",
      "count         4327     4327       4327   4327       4327.000000  4327.000000   \n",
      "unique         901        1          2      8               NaN          NaN   \n",
      "top     19/11/2015      USD        PUT   AMZN               NaN          NaN   \n",
      "freq             9     4327       2197    610               NaN          NaN   \n",
      "mean           NaN      NaN        NaN    NaN        115.402071   500.402126   \n",
      "std            NaN      NaN        NaN    NaN        155.382578   288.989783   \n",
      "min            NaN      NaN        NaN    NaN          1.590000     0.000000   \n",
      "25%            NaN      NaN        NaN    NaN         26.429512   250.000000   \n",
      "50%            NaN      NaN        NaN    NaN         57.959999   510.000000   \n",
      "75%            NaN      NaN        NaN    NaN        126.190002   750.000000   \n",
      "max            NaN      NaN        NaN    NaN        844.359985   990.000000   \n",
      "\n",
      "             Strike  ExpiryDate  \n",
      "count   4327.000000        4327  \n",
      "unique          NaN        1382  \n",
      "top             NaN  28/07/2014  \n",
      "freq            NaN          13  \n",
      "mean     114.922348         NaN  \n",
      "std      155.535605         NaN  \n",
      "min        1.000000         NaN  \n",
      "25%       26.000000         NaN  \n",
      "50%       58.000000         NaN  \n",
      "75%      125.000000         NaN  \n",
      "max      880.000000         NaN  \n"
     ]
    }
   ],
   "source": [
    "for key, dataframe in dataframes_dict.items():\n",
    "    print(f\"\\nSummary statistics for DataFrame {key}:\")\n",
    "    print(dataframe.describe(include='all'))"
   ]
  },
  {
   "cell_type": "code",
   "execution_count": null,
   "metadata": {},
   "outputs": [],
   "source": []
  }
 ],
 "metadata": {
  "kernelspec": {
   "display_name": "base",
   "language": "python",
   "name": "python3"
  },
  "language_info": {
   "codemirror_mode": {
    "name": "ipython",
    "version": 3
   },
   "file_extension": ".py",
   "mimetype": "text/x-python",
   "name": "python",
   "nbconvert_exporter": "python",
   "pygments_lexer": "ipython3",
   "version": "3.11.7"
  }
 },
 "nbformat": 4,
 "nbformat_minor": 2
}
