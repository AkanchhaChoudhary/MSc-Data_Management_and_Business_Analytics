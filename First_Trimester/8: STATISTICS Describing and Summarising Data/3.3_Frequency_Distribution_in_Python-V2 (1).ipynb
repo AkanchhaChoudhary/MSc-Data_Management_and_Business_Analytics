{
 "cells": [
  {
   "cell_type": "code",
   "execution_count": 3,
   "id": "e56ab22d-c9ec-4f46-bdb1-164477a05a03",
   "metadata": {},
   "outputs": [],
   "source": [
    "import pandas as pd\n",
    "import numpy as np\n",
    "\n",
    "#data_ord=pd.read_excel('data_lecture3.xlsx', sheet_name='data3')\n",
    "data_cat=pd.read_excel('3.1_data_session 3.xlsx', sheet_name='data4')\n"
   ]
  },
  {
   "cell_type": "code",
   "execution_count": 4,
   "id": "86c600ea-ce7c-4431-8c20-cedaa3f9fb85",
   "metadata": {},
   "outputs": [
    {
     "data": {
      "text/html": [
       "<div>\n",
       "<style scoped>\n",
       "    .dataframe tbody tr th:only-of-type {\n",
       "        vertical-align: middle;\n",
       "    }\n",
       "\n",
       "    .dataframe tbody tr th {\n",
       "        vertical-align: top;\n",
       "    }\n",
       "\n",
       "    .dataframe thead th {\n",
       "        text-align: right;\n",
       "    }\n",
       "</style>\n",
       "<table border=\"1\" class=\"dataframe\">\n",
       "  <thead>\n",
       "    <tr style=\"text-align: right;\">\n",
       "      <th></th>\n",
       "      <th>Values</th>\n",
       "    </tr>\n",
       "  </thead>\n",
       "  <tbody>\n",
       "    <tr>\n",
       "      <th>0</th>\n",
       "      <td>Lee</td>\n",
       "    </tr>\n",
       "    <tr>\n",
       "      <th>1</th>\n",
       "      <td>Leslie</td>\n",
       "    </tr>\n",
       "    <tr>\n",
       "      <th>2</th>\n",
       "      <td>John</td>\n",
       "    </tr>\n",
       "    <tr>\n",
       "      <th>3</th>\n",
       "      <td>Guadalupe</td>\n",
       "    </tr>\n",
       "    <tr>\n",
       "      <th>4</th>\n",
       "      <td>John</td>\n",
       "    </tr>\n",
       "    <tr>\n",
       "      <th>...</th>\n",
       "      <td>...</td>\n",
       "    </tr>\n",
       "    <tr>\n",
       "      <th>4583</th>\n",
       "      <td>James</td>\n",
       "    </tr>\n",
       "    <tr>\n",
       "      <th>4584</th>\n",
       "      <td>Leslie</td>\n",
       "    </tr>\n",
       "    <tr>\n",
       "      <th>4585</th>\n",
       "      <td>Robert</td>\n",
       "    </tr>\n",
       "    <tr>\n",
       "      <th>4586</th>\n",
       "      <td>Jessie</td>\n",
       "    </tr>\n",
       "    <tr>\n",
       "      <th>4587</th>\n",
       "      <td>Lee</td>\n",
       "    </tr>\n",
       "  </tbody>\n",
       "</table>\n",
       "<p>4588 rows × 1 columns</p>\n",
       "</div>"
      ],
      "text/plain": [
       "         Values\n",
       "0           Lee\n",
       "1        Leslie\n",
       "2          John\n",
       "3     Guadalupe\n",
       "4          John\n",
       "...         ...\n",
       "4583      James\n",
       "4584     Leslie\n",
       "4585     Robert\n",
       "4586     Jessie\n",
       "4587        Lee\n",
       "\n",
       "[4588 rows x 1 columns]"
      ]
     },
     "execution_count": 4,
     "metadata": {},
     "output_type": "execute_result"
    }
   ],
   "source": [
    "data_cat"
   ]
  },
  {
   "cell_type": "markdown",
   "id": "6e0dbc1b-4772-44ef-8231-ae58cc8c7b7a",
   "metadata": {},
   "source": [
    "We create a function that gets a list/array as input, and produce a frequency table.\n",
    "There are many ways. For instance:"
   ]
  },
  {
   "cell_type": "code",
   "execution_count": 17,
   "id": "d5159697-9fd1-4bdd-9a5c-21b7630c1722",
   "metadata": {},
   "outputs": [
    {
     "data": {
      "text/plain": [
       "[('William', 237),\n",
       " ('Willie', 222),\n",
       " ('Leslie', 247),\n",
       " ('James', 239),\n",
       " ('Francis', 229),\n",
       " ('Marion', 223),\n",
       " ('Charles', 222),\n",
       " ('Billie', 213),\n",
       " ('Joseph', 215),\n",
       " ('Mary', 222),\n",
       " ('Robert', 235),\n",
       " ('Joe', 210),\n",
       " ('Dana', 223),\n",
       " ('Guadalupe', 244),\n",
       " ('Jean', 244),\n",
       " ('Carmen', 211),\n",
       " ('Johnnie', 216),\n",
       " ('Lee', 240),\n",
       " ('John', 238),\n",
       " ('Jessie', 258)]"
      ]
     },
     "execution_count": 17,
     "metadata": {},
     "output_type": "execute_result"
    }
   ],
   "source": [
    "list_values = data_cat['Values']\n",
    "elements=list(set(list_values))\n",
    "elements\n",
    "freq=[(name, sum(list_values==name)) for name in elements]\n",
    "freq"
   ]
  },
  {
   "cell_type": "markdown",
   "id": "63c296bd-e389-4cf9-ac2b-f9a8024be253",
   "metadata": {},
   "source": [
    "But this can be easily done using pandas:"
   ]
  },
  {
   "cell_type": "code",
   "execution_count": 19,
   "id": "40c208bc-e7d7-4b1c-b00b-64601baaf810",
   "metadata": {},
   "outputs": [
    {
     "data": {
      "text/plain": [
       "Jessie       258\n",
       "Leslie       247\n",
       "Guadalupe    244\n",
       "Jean         244\n",
       "Lee          240\n",
       "James        239\n",
       "John         238\n",
       "William      237\n",
       "Robert       235\n",
       "Francis      229\n",
       "Marion       223\n",
       "Dana         223\n",
       "Mary         222\n",
       "Willie       222\n",
       "Charles      222\n",
       "Johnnie      216\n",
       "Joseph       215\n",
       "Billie       213\n",
       "Carmen       211\n",
       "Joe          210\n",
       "Name: Values, dtype: int64"
      ]
     },
     "execution_count": 19,
     "metadata": {},
     "output_type": "execute_result"
    }
   ],
   "source": [
    "freq2=data_cat['Values'].value_counts()\n",
    "freq2"
   ]
  },
  {
   "cell_type": "markdown",
   "id": "f3dddf26-f795-469e-bd48-4c0374925c58",
   "metadata": {},
   "source": [
    "For continuous data is also simple, using numpy:"
   ]
  },
  {
   "cell_type": "code",
   "execution_count": 21,
   "id": "b62cd323-e1bf-4b9a-836f-0e1fa27d83f6",
   "metadata": {},
   "outputs": [
    {
     "data": {
      "text/html": [
       "<div>\n",
       "<style scoped>\n",
       "    .dataframe tbody tr th:only-of-type {\n",
       "        vertical-align: middle;\n",
       "    }\n",
       "\n",
       "    .dataframe tbody tr th {\n",
       "        vertical-align: top;\n",
       "    }\n",
       "\n",
       "    .dataframe thead th {\n",
       "        text-align: right;\n",
       "    }\n",
       "</style>\n",
       "<table border=\"1\" class=\"dataframe\">\n",
       "  <thead>\n",
       "    <tr style=\"text-align: right;\">\n",
       "      <th></th>\n",
       "      <th>Values</th>\n",
       "    </tr>\n",
       "  </thead>\n",
       "  <tbody>\n",
       "    <tr>\n",
       "      <th>count</th>\n",
       "      <td>5038.000000</td>\n",
       "    </tr>\n",
       "    <tr>\n",
       "      <th>mean</th>\n",
       "      <td>0.005716</td>\n",
       "    </tr>\n",
       "    <tr>\n",
       "      <th>std</th>\n",
       "      <td>0.995407</td>\n",
       "    </tr>\n",
       "    <tr>\n",
       "      <th>min</th>\n",
       "      <td>-3.653974</td>\n",
       "    </tr>\n",
       "    <tr>\n",
       "      <th>25%</th>\n",
       "      <td>-0.669343</td>\n",
       "    </tr>\n",
       "    <tr>\n",
       "      <th>50%</th>\n",
       "      <td>0.035281</td>\n",
       "    </tr>\n",
       "    <tr>\n",
       "      <th>75%</th>\n",
       "      <td>0.680483</td>\n",
       "    </tr>\n",
       "    <tr>\n",
       "      <th>max</th>\n",
       "      <td>3.186374</td>\n",
       "    </tr>\n",
       "  </tbody>\n",
       "</table>\n",
       "</div>"
      ],
      "text/plain": [
       "            Values\n",
       "count  5038.000000\n",
       "mean      0.005716\n",
       "std       0.995407\n",
       "min      -3.653974\n",
       "25%      -0.669343\n",
       "50%       0.035281\n",
       "75%       0.680483\n",
       "max       3.186374"
      ]
     },
     "execution_count": 21,
     "metadata": {},
     "output_type": "execute_result"
    }
   ],
   "source": [
    "data_cont=pd.read_excel('data_lecture3.xlsx', sheet_name='data1')\n",
    "data_cont.describe()"
   ]
  },
  {
   "cell_type": "markdown",
   "id": "bf546237-0c35-4358-876f-9c60427efd4a",
   "metadata": {},
   "source": [
    "Let's make 30 equally spaces bins or ranges:"
   ]
  },
  {
   "cell_type": "code",
   "execution_count": 22,
   "id": "fc24e8b1-2817-4bd7-a086-95cefe0cd533",
   "metadata": {},
   "outputs": [
    {
     "data": {
      "text/plain": [
       "(array([  1,   2,   7,   5,  11,  31,  40,  76, 115, 144, 195, 288, 311,\n",
       "        395, 393, 426, 459, 440, 432, 366, 253, 232, 148, 108,  73,  34,\n",
       "         26,  14,   8,   5], dtype=int64),\n",
       " array([-3.65397368, -3.4259621 , -3.19795052, -2.96993894, -2.74192736,\n",
       "        -2.51391578, -2.2859042 , -2.05789262, -1.82988104, -1.60186946,\n",
       "        -1.37385788, -1.1458463 , -0.91783472, -0.68982314, -0.46181156,\n",
       "        -0.23379998, -0.0057884 ,  0.22222318,  0.45023476,  0.67824634,\n",
       "         0.90625792,  1.1342695 ,  1.36228108,  1.59029266,  1.81830424,\n",
       "         2.04631582,  2.2743274 ,  2.50233898,  2.73035056,  2.95836214,\n",
       "         3.18637372]))"
      ]
     },
     "execution_count": 22,
     "metadata": {},
     "output_type": "execute_result"
    }
   ],
   "source": [
    "my_hist = np.histogram(data_cont, 30)\n",
    "my_hist"
   ]
  },
  {
   "cell_type": "markdown",
   "id": "abddbc43-87e0-494a-b01c-05249aa14504",
   "metadata": {},
   "source": [
    "The first array are the frequency values.\n",
    "The second array are the limits of the bin (All but the last (right hand-most) bin is half-open.)\n"
   ]
  },
  {
   "cell_type": "code",
   "execution_count": 23,
   "id": "b981d7d7-9194-43d2-863b-a658ff89ffd7",
   "metadata": {},
   "outputs": [
    {
     "data": {
      "text/plain": [
       "array([  1,   2,   7,   5,  11,  31,  40,  76, 115, 144, 195, 288, 311,\n",
       "       395, 393, 426, 459, 440, 432, 366, 253, 232, 148, 108,  73,  34,\n",
       "        26,  14,   8,   5], dtype=int64)"
      ]
     },
     "execution_count": 23,
     "metadata": {},
     "output_type": "execute_result"
    }
   ],
   "source": [
    "my_hist[0]"
   ]
  },
  {
   "cell_type": "markdown",
   "id": "7010575f-eaca-4b46-9708-4f0db0016223",
   "metadata": {},
   "source": [
    "In the next video, we will learn how to plot all these frequency tables using bar charts and histograms."
   ]
  }
 ],
 "metadata": {
  "kernelspec": {
   "display_name": "Python 3 (ipykernel)",
   "language": "python",
   "name": "python3"
  },
  "language_info": {
   "codemirror_mode": {
    "name": "ipython",
    "version": 3
   },
   "file_extension": ".py",
   "mimetype": "text/x-python",
   "name": "python",
   "nbconvert_exporter": "python",
   "pygments_lexer": "ipython3",
   "version": "3.11.7"
  }
 },
 "nbformat": 4,
 "nbformat_minor": 5
}
