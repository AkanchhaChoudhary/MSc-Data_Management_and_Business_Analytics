{
 "cells": [
  {
   "cell_type": "markdown",
   "metadata": {},
   "source": [
    "1 Exercises\n",
    "\n",
    "1.0.1 dataFrame subset selection\n",
    "\n",
    "For each of the next exercises, create a new code cell and write your solution"
   ]
  },
  {
   "cell_type": "code",
   "execution_count": null,
   "metadata": {},
   "outputs": [],
   "source": [
    "1. Load the csv files ^DJI.csv and ^GSPC.csv, which are located at the data_mixed folder into\n",
    "da-taframes called df1 and df2 respectively. Then, select the Volume of the date September\n",
    "29th 2008. which index was more traded?"
   ]
  },
  {
   "cell_type": "code",
   "execution_count": 3,
   "metadata": {},
   "outputs": [
    {
     "name": "stdout",
     "output_type": "stream",
     "text": [
      "No data available for September 29th, 2008.\n"
     ]
    }
   ],
   "source": [
    "import pandas as pd\n",
    "\n",
    "# Load the CSV files into dataframes\n",
    "df1 = pd.read_csv(\"data_mixed/^DJI.csv\")\n",
    "df2 = pd.read_csv(\"data_mixed/^GSPC.csv\")\n",
    "\n",
    "# Select the Volume for September 29th, 2008 for each index\n",
    "volume_dji = df1.loc[df1['Date'] == '2008-09-29', 'Volume']\n",
    "volume_gspc = df2.loc[df2['Date'] == '2008-09-29', 'Volume']\n",
    "\n",
    "# Check if any rows match the condition\n",
    "if not volume_dji.empty and not volume_gspc.empty:\n",
    "    volume_dji = volume_dji.values[0]\n",
    "    volume_gspc = volume_gspc.values[0]\n",
    "\n",
    "    # Compare the volumes\n",
    "    if volume_dji > volume_gspc:\n",
    "        print(\"The DJI index had more trading volume.\")\n",
    "    elif volume_dji < volume_gspc:\n",
    "        print(\"The GSPC index had more trading volume.\")\n",
    "    else:\n",
    "        print(\"Both DJI and GSPC indices had the same trading volume.\")\n",
    "else:\n",
    "    print(\"No data available for September 29th, 2008.\")\n"
   ]
  },
  {
   "cell_type": "markdown",
   "metadata": {},
   "source": [
    "For the next exercises, load the file GermanDataClean_OUT.csv, in the data_mixed folder\n",
    "\n",
    "2. How many entries in this dataset are of type PUT and how many of type CALL?"
   ]
  },
  {
   "cell_type": "code",
   "execution_count": 13,
   "metadata": {},
   "outputs": [
    {
     "ename": "KeyError",
     "evalue": "'type'",
     "output_type": "error",
     "traceback": [
      "\u001b[0;31m---------------------------------------------------------------------------\u001b[0m",
      "\u001b[0;31mKeyError\u001b[0m                                  Traceback (most recent call last)",
      "File \u001b[0;32m~/anaconda3/lib/python3.11/site-packages/pandas/core/indexes/base.py:3791\u001b[0m, in \u001b[0;36mIndex.get_loc\u001b[0;34m(self, key)\u001b[0m\n\u001b[1;32m   3790\u001b[0m \u001b[38;5;28;01mtry\u001b[39;00m:\n\u001b[0;32m-> 3791\u001b[0m     \u001b[38;5;28;01mreturn\u001b[39;00m \u001b[38;5;28mself\u001b[39m\u001b[38;5;241m.\u001b[39m_engine\u001b[38;5;241m.\u001b[39mget_loc(casted_key)\n\u001b[1;32m   3792\u001b[0m \u001b[38;5;28;01mexcept\u001b[39;00m \u001b[38;5;167;01mKeyError\u001b[39;00m \u001b[38;5;28;01mas\u001b[39;00m err:\n",
      "File \u001b[0;32mindex.pyx:152\u001b[0m, in \u001b[0;36mpandas._libs.index.IndexEngine.get_loc\u001b[0;34m()\u001b[0m\n",
      "File \u001b[0;32mindex.pyx:181\u001b[0m, in \u001b[0;36mpandas._libs.index.IndexEngine.get_loc\u001b[0;34m()\u001b[0m\n",
      "File \u001b[0;32mpandas/_libs/hashtable_class_helper.pxi:7080\u001b[0m, in \u001b[0;36mpandas._libs.hashtable.PyObjectHashTable.get_item\u001b[0;34m()\u001b[0m\n",
      "File \u001b[0;32mpandas/_libs/hashtable_class_helper.pxi:7088\u001b[0m, in \u001b[0;36mpandas._libs.hashtable.PyObjectHashTable.get_item\u001b[0;34m()\u001b[0m\n",
      "\u001b[0;31mKeyError\u001b[0m: 'type'",
      "\nThe above exception was the direct cause of the following exception:\n",
      "\u001b[0;31mKeyError\u001b[0m                                  Traceback (most recent call last)",
      "Cell \u001b[0;32mIn[13], line 7\u001b[0m\n\u001b[1;32m      4\u001b[0m df_options \u001b[38;5;241m=\u001b[39m pd\u001b[38;5;241m.\u001b[39mread_csv(\u001b[38;5;124m\"\u001b[39m\u001b[38;5;124mdata_mixed/GermanDataClean_OUT.csv\u001b[39m\u001b[38;5;124m\"\u001b[39m)\n\u001b[1;32m      6\u001b[0m \u001b[38;5;66;03m# Count the number of entries for each type (PUT and CALL)\u001b[39;00m\n\u001b[0;32m----> 7\u001b[0m put_count \u001b[38;5;241m=\u001b[39m df_options[df_options[\u001b[38;5;124m'\u001b[39m\u001b[38;5;124mtype\u001b[39m\u001b[38;5;124m'\u001b[39m] \u001b[38;5;241m==\u001b[39m \u001b[38;5;124m'\u001b[39m\u001b[38;5;124mPUT\u001b[39m\u001b[38;5;124m'\u001b[39m]\u001b[38;5;241m.\u001b[39mshape[\u001b[38;5;241m0\u001b[39m]\n\u001b[1;32m      8\u001b[0m call_count \u001b[38;5;241m=\u001b[39m df_options[df_options[\u001b[38;5;124m'\u001b[39m\u001b[38;5;124mtype\u001b[39m\u001b[38;5;124m'\u001b[39m] \u001b[38;5;241m==\u001b[39m \u001b[38;5;124m'\u001b[39m\u001b[38;5;124mCALL\u001b[39m\u001b[38;5;124m'\u001b[39m]\u001b[38;5;241m.\u001b[39mshape[\u001b[38;5;241m0\u001b[39m]\n\u001b[1;32m     10\u001b[0m \u001b[38;5;28mprint\u001b[39m(\u001b[38;5;124mf\u001b[39m\u001b[38;5;124m\"\u001b[39m\u001b[38;5;124mNumber of entries of type PUT: \u001b[39m\u001b[38;5;132;01m{\u001b[39;00mput_count\u001b[38;5;132;01m}\u001b[39;00m\u001b[38;5;124m\"\u001b[39m)\n",
      "File \u001b[0;32m~/anaconda3/lib/python3.11/site-packages/pandas/core/frame.py:3893\u001b[0m, in \u001b[0;36mDataFrame.__getitem__\u001b[0;34m(self, key)\u001b[0m\n\u001b[1;32m   3891\u001b[0m \u001b[38;5;28;01mif\u001b[39;00m \u001b[38;5;28mself\u001b[39m\u001b[38;5;241m.\u001b[39mcolumns\u001b[38;5;241m.\u001b[39mnlevels \u001b[38;5;241m>\u001b[39m \u001b[38;5;241m1\u001b[39m:\n\u001b[1;32m   3892\u001b[0m     \u001b[38;5;28;01mreturn\u001b[39;00m \u001b[38;5;28mself\u001b[39m\u001b[38;5;241m.\u001b[39m_getitem_multilevel(key)\n\u001b[0;32m-> 3893\u001b[0m indexer \u001b[38;5;241m=\u001b[39m \u001b[38;5;28mself\u001b[39m\u001b[38;5;241m.\u001b[39mcolumns\u001b[38;5;241m.\u001b[39mget_loc(key)\n\u001b[1;32m   3894\u001b[0m \u001b[38;5;28;01mif\u001b[39;00m is_integer(indexer):\n\u001b[1;32m   3895\u001b[0m     indexer \u001b[38;5;241m=\u001b[39m [indexer]\n",
      "File \u001b[0;32m~/anaconda3/lib/python3.11/site-packages/pandas/core/indexes/base.py:3798\u001b[0m, in \u001b[0;36mIndex.get_loc\u001b[0;34m(self, key)\u001b[0m\n\u001b[1;32m   3793\u001b[0m     \u001b[38;5;28;01mif\u001b[39;00m \u001b[38;5;28misinstance\u001b[39m(casted_key, \u001b[38;5;28mslice\u001b[39m) \u001b[38;5;129;01mor\u001b[39;00m (\n\u001b[1;32m   3794\u001b[0m         \u001b[38;5;28misinstance\u001b[39m(casted_key, abc\u001b[38;5;241m.\u001b[39mIterable)\n\u001b[1;32m   3795\u001b[0m         \u001b[38;5;129;01mand\u001b[39;00m \u001b[38;5;28many\u001b[39m(\u001b[38;5;28misinstance\u001b[39m(x, \u001b[38;5;28mslice\u001b[39m) \u001b[38;5;28;01mfor\u001b[39;00m x \u001b[38;5;129;01min\u001b[39;00m casted_key)\n\u001b[1;32m   3796\u001b[0m     ):\n\u001b[1;32m   3797\u001b[0m         \u001b[38;5;28;01mraise\u001b[39;00m InvalidIndexError(key)\n\u001b[0;32m-> 3798\u001b[0m     \u001b[38;5;28;01mraise\u001b[39;00m \u001b[38;5;167;01mKeyError\u001b[39;00m(key) \u001b[38;5;28;01mfrom\u001b[39;00m \u001b[38;5;21;01merr\u001b[39;00m\n\u001b[1;32m   3799\u001b[0m \u001b[38;5;28;01mexcept\u001b[39;00m \u001b[38;5;167;01mTypeError\u001b[39;00m:\n\u001b[1;32m   3800\u001b[0m     \u001b[38;5;66;03m# If we have a listlike key, _check_indexing_error will raise\u001b[39;00m\n\u001b[1;32m   3801\u001b[0m     \u001b[38;5;66;03m#  InvalidIndexError. Otherwise we fall through and re-raise\u001b[39;00m\n\u001b[1;32m   3802\u001b[0m     \u001b[38;5;66;03m#  the TypeError.\u001b[39;00m\n\u001b[1;32m   3803\u001b[0m     \u001b[38;5;28mself\u001b[39m\u001b[38;5;241m.\u001b[39m_check_indexing_error(key)\n",
      "\u001b[0;31mKeyError\u001b[0m: 'type'"
     ]
    }
   ],
   "source": [
    "import pandas as pd\n",
    "\n",
    "# Load the CSV file into a dataframe\n",
    "df_options = pd.read_csv(\"data_mixed/GermanDataClean_OUT.csv\")\n",
    "\n",
    "# Count the number of entries for each type (PUT and CALL)\n",
    "put_count = df_options[df_options['Type'] == 'PUT'].shape[0]\n",
    "call_count = df_options[df_options['Type'] == 'CALL'].shape[0]\n",
    "\n",
    "print(f\"Number of entries of type PUT: {put_count}\")\n",
    "print(f\"Number of entries of type CALL: {call_count}\")\n"
   ]
  },
  {
   "cell_type": "code",
   "execution_count": 6,
   "metadata": {},
   "outputs": [
    {
     "name": "stdout",
     "output_type": "stream",
     "text": [
      "Index(['TradeDate', 'Currency', 'OptionType', 'Ticker', 'TradedStockPrice',\n",
      "       'NumOptions', 'Strike', 'ExpiryDate'],\n",
      "      dtype='object')\n"
     ]
    }
   ],
   "source": [
    "# I dont see PUT OR Call type in ithe index\n",
    "\n",
    "import pandas as pd\n",
    "\n",
    "# Load the CSV file into a dataframe\n",
    "df_options = pd.read_csv(\"data_mixed/GermanDataClean_OUT.csv\")\n",
    "\n",
    "# Print the column names\n",
    "print(df_options.columns)\n"
   ]
  },
  {
   "cell_type": "markdown",
   "metadata": {},
   "source": [
    "3. Which companies (give the Ticker) issue options with a Strike Price bigger than 100?"
   ]
  },
  {
   "cell_type": "code",
   "execution_count": 8,
   "metadata": {},
   "outputs": [
    {
     "name": "stdout",
     "output_type": "stream",
     "text": [
      "Companies with strike prices greater than 100:\n",
      "['AMZN' 'BA' 'AAPL' 'FB']\n"
     ]
    }
   ],
   "source": [
    "import pandas as pd\n",
    "\n",
    "# Load the CSV file into a dataframe\n",
    "df_options = pd.read_csv(\"data_mixed/GermanDataClean_OUT.csv\")\n",
    "\n",
    "# Filter the dataframe for options with a strike price greater than 100\n",
    "filtered_options = df_options[df_options['Strike'] > 100]\n",
    "\n",
    "# Extract the unique tickers for these options\n",
    "companies_with_high_strike = filtered_options['Ticker'].unique()\n",
    "\n",
    "# Print the tickers of companies with strike prices greater than 100\n",
    "print(\"Companies with strike prices greater than 100:\")\n",
    "print(companies_with_high_strike)\n"
   ]
  },
  {
   "cell_type": "markdown",
   "metadata": {},
   "source": [
    "4. The next question is a bit more difficult but you have all the elements to be able to solve\n",
    "it. Suppose that we want to create a new column called Summary that contains all the\n",
    "information about the option in one single string. We are required to do as follows. Suppose\n",
    "that the Ticker=\"AMZN\", the Option Type = \"CALL\", the Strike = 807, and the Expire\n",
    "Date=\"26/06/2017\". Then we want the value of the summary column should be the string\n",
    "\"Option: AMZN_CALL_807_26-06-2017\". hint. you can create a function that takes rows as\n",
    "inputs ad iterate over the dataframe, or you can use list-comprehensions."
   ]
  },
  {
   "cell_type": "code",
   "execution_count": 14,
   "metadata": {},
   "outputs": [
    {
     "name": "stdout",
     "output_type": "stream",
     "text": [
      "       TradeDate Currency OptionType Ticker  TradedStockPrice  NumOptions  \\\n",
      "0     02/01/2013      USD       CALL     FB         28.000000         600   \n",
      "1     02/01/2013      USD        PUT   AMZN        257.309998         770   \n",
      "2     03/01/2013      USD        PUT     BA         77.470001         540   \n",
      "3     04/01/2013      USD       CALL   AMZN        259.149994         930   \n",
      "4     04/01/2013      USD       CALL   AAPL         75.285713         610   \n",
      "...          ...      ...        ...    ...               ...         ...   \n",
      "4322  29/12/2016      USD        PUT   AMZN        765.150024         360   \n",
      "4323  29/12/2016      USD        PUT   AAPL        116.730003         790   \n",
      "4324  29/12/2016      USD        PUT   AMZN        765.150024         490   \n",
      "4325  30/12/2016      USD       CALL     BA        155.679993          20   \n",
      "4326  30/12/2016      USD        PUT    CHK          7.020000         980   \n",
      "\n",
      "      Strike  ExpiryDate                           Summary  \n",
      "0         29  28/12/2013     Option: FB_CALL_29_28/12/2013  \n",
      "1        261  28/12/2013   Option: AMZN_PUT_261_28/12/2013  \n",
      "2         79  29/12/2013      Option: BA_PUT_79_29/12/2013  \n",
      "3        247  04/04/2013  Option: AMZN_CALL_247_04/04/2013  \n",
      "4         77  04/04/2013   Option: AAPL_CALL_77_04/04/2013  \n",
      "...      ...         ...                               ...  \n",
      "4322     777  27/06/2017   Option: AMZN_PUT_777_27/06/2017  \n",
      "4323     121  24/12/2017   Option: AAPL_PUT_121_24/12/2017  \n",
      "4324     794  24/12/2017   Option: AMZN_PUT_794_24/12/2017  \n",
      "4325     153  30/03/2017    Option: BA_CALL_153_30/03/2017  \n",
      "4326       7  28/06/2017      Option: CHK_PUT_7_28/06/2017  \n",
      "\n",
      "[4327 rows x 9 columns]\n"
     ]
    }
   ],
   "source": [
    "import pandas as pd\n",
    "\n",
    "# Load the CSV file into a dataframe\n",
    "df_options = pd.read_csv(\"data_mixed/GermanDataClean_OUT.csv\")\n",
    "\n",
    "# Define a function to create the summary string for each row\n",
    "def create_summary(row):\n",
    "    return f\"Option: {row['Ticker']}_{row['OptionType']}_{row['Strike']}_{row['ExpiryDate']}\"\n",
    "\n",
    "# Apply the function to each row and create the 'Summary' column\n",
    "df_options['Summary'] = df_options.apply(create_summary, axis=1)\n",
    "\n",
    "# Display the dataframe with the new 'Summary' column\n",
    "print(df_options)\n"
   ]
  },
  {
   "cell_type": "code",
   "execution_count": null,
   "metadata": {},
   "outputs": [],
   "source": []
  }
 ],
 "metadata": {
  "kernelspec": {
   "display_name": "base",
   "language": "python",
   "name": "python3"
  },
  "language_info": {
   "codemirror_mode": {
    "name": "ipython",
    "version": 3
   },
   "file_extension": ".py",
   "mimetype": "text/x-python",
   "name": "python",
   "nbconvert_exporter": "python",
   "pygments_lexer": "ipython3",
   "version": "3.11.7"
  }
 },
 "nbformat": 4,
 "nbformat_minor": 2
}
