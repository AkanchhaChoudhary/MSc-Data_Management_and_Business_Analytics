{
 "cells": [
  {
   "cell_type": "markdown",
   "metadata": {},
   "source": [
    "1 Exercises\n",
    "\n",
    "1.0.1 basic data manipulation with pandas\n",
    "\n",
    "For each of the next 10 exercises, create a new code cell and write your solution\n",
    "\n",
    "Load the csv files ^DJI.csv and ^GSPC.csv, which are located at the data_mixed folder into\n",
    "da-taframes called df1 and df2 respectively."
   ]
  },
  {
   "cell_type": "markdown",
   "metadata": {},
   "source": [
    "1. for df1 and df2, The volume column indicates, the total value in dollars of shares\n",
    "traded. Create a new column in the dataframes, called Shares_Traded calculated as\n",
    "Shares_Traded=int(Volume/Close)"
   ]
  },
  {
   "cell_type": "code",
   "execution_count": 2,
   "metadata": {},
   "outputs": [
    {
     "name": "stdout",
     "output_type": "stream",
     "text": [
      "DataFrame df1 with Shares_Traded column:\n",
      "         Date          Open          High           Low         Close  \\\n",
      "0  2014-09-25  17204.859375  17204.859375  16945.800781  16945.800781   \n",
      "1  2014-09-26  16948.619141  17148.150391  16948.109375  17113.150391   \n",
      "2  2014-09-29  17107.689453  17107.689453  16934.429688  17071.220703   \n",
      "3  2014-09-30  17070.449219  17145.099609  17017.109375  17042.900391   \n",
      "4  2014-10-01  17040.460938  17041.160156  16776.130859  16804.710938   \n",
      "\n",
      "      Adj Close     Volume  Shares_Traded  \n",
      "0  16945.800781   93520000           5518  \n",
      "1  17113.150391   74670000           4363  \n",
      "2  17071.220703   70220000           4113  \n",
      "3  17042.900391  102290000           6001  \n",
      "4  16804.710938  104240000           6203  \n",
      "\n",
      "DataFrame df2 with Shares_Traded column:\n",
      "         Date   Open   High    Low  Close  Adj Close   Volume  Shares_Traded\n",
      "0  1950-01-03  16.66  16.66  16.66  16.66      16.66  1260000          75630\n",
      "1  1950-01-04  16.85  16.85  16.85  16.85      16.85  1890000         112166\n",
      "2  1950-01-05  16.93  16.93  16.93  16.93      16.93  2550000         150620\n",
      "3  1950-01-06  16.98  16.98  16.98  16.98      16.98  2010000         118374\n",
      "4  1950-01-09  17.08  17.08  17.08  17.08      17.08  2520000         147540\n"
     ]
    }
   ],
   "source": [
    "import pandas as pd\n",
    "\n",
    "# Load the CSV files into dataframes\n",
    "df1 = pd.read_csv(\"data_mixed/^DJI.csv\")\n",
    "df2 = pd.read_csv(\"data_mixed/^GSPC.csv\")\n",
    "\n",
    "# Calculate Shares_Traded for df1\n",
    "df1['Shares_Traded'] = (df1['Volume'] / df1['Close']).astype(int)\n",
    "\n",
    "# Calculate Shares_Traded for df2\n",
    "df2['Shares_Traded'] = (df2['Volume'] / df2['Close']).astype(int)\n",
    "\n",
    "# Display the dataframes\n",
    "print(\"DataFrame df1 with Shares_Traded column:\")\n",
    "print(df1.head())\n",
    "\n",
    "print(\"\\nDataFrame df2 with Shares_Traded column:\")\n",
    "print(df2.head())\n"
   ]
  },
  {
   "cell_type": "markdown",
   "metadata": {},
   "source": [
    "2. Transform the columns Date to a datetime format using pandas."
   ]
  },
  {
   "cell_type": "code",
   "execution_count": 4,
   "metadata": {},
   "outputs": [
    {
     "name": "stdout",
     "output_type": "stream",
     "text": [
      "DataFrame df1 with Date column in datetime format:\n",
      "        Date          Open          High           Low         Close  \\\n",
      "0 2014-09-25  17204.859375  17204.859375  16945.800781  16945.800781   \n",
      "1 2014-09-26  16948.619141  17148.150391  16948.109375  17113.150391   \n",
      "2 2014-09-29  17107.689453  17107.689453  16934.429688  17071.220703   \n",
      "3 2014-09-30  17070.449219  17145.099609  17017.109375  17042.900391   \n",
      "4 2014-10-01  17040.460938  17041.160156  16776.130859  16804.710938   \n",
      "\n",
      "      Adj Close     Volume  \n",
      "0  16945.800781   93520000  \n",
      "1  17113.150391   74670000  \n",
      "2  17071.220703   70220000  \n",
      "3  17042.900391  102290000  \n",
      "4  16804.710938  104240000  \n",
      "\n",
      "DataFrame df2 with Date column in datetime format:\n",
      "        Date   Open   High    Low  Close  Adj Close   Volume\n",
      "0 1950-01-03  16.66  16.66  16.66  16.66      16.66  1260000\n",
      "1 1950-01-04  16.85  16.85  16.85  16.85      16.85  1890000\n",
      "2 1950-01-05  16.93  16.93  16.93  16.93      16.93  2550000\n",
      "3 1950-01-06  16.98  16.98  16.98  16.98      16.98  2010000\n",
      "4 1950-01-09  17.08  17.08  17.08  17.08      17.08  2520000\n"
     ]
    }
   ],
   "source": [
    "import pandas as pd\n",
    "\n",
    "# Load the CSV files into dataframes\n",
    "df1 = pd.read_csv(\"data_mixed/^DJI.csv\")\n",
    "df2 = pd.read_csv(\"data_mixed/^GSPC.csv\")\n",
    "\n",
    "# Transform the 'Date' column to datetime format\n",
    "df1['Date'] = pd.to_datetime(df1['Date'])\n",
    "df2['Date'] = pd.to_datetime(df2['Date'])\n",
    "\n",
    "# Display the dataframes\n",
    "print(\"DataFrame df1 with Date column in datetime format:\")\n",
    "print(df1.head())\n",
    "\n",
    "print(\"\\nDataFrame df2 with Date column in datetime format:\")\n",
    "print(df2.head())\n"
   ]
  },
  {
   "cell_type": "markdown",
   "metadata": {},
   "source": [
    "3. Use the Date column to set a new index for each of the data frames."
   ]
  },
  {
   "cell_type": "code",
   "execution_count": 5,
   "metadata": {},
   "outputs": [
    {
     "name": "stdout",
     "output_type": "stream",
     "text": [
      "DataFrame df1 with Date column as index:\n",
      "                    Open          High           Low         Close  \\\n",
      "Date                                                                 \n",
      "2014-09-25  17204.859375  17204.859375  16945.800781  16945.800781   \n",
      "2014-09-26  16948.619141  17148.150391  16948.109375  17113.150391   \n",
      "2014-09-29  17107.689453  17107.689453  16934.429688  17071.220703   \n",
      "2014-09-30  17070.449219  17145.099609  17017.109375  17042.900391   \n",
      "2014-10-01  17040.460938  17041.160156  16776.130859  16804.710938   \n",
      "\n",
      "               Adj Close     Volume  \n",
      "Date                                 \n",
      "2014-09-25  16945.800781   93520000  \n",
      "2014-09-26  17113.150391   74670000  \n",
      "2014-09-29  17071.220703   70220000  \n",
      "2014-09-30  17042.900391  102290000  \n",
      "2014-10-01  16804.710938  104240000  \n",
      "\n",
      "DataFrame df2 with Date column as index:\n",
      "             Open   High    Low  Close  Adj Close   Volume\n",
      "Date                                                      \n",
      "1950-01-03  16.66  16.66  16.66  16.66      16.66  1260000\n",
      "1950-01-04  16.85  16.85  16.85  16.85      16.85  1890000\n",
      "1950-01-05  16.93  16.93  16.93  16.93      16.93  2550000\n",
      "1950-01-06  16.98  16.98  16.98  16.98      16.98  2010000\n",
      "1950-01-09  17.08  17.08  17.08  17.08      17.08  2520000\n"
     ]
    }
   ],
   "source": [
    "# Set 'Date' column as index for df1\n",
    "df1.set_index('Date', inplace=True)\n",
    "\n",
    "# Set 'Date' column as index for df2\n",
    "df2.set_index('Date', inplace=True)\n",
    "\n",
    "# Display the dataframes\n",
    "print(\"DataFrame df1 with Date column as index:\")\n",
    "print(df1.head())\n",
    "\n",
    "print(\"\\nDataFrame df2 with Date column as index:\")\n",
    "print(df2.head())\n"
   ]
  },
  {
   "cell_type": "markdown",
   "metadata": {},
   "source": [
    "4. For df1, what is the percentage of days in which the Close price was lower than the Open\n",
    "price?"
   ]
  },
  {
   "cell_type": "code",
   "execution_count": 6,
   "metadata": {},
   "outputs": [
    {
     "name": "stdout",
     "output_type": "stream",
     "text": [
      "Percentage of days in which the Close price was lower than the Open price in df1:\n",
      "46.31%\n"
     ]
    }
   ],
   "source": [
    "# Calculate the number of days where Close price was lower than Open price\n",
    "lower_close_days = df1[df1['Close'] < df1['Open']].shape[0]\n",
    "\n",
    "# Calculate the total number of days\n",
    "total_days = df1.shape[0]\n",
    "\n",
    "# Calculate the percentage of days where Close price was lower than Open price\n",
    "percentage_lower_close = (lower_close_days / total_days) * 100\n",
    "\n",
    "# Print the result\n",
    "print(\"Percentage of days in which the Close price was lower than the Open price in df1:\")\n",
    "print(f\"{percentage_lower_close:.2f}%\")\n"
   ]
  },
  {
   "cell_type": "code",
   "execution_count": null,
   "metadata": {},
   "outputs": [],
   "source": []
  }
 ],
 "metadata": {
  "kernelspec": {
   "display_name": "base",
   "language": "python",
   "name": "python3"
  },
  "language_info": {
   "codemirror_mode": {
    "name": "ipython",
    "version": 3
   },
   "file_extension": ".py",
   "mimetype": "text/x-python",
   "name": "python",
   "nbconvert_exporter": "python",
   "pygments_lexer": "ipython3",
   "version": "3.11.7"
  }
 },
 "nbformat": 4,
 "nbformat_minor": 2
}
