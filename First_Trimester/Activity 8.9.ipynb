{
 "cells": [
  {
   "cell_type": "markdown",
   "metadata": {},
   "source": [
    "For each of the next activities, create a new code cell and write your solution.\n",
    "For these activities you will need the file data_lecture3.xlsx, which contains 8 different sheets:data1,\n",
    "data2, …, data8."
   ]
  },
  {
   "cell_type": "markdown",
   "metadata": {},
   "source": [
    "1. Open the file file data_session_3.xlsx and load the data for sheets data1, … to data8\n",
    "in pandas dataframes called df1, df2, … df8."
   ]
  },
  {
   "cell_type": "code",
   "execution_count": 2,
   "metadata": {},
   "outputs": [],
   "source": [
    "import pandas as pd"
   ]
  },
  {
   "cell_type": "code",
   "execution_count": 14,
   "metadata": {},
   "outputs": [
    {
     "name": "stdout",
     "output_type": "stream",
     "text": [
      "   Values\n",
      "0       9\n",
      "1       0\n",
      "2       8\n",
      "3       0\n",
      "4       0\n"
     ]
    }
   ],
   "source": [
    "import pandas as pd\n",
    "\n",
    "# Open the Excel file and load data into pandas dataframes\n",
    "xls = pd.ExcelFile('data_session_3.xlsx')\n",
    "\n",
    "# Load each sheet into a separate dataframe\n",
    "dfs = {f'df{i+1}': pd.read_excel(xls, sheet_name=f'data{i+1}') for i in range(8)}\n",
    "\n",
    "\n",
    "print(dfs['df2'].head())  # Print the first few rows of df2"
   ]
  },
  {
   "cell_type": "code",
   "execution_count": 15,
   "metadata": {},
   "outputs": [
    {
     "name": "stdout",
     "output_type": "stream",
     "text": [
      "Data type analysis for df1:\n",
      "Continuous Data: ['Values']\n",
      "\n",
      "Data type analysis for df2:\n",
      "Discrete Data: All columns are integers.\n",
      "\n",
      "Data type analysis for df3:\n",
      "Categorical Data: ['Values']\n",
      "Continuous Data: ['Values']\n",
      "\n",
      "Data type analysis for df4:\n",
      "Categorical Data: ['Values']\n",
      "Continuous Data: ['Values']\n",
      "\n",
      "Data type analysis for df5:\n",
      "Continuous Data: ['Values']\n",
      "\n",
      "Data type analysis for df6:\n",
      "Discrete Data: All columns are integers.\n",
      "\n",
      "Data type analysis for df7:\n",
      "Continuous Data: ['X', 'Y', 'Z']\n",
      "\n",
      "Data type analysis for df8:\n",
      "Continuous Data: ['X', 'Y']\n",
      "\n"
     ]
    }
   ],
   "source": [
    "# Assuming you already have loaded the data into dataframes df1, df2, ..., df8\n",
    "\n",
    "for i in range(1, 9):\n",
    "    sheet_name = f'df{i}'\n",
    "    print(f\"Data type analysis for {sheet_name}:\")\n",
    "    df = dfs[sheet_name]\n",
    "    \n",
    "    # Check if there are any non-numeric columns\n",
    "    non_numeric_columns = df.select_dtypes(exclude=['number']).columns.tolist()\n",
    "    \n",
    "    if len(non_numeric_columns) > 0:\n",
    "        print(\"Categorical Data:\", non_numeric_columns)\n",
    "    \n",
    "    # Check if there are any columns with non-integer values\n",
    "    non_integer_columns = [col for col in df.columns if not df[col].dtype.kind in 'iu']\n",
    "    \n",
    "    if len(non_integer_columns) > 0:\n",
    "        print(\"Continuous Data:\", non_integer_columns)\n",
    "    else:\n",
    "        print(\"Discrete Data: All columns are integers.\")\n",
    "    \n",
    "    print()\n"
   ]
  },
  {
   "cell_type": "markdown",
   "metadata": {},
   "source": [
    "User\n",
    "3. Using Python, make a frequency distribution for the data in sheet data3."
   ]
  },
  {
   "cell_type": "code",
   "execution_count": 20,
   "metadata": {},
   "outputs": [],
   "source": [
    "df3 = dfs['df3']"
   ]
  },
  {
   "cell_type": "code",
   "execution_count": 23,
   "metadata": {},
   "outputs": [
    {
     "name": "stdout",
     "output_type": "stream",
     "text": [
      "Frequency Distribution:\n",
      "Values\n",
      "Medium       37\n",
      "Low          23\n",
      "High         20\n",
      "Very_Low     19\n",
      "Very_High     1\n",
      "Name: count, dtype: int64\n"
     ]
    }
   ],
   "source": [
    "# Assuming you already have loaded the data into dataframe df3\n",
    "\n",
    "# Assuming df3 is already loaded from data3 sheet\n",
    "# Replace 'column_name' with the name of the column for which you want to create the frequency distribution\n",
    "\n",
    "frequency_distribution = df3['Values'].value_counts()\n",
    "\n",
    "# Print the frequency distribution\n",
    "print(\"Frequency Distribution:\")\n",
    "print(frequency_distribution)\n"
   ]
  },
  {
   "cell_type": "markdown",
   "metadata": {},
   "source": [
    "4. Plot a histogram for the data in sheet data5."
   ]
  },
  {
   "cell_type": "code",
   "execution_count": 27,
   "metadata": {},
   "outputs": [],
   "source": [
    "df5 = dfs['df5']"
   ]
  },
  {
   "cell_type": "code",
   "execution_count": 28,
   "metadata": {},
   "outputs": [
    {
     "data": {
      "image/png": "[encoded data removed]",
      "text/plain": [
       "<Figure size 640x480 with 1 Axes>"
      ]
     },
     "metadata": {},
     "output_type": "display_data"
    }
   ],
   "source": [
    "\n",
    "\n",
    "import matplotlib.pyplot as plt\n",
    "\n",
    "\n",
    "plt.hist(df5['Values'], bins=10, color='skyblue', edgecolor='black')\n",
    "\n",
    "plt.xlabel('Values')\n",
    "plt.ylabel('Frequency')\n",
    "plt.title('Histogram of Data in Sheet data5')\n",
    "\n",
    "plt.show()\n"
   ]
  },
  {
   "cell_type": "markdown",
   "metadata": {},
   "source": [
    "5. Using numpy, compute the mean, median, variance and standard deviation for data in\n",
    "sheet data2."
   ]
  },
  {
   "cell_type": "code",
   "execution_count": 29,
   "metadata": {},
   "outputs": [],
   "source": [
    "df2 = dfs['df2']"
   ]
  },
  {
   "cell_type": "code",
   "execution_count": 31,
   "metadata": {},
   "outputs": [
    {
     "name": "stdout",
     "output_type": "stream",
     "text": [
      "Mean: 4.25\n",
      "Median: 4.5\n",
      "Variance: 10.3275\n",
      "Standard Deviation: 3.213642792844283\n"
     ]
    }
   ],
   "source": [
    "import numpy as np\n",
    "import pandas as pd\n",
    "\n",
    "# Load the data into a pandas DataFrame\n",
    "df2 = pd.read_excel('data_session_3.xlsx', sheet_name='data2')\n",
    "\n",
    "\n",
    "data_column = df2['Values']\n",
    "\n",
    "# Compute the mean, median, variance, and standard deviation using numpy\n",
    "mean_value = np.mean(data_column)\n",
    "median_value = np.median(data_column)\n",
    "variance_value = np.var(data_column)\n",
    "std_deviation_value = np.std(data_column)\n",
    "\n",
    "# Print the computed statistics\n",
    "print(\"Mean:\", mean_value)\n",
    "print(\"Median:\", median_value)\n",
    "print(\"Variance:\", variance_value)\n",
    "print(\"Standard Deviation:\", std_deviation_value)\n"
   ]
  },
  {
   "cell_type": "markdown",
   "metadata": {},
   "source": [
    "6. Make a scatterplot of the variables Y and Z, in the sheet data7."
   ]
  },
  {
   "cell_type": "code",
   "execution_count": 32,
   "metadata": {},
   "outputs": [],
   "source": [
    "df7 = dfs['df7']"
   ]
  },
  {
   "cell_type": "code",
   "execution_count": 33,
   "metadata": {},
   "outputs": [
    {
     "data": {
      "image/png": "[encoded data removed]",
      "text/plain": [
       "<Figure size 800x600 with 1 Axes>"
      ]
     },
     "metadata": {},
     "output_type": "display_data"
    }
   ],
   "source": [
    "import pandas as pd\n",
    "import matplotlib.pyplot as plt\n",
    "\n",
    "# Load the data into a pandas DataFrame\n",
    "df7 = pd.read_excel('data_session_3.xlsx', sheet_name='data7')\n",
    "\n",
    "\n",
    "# Extract the variables Y and Z\n",
    "Y = df7['Y']\n",
    "Z = df7['Z']\n",
    "\n",
    "# Create a scatter plot\n",
    "plt.figure(figsize=(8, 6))\n",
    "plt.scatter(Y, Z, color='blue', alpha=0.5)\n",
    "\n",
    "# Add labels and title\n",
    "plt.xlabel('Y')\n",
    "plt.ylabel('Z')\n",
    "plt.title('Scatterplot of Variables Y and Z')\n",
    "\n",
    "# Show plot\n",
    "plt.grid(True)\n",
    "plt.show()\n"
   ]
  },
  {
   "cell_type": "markdown",
   "metadata": {},
   "source": [
    "7. Compute the correlation and the covariance for the pairs of variables X-Y; X-Z and Y-Z\n",
    "on the same dataset."
   ]
  },
  {
   "cell_type": "code",
   "execution_count": 34,
   "metadata": {},
   "outputs": [
    {
     "name": "stdout",
     "output_type": "stream",
     "text": [
      "Correlation X-Y: 0.9638715983138969\n",
      "Correlation X-Z: -0.9743360582131338\n",
      "Correlation Y-Z: -0.9541000517611214\n",
      "\n",
      "Covariance X-Y: 29.580827333822718\n",
      "Covariance X-Z: -15.868809974704318\n",
      "Covariance Y-Z: -48.45015097462595\n"
     ]
    }
   ],
   "source": [
    "import pandas as pd\n",
    "\n",
    "# Load the data into a pandas DataFrame\n",
    "df7 = pd.read_excel('data_session_3.xlsx', sheet_name='data7')\n",
    "\n",
    "\n",
    "\n",
    "# Extract the variables X, Y, and Z\n",
    "X = df7['X']\n",
    "Y = df7['Y']\n",
    "Z = df7['Z']\n",
    "\n",
    "# Compute correlation\n",
    "correlation_XY = X.corr(Y)\n",
    "correlation_XZ = X.corr(Z)\n",
    "correlation_YZ = Y.corr(Z)\n",
    "\n",
    "# Compute covariance\n",
    "covariance_XY = X.cov(Y)\n",
    "covariance_XZ = X.cov(Z)\n",
    "covariance_YZ = Y.cov(Z)\n",
    "\n",
    "# Print the computed statistics\n",
    "print(\"Correlation X-Y:\", correlation_XY)\n",
    "print(\"Correlation X-Z:\", correlation_XZ)\n",
    "print(\"Correlation Y-Z:\", correlation_YZ)\n",
    "\n",
    "print(\"\\nCovariance X-Y:\", covariance_XY)\n",
    "print(\"Covariance X-Z:\", covariance_XZ)\n",
    "print(\"Covariance Y-Z:\", covariance_YZ)\n"
   ]
  },
  {
   "cell_type": "markdown",
   "metadata": {},
   "source": [
    "8. Consider the data in sheet data8. Are the variables X and Y correlated? Are they independent?"
   ]
  },
  {
   "cell_type": "code",
   "execution_count": 35,
   "metadata": {},
   "outputs": [],
   "source": [
    "df8 = dfs['df8']"
   ]
  },
  {
   "cell_type": "code",
   "execution_count": 36,
   "metadata": {},
   "outputs": [
    {
     "name": "stdout",
     "output_type": "stream",
     "text": [
      "Correlation coefficient between X and Y: -0.019027707206914168\n",
      "The variables X and Y are independent.\n"
     ]
    }
   ],
   "source": [
    "import pandas as pd\n",
    "\n",
    "# Load the data into a pandas DataFrame\n",
    "df8 = pd.read_excel('data_session_3.xlsx', sheet_name='data8')\n",
    "\n",
    "# Extract the variables X and Y\n",
    "X = df8['X']\n",
    "Y = df8['Y']\n",
    "\n",
    "# Compute correlation coefficient\n",
    "correlation = X.corr(Y)\n",
    "\n",
    "# Here, I'll use the Chi-square test for independence from scipy\n",
    "from scipy.stats import chi2_contingency\n",
    "\n",
    "# Create a contingency table\n",
    "contingency_table = pd.crosstab(X, Y)\n",
    "\n",
    "# Perform the Chi-square test for independence\n",
    "chi2, p_value, _, _ = chi2_contingency(contingency_table)\n",
    "\n",
    "# Print the results\n",
    "print(\"Correlation coefficient between X and Y:\", correlation)\n",
    "\n",
    "# Check if the p-value is less than the significance level (e.g., 0.05) to reject the null hypothesis\n",
    "if p_value < 0.05:\n",
    "    print(\"The variables X and Y are dependent (not independent).\")\n",
    "else:\n",
    "    print(\"The variables X and Y are independent.\")\n"
   ]
  },
  {
   "cell_type": "markdown",
   "metadata": {},
   "source": [
    "9. Compute the mean, median, variance and standard deviation for dataset (given a\n",
    "frequency table) in sheet data6."
   ]
  },
  {
   "cell_type": "code",
   "execution_count": 37,
   "metadata": {},
   "outputs": [],
   "source": [
    "df6 = dfs['df6']"
   ]
  },
  {
   "cell_type": "code",
   "execution_count": 40,
   "metadata": {},
   "outputs": [
    {
     "name": "stdout",
     "output_type": "stream",
     "text": [
      "Mean: 2.8282828282828283\n",
      "Median: 3.0\n",
      "Variance: 2.9503111927354357\n",
      "Standard Deviation: 1.7176469930505034\n"
     ]
    }
   ],
   "source": [
    "import numpy as np\n",
    "import pandas as pd\n",
    "\n",
    "# Load the data into a pandas DataFrame\n",
    "df6 = pd.read_excel('data_session_3.xlsx', sheet_name='data6')\n",
    "\n",
    "data = []\n",
    "for index, row in df6.iterrows():\n",
    "    data.extend([row['value']] * row['Frequency'])\n",
    "\n",
    "# Compute the mean, median, variance, and standard deviation using numpy\n",
    "mean_value = np.mean(data)\n",
    "median_value = np.median(data)\n",
    "variance_value = np.var(data)\n",
    "std_deviation_value = np.std(data)\n",
    "\n",
    "# Print the computed statistics\n",
    "print(\"Mean:\", mean_value)\n",
    "print(\"Median:\", median_value)\n",
    "print(\"Variance:\", variance_value)\n",
    "print(\"Standard Deviation:\", std_deviation_value)\n"
   ]
  },
  {
   "cell_type": "markdown",
   "metadata": {},
   "source": [
    "10. Create a numpy array with raw data corresponding to the frequency table in data6. That is,\n",
    "create a vector of raw data with ten 0’s, fifteen 1’s, and so on."
   ]
  },
  {
   "cell_type": "code",
   "execution_count": 42,
   "metadata": {},
   "outputs": [
    {
     "name": "stdout",
     "output_type": "stream",
     "text": [
      "NumPy array with raw data:\n",
      "[0 0 0 0 0 0 0 0 0 0 1 1 1 1 1 1 1 1 1 1 1 1 1 1 1 2 2 2 2 2 2 2 2 2 2 2 2\n",
      " 2 2 2 2 2 2 3 3 3 3 3 3 3 3 3 3 3 3 3 3 3 3 3 3 3 3 3 4 4 4 4 4 4 4 4 4 4\n",
      " 4 4 4 4 4 4 5 5 5 5 5 5 5 5 5 5 5 5 6 6 6 6 6 6 6]\n"
     ]
    }
   ],
   "source": [
    "import numpy as np\n",
    "import pandas as pd\n",
    "\n",
    "# Load the data into a pandas DataFrame\n",
    "df6 = pd.read_excel('data_session_3.xlsx', sheet_name='data6')\n",
    "\n",
    "\n",
    "raw_data = []\n",
    "for _, row in df6.iterrows():\n",
    "    raw_data.extend([row['value']] * row['Frequency'])\n",
    "\n",
    "# Convert the list to a NumPy array\n",
    "raw_data_array = np.array(raw_data)\n",
    "\n",
    "# Print the created NumPy array\n",
    "print(\"NumPy array with raw data:\")\n",
    "print(raw_data_array)\n"
   ]
  },
  {
   "cell_type": "code",
   "execution_count": 1,
   "metadata": {},
   "outputs": [
    {
     "name": "stdout",
     "output_type": "stream",
     "text": [
      "Minimum number of applications needed: 311\n"
     ]
    }
   ],
   "source": [
    "from scipy.stats import binom\n",
    "\n",
    "def min_applications_for_interview_calls(p, k, target_probability):\n",
    "    n = 1\n",
    "    cumulative_probability = 0\n",
    "    while cumulative_probability < target_probability:\n",
    "        cumulative_probability = 1 - binom.cdf(k-1, n, p)\n",
    "        if cumulative_probability >= target_probability:\n",
    "            break\n",
    "        n += 1\n",
    "    return n\n",
    "\n",
    "# Probability of getting an interview call for each application\n",
    "p = 0.05\n",
    "\n",
    "# Minimum number of interview calls desired\n",
    "k = 10\n",
    "\n",
    "# Target probability (e.g., 0.95 for 95% chance)\n",
    "target_probability = 0.95\n",
    "\n",
    "# Calculate the minimum number of applications needed\n",
    "min_applications = min_applications_for_interview_calls(p, k, target_probability)\n",
    "print(\"Minimum number of applications needed:\", min_applications)\n"
   ]
  },
  {
   "cell_type": "code",
   "execution_count": null,
   "metadata": {},
   "outputs": [],
   "source": []
  }
 ],
 "metadata": {
  "kernelspec": {
   "display_name": "base",
   "language": "python",
   "name": "python3"
  },
  "language_info": {
   "codemirror_mode": {
    "name": "ipython",
    "version": 3
   },
   "file_extension": ".py",
   "mimetype": "text/x-python",
   "name": "python",
   "nbconvert_exporter": "python",
   "pygments_lexer": "ipython3",
   "version": "3.11.7"
  }
 },
 "nbformat": 4,
 "nbformat_minor": 2
}
