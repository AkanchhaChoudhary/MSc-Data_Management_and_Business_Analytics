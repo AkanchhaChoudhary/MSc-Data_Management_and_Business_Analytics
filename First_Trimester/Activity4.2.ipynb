{
 "cells": [
  {
   "cell_type": "markdown",
   "metadata": {},
   "source": [
    "4.2_activity\n",
    "\n",
    "January 26, 2023\n",
    "\n",
    "1 Exercises\n",
    "\n",
    "1.0.1 arguments and default\n",
    "\n",
    "For each of the next exercises, create a new code cell and write your solution"
   ]
  },
  {
   "cell_type": "markdown",
   "metadata": {},
   "source": [
    "1. Write a function that accepts two arguments (of type string) and returns a string with the\n",
    "two concatenated"
   ]
  },
  {
   "cell_type": "code",
   "execution_count": 49,
   "metadata": {},
   "outputs": [
    {
     "data": {
      "text/plain": [
       "'sikhakant'"
      ]
     },
     "execution_count": 49,
     "metadata": {},
     "output_type": "execute_result"
    }
   ],
   "source": [
    "def concate_func(str1,str2):\n",
    "    result = str1 + str2\n",
    "    return result\n",
    "concate_func('sikha','kant')\n"
   ]
  },
  {
   "cell_type": "markdown",
   "metadata": {},
   "source": [
    "2. Write a function with a positional argument (string) and a keyword argument (also string,\n",
    "default=’.’) that returns the concatenation of the two arguments"
   ]
  },
  {
   "cell_type": "code",
   "execution_count": 53,
   "metadata": {},
   "outputs": [
    {
     "data": {
      "text/plain": [
       "'sikha.'"
      ]
     },
     "execution_count": 53,
     "metadata": {},
     "output_type": "execute_result"
    }
   ],
   "source": [
    "def concate2_func(str,seperator = '.'):\n",
    "    result = str + seperator\n",
    "    return result\n",
    "concate2_func('sikha')\n"
   ]
  },
  {
   "cell_type": "markdown",
   "metadata": {},
   "source": [
    "3. Write a function that accepts two arguments: a list with numeric values, and a number (with\n",
    "a default vale of 1) and returns the list multiplied by the number"
   ]
  },
  {
   "cell_type": "code",
   "execution_count": 61,
   "metadata": {},
   "outputs": [
    {
     "data": {
      "text/plain": [
       "[3, 6, 9]"
      ]
     },
     "execution_count": 61,
     "metadata": {},
     "output_type": "execute_result"
    }
   ],
   "source": [
    "def my_list1(list1, num = 3):\n",
    "   result = []\n",
    "   for x in list1:\n",
    "        result.append(x*num)\n",
    "   return result\n",
    "my_list1([1,2,3])"
   ]
  },
  {
   "cell_type": "markdown",
   "metadata": {},
   "source": [
    "4. Write a function that accepts two argument: a list of numeric values, and a number (default=0), that return a new list with only the numbers bigger than the second argument."
   ]
  },
  {
   "cell_type": "code",
   "execution_count": 65,
   "metadata": {},
   "outputs": [
    {
     "data": {
      "text/plain": [
       "[1, 2]"
      ]
     },
     "execution_count": 65,
     "metadata": {},
     "output_type": "execute_result"
    }
   ],
   "source": [
    "def my_list1(list1, num = 0):\n",
    "   new_list = []\n",
    "   for x in list1:\n",
    "        if x>num:\n",
    "         new_list.append(x)\n",
    "   return new_list\n",
    "my_list1([1,2,0])"
   ]
  },
  {
   "cell_type": "code",
   "execution_count": null,
   "metadata": {},
   "outputs": [],
   "source": []
  }
 ],
 "metadata": {
  "kernelspec": {
   "display_name": "base",
   "language": "python",
   "name": "python3"
  },
  "language_info": {
   "codemirror_mode": {
    "name": "ipython",
    "version": 3
   },
   "file_extension": ".py",
   "mimetype": "text/x-python",
   "name": "python",
   "nbconvert_exporter": "python",
   "pygments_lexer": "ipython3",
   "version": "3.11.7"
  }
 },
 "nbformat": 4,
 "nbformat_minor": 2
}
