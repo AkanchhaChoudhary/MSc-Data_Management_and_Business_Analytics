{
 "cells": [
  {
   "cell_type": "code",
   "execution_count": 3,
   "id": "0f9201a8-096d-46bd-9c85-e7c94ed2264a",
   "metadata": {},
   "outputs": [
    {
     "data": {
      "text/html": [
       "<div>\n",
       "<style scoped>\n",
       "    .dataframe tbody tr th:only-of-type {\n",
       "        vertical-align: middle;\n",
       "    }\n",
       "\n",
       "    .dataframe tbody tr th {\n",
       "        vertical-align: top;\n",
       "    }\n",
       "\n",
       "    .dataframe thead th {\n",
       "        text-align: right;\n",
       "    }\n",
       "</style>\n",
       "<table border=\"1\" class=\"dataframe\">\n",
       "  <thead>\n",
       "    <tr style=\"text-align: right;\">\n",
       "      <th></th>\n",
       "      <th>X1</th>\n",
       "      <th>X2</th>\n",
       "      <th>X3</th>\n",
       "      <th>X4</th>\n",
       "      <th>Y</th>\n",
       "    </tr>\n",
       "  </thead>\n",
       "  <tbody>\n",
       "    <tr>\n",
       "      <th>0</th>\n",
       "      <td>-3.420985</td>\n",
       "      <td>5.016800</td>\n",
       "      <td>1.821225</td>\n",
       "      <td>7.866944</td>\n",
       "      <td>-63.713338</td>\n",
       "    </tr>\n",
       "    <tr>\n",
       "      <th>1</th>\n",
       "      <td>-1.880557</td>\n",
       "      <td>1.016896</td>\n",
       "      <td>0.591595</td>\n",
       "      <td>9.795114</td>\n",
       "      <td>-56.485778</td>\n",
       "    </tr>\n",
       "    <tr>\n",
       "      <th>2</th>\n",
       "      <td>-1.422031</td>\n",
       "      <td>0.091132</td>\n",
       "      <td>1.436244</td>\n",
       "      <td>8.881666</td>\n",
       "      <td>-37.729994</td>\n",
       "    </tr>\n",
       "    <tr>\n",
       "      <th>3</th>\n",
       "      <td>-2.515948</td>\n",
       "      <td>6.052832</td>\n",
       "      <td>0.921854</td>\n",
       "      <td>8.084422</td>\n",
       "      <td>-65.371525</td>\n",
       "    </tr>\n",
       "    <tr>\n",
       "      <th>4</th>\n",
       "      <td>-2.227559</td>\n",
       "      <td>9.481802</td>\n",
       "      <td>1.318660</td>\n",
       "      <td>7.210450</td>\n",
       "      <td>-64.753081</td>\n",
       "    </tr>\n",
       "  </tbody>\n",
       "</table>\n",
       "</div>"
      ],
      "text/plain": [
       "         X1        X2        X3        X4          Y\n",
       "0 -3.420985  5.016800  1.821225  7.866944 -63.713338\n",
       "1 -1.880557  1.016896  0.591595  9.795114 -56.485778\n",
       "2 -1.422031  0.091132  1.436244  8.881666 -37.729994\n",
       "3 -2.515948  6.052832  0.921854  8.084422 -65.371525\n",
       "4 -2.227559  9.481802  1.318660  7.210450 -64.753081"
      ]
     },
     "execution_count": 3,
     "metadata": {},
     "output_type": "execute_result"
    }
   ],
   "source": [
    "import numpy as np\n",
    "import pandas as pd\n",
    "import matplotlib.pyplot as plt\n",
    "from sklearn.linear_model import LinearRegression\n",
    "\n",
    "df = pd.read_excel('data_session_4.xlsx', sheet_name='multivariate')\n",
    "df.head()"
   ]
  },
  {
   "cell_type": "code",
   "execution_count": 5,
   "id": "0ad4ebb0",
   "metadata": {},
   "outputs": [
    {
     "name": "stdout",
     "output_type": "stream",
     "text": [
      "          X1        X2        X3        X4         Y\n",
      "X1  1.000000 -0.155424  0.037743 -0.066084  0.682978\n",
      "X2 -0.155424  1.000000 -0.013819 -0.195992 -0.545682\n",
      "X3  0.037743 -0.013819  1.000000  0.015230  0.276727\n",
      "X4 -0.066084 -0.195992  0.015230  1.000000 -0.459199\n",
      "Y   0.682978 -0.545682  0.276727 -0.459199  1.000000\n"
     ]
    }
   ],
   "source": [
    "correlation_matrix = df.corr()\n",
    "print(correlation_matrix)"
   ]
  },
  {
   "cell_type": "code",
   "execution_count": 4,
   "id": "e8de2f4f-2a0e-49f9-b350-a9040456a2c7",
   "metadata": {},
   "outputs": [
    {
     "data": {
      "text/plain": [
       "(82, 4)"
      ]
     },
     "execution_count": 4,
     "metadata": {},
     "output_type": "execute_result"
    }
   ],
   "source": [
    "X = df[['X1', 'X2', 'X3', 'X4']].values\n",
    "Y = df[['Y']].values\n",
    "X.shape"
   ]
  },
  {
   "cell_type": "code",
   "execution_count": 5,
   "id": "5bd77e9c-bcfa-481d-9dbc-b6389e73a7f0",
   "metadata": {},
   "outputs": [
    {
     "name": "stdout",
     "output_type": "stream",
     "text": [
      "[[10. -3.  7. -6.]] [20.]\n"
     ]
    }
   ],
   "source": [
    "mymodel =  LinearRegression().fit(X, Y)\n",
    "coefficients= mymodel.coef_\n",
    "intercept = mymodel.intercept_\n",
    "print(coefficients, intercept)"
   ]
  },
  {
   "cell_type": "markdown",
   "id": "01f61b60-a24b-40b7-b5c9-2c3606fbe755",
   "metadata": {},
   "source": [
    "So, the model is\n",
    "$ Y = 10 X1  -3 X2 +7 X3 -6 X4 +20$"
   ]
  },
  {
   "cell_type": "code",
   "execution_count": 6,
   "id": "13fc979f-67d3-4ed3-8104-de6d149ef20a",
   "metadata": {},
   "outputs": [
    {
     "name": "stdout",
     "output_type": "stream",
     "text": [
      "1.0\n"
     ]
    },
    {
     "data": {
      "image/png": "[encoded data removed]",
      "text/plain": [
       "<Figure size 640x480 with 1 Axes>"
      ]
     },
     "metadata": {},
     "output_type": "display_data"
    }
   ],
   "source": [
    "Y_pred = mymodel.predict(X)\n",
    "plt.plot(Y, Y_pred, '*')\n",
    "print(mymodel.score(X, Y))"
   ]
  },
  {
   "cell_type": "code",
   "execution_count": null,
   "id": "793d791d-a7a2-4da7-8080-9429154a83c3",
   "metadata": {},
   "outputs": [],
   "source": []
  }
 ],
 "metadata": {
  "kernelspec": {
   "display_name": "Python 3 (ipykernel)",
   "language": "python",
   "name": "python3"
  },
  "language_info": {
   "codemirror_mode": {
    "name": "ipython",
    "version": 3
   },
   "file_extension": ".py",
   "mimetype": "text/x-python",
   "name": "python",
   "nbconvert_exporter": "python",
   "pygments_lexer": "ipython3",
   "version": "3.11.7"
  }
 },
 "nbformat": 4,
 "nbformat_minor": 5
}
