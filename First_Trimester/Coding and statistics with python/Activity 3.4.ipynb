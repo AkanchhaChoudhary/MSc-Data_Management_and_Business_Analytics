{
 "cells": [
  {
   "cell_type": "markdown",
   "metadata": {},
   "source": [
    "3.4_activity\n",
    "\n",
    "February 6, 2023\n",
    "\n",
    "1 Exercises\n",
    "\n",
    "1.0.1 continue and break"
   ]
  },
  {
   "cell_type": "markdown",
   "metadata": {},
   "source": [
    "For each of the next exercises, create a new code cell and write your solution"
   ]
  },
  {
   "cell_type": "markdown",
   "metadata": {},
   "source": [
    "1. Let x=[1,8,4,6,7,3,5,2,4,9] make a code that print all the elements of the list but that\n",
    "stops if one of the elements is divisible by 7"
   ]
  },
  {
   "cell_type": "code",
   "execution_count": 7,
   "metadata": {},
   "outputs": [
    {
     "name": "stdout",
     "output_type": "stream",
     "text": [
      "1\n",
      "8\n",
      "4\n",
      "6\n",
      "7\n",
      "found condition hence pausing the iteration at 7\n"
     ]
    }
   ],
   "source": [
    "x = [1,8,4,6,7,3,5,2,4,9]\n",
    "for i in x:\n",
    "    print(i)\n",
    "    if i % 7 == 0 :\n",
    "        break\n",
    "    \n",
    "print(\"found condition hence pausing the iteration at\", i)\n",
    "        \n"
   ]
  },
  {
   "cell_type": "markdown",
   "metadata": {},
   "source": [
    "2. Let x=[1,8,4,6,7,3,5,2,4,9] make a code that print all the elements of the list but that\n",
    "ignores (without stopping) the elements is divisible by 7"
   ]
  },
  {
   "cell_type": "code",
   "execution_count": 9,
   "metadata": {},
   "outputs": [
    {
     "name": "stdout",
     "output_type": "stream",
     "text": [
      "1\n",
      "8\n",
      "4\n",
      "6\n",
      "3\n",
      "5\n",
      "2\n",
      "4\n",
      "9\n"
     ]
    }
   ],
   "source": [
    "x = [1,8,4,6,7,3,5,2,4,9]\n",
    "for i in x:\n",
    "    if i%7 == 0:\n",
    "        continue\n",
    "    print(i)\n"
   ]
  },
  {
   "cell_type": "markdown",
   "metadata": {},
   "source": [
    "3. let x=[1.5 ,8 ,4.3 ,6, 7, 3, ‘text’ ,5, 2, True, False, 9 ] make a code that\n",
    "prints that double of the elements of the list if they of numeric type (integer or float), ignores\n",
    "all the elements that are not numeric, and stops completely if one of the entries equals the\n",
    "Boolean False."
   ]
  },
  {
   "cell_type": "code",
   "execution_count": 16,
   "metadata": {},
   "outputs": [
    {
     "name": "stdout",
     "output_type": "stream",
     "text": [
      "3.0\n",
      "16\n",
      "8.6\n",
      "12\n",
      "14\n",
      "6\n",
      "10\n",
      "4\n",
      "2\n"
     ]
    }
   ],
   "source": [
    "x = [1.5,8,4.3,6,7,3,'text',5,2,True,False,9]\n",
    "\n",
    "x = [1.5, 8, 4.3, 6, 7, 3, 'text', 5, 2, True, False, 9]\n",
    "\n",
    "for element in x:\n",
    "    if element is False:\n",
    "        break  # Stop completely if False is encountered\n",
    "    elif isinstance(element, (int, float)):\n",
    "        print(2 * element)  # Print double of numeric elements\n",
    "\n"
   ]
  },
  {
   "cell_type": "code",
   "execution_count": null,
   "metadata": {},
   "outputs": [],
   "source": []
  }
 ],
 "metadata": {
  "kernelspec": {
   "display_name": "base",
   "language": "python",
   "name": "python3"
  },
  "language_info": {
   "codemirror_mode": {
    "name": "ipython",
    "version": 3
   },
   "file_extension": ".py",
   "mimetype": "text/x-python",
   "name": "python",
   "nbconvert_exporter": "python",
   "pygments_lexer": "ipython3",
   "version": "3.11.7"
  }
 },
 "nbformat": 4,
 "nbformat_minor": 2
}
