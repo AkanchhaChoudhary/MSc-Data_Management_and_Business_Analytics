{
 "cells": [
  {
   "cell_type": "markdown",
   "metadata": {},
   "source": [
    "3.5_activity\n",
    "\n",
    "February 6, 2023\n",
    "\n",
    "1 Exercises\n",
    "\n",
    "1.0.1 list comprehensions\n",
    "\n",
    "For each of the next exercises, create a new code cell and write your solution In this section,;\n",
    "loops are not allowed; only list comprehensions"
   ]
  },
  {
   "cell_type": "markdown",
   "metadata": {},
   "source": [
    "1. Let mylist=[1,2,3,4,5,6,7,8,9,10,11,12,13,14,15 ]. Using mylist, create a newlist in\n",
    "which each element is half the value of the original list"
   ]
  },
  {
   "cell_type": "code",
   "execution_count": 6,
   "metadata": {},
   "outputs": [
    {
     "name": "stdout",
     "output_type": "stream",
     "text": [
      "0.5\n",
      "1.0\n",
      "1.5\n",
      "2.0\n",
      "2.5\n",
      "3.0\n",
      "3.5\n",
      "4.0\n",
      "4.5\n",
      "5.0\n",
      "5.5\n",
      "6.0\n",
      "6.5\n",
      "7.0\n",
      "7.5\n"
     ]
    }
   ],
   "source": [
    "x = 0\n",
    "mylist = [1,2,3,4,5,6,7,8,9,10,11,12,13,14,15]\n",
    "new_list = []\n",
    "for num in mylist:\n",
    "    x = num/2\n",
    "    new_list.append(x)\n",
    "    print(x)"
   ]
  },
  {
   "cell_type": "markdown",
   "metadata": {},
   "source": [
    "2. Same as before, but not including the elements divisible by 4"
   ]
  },
  {
   "cell_type": "code",
   "execution_count": 7,
   "metadata": {},
   "outputs": [
    {
     "name": "stdout",
     "output_type": "stream",
     "text": [
      "0.5\n",
      "1.0\n",
      "1.5\n",
      "2.5\n",
      "3.0\n",
      "3.5\n",
      "4.5\n",
      "5.0\n",
      "5.5\n",
      "6.5\n",
      "7.0\n",
      "7.5\n"
     ]
    }
   ],
   "source": [
    "x = 0\n",
    "mylist = [1,2,3,4,5,6,7,8,9,10,11,12,13,14,15]\n",
    "new_list = []\n",
    "for num in mylist:\n",
    "    x = num/2\n",
    "    if num % 4 == 0:\n",
    "        continue\n",
    "    new_list.append(x)\n",
    "    print(x)"
   ]
  },
  {
   "cell_type": "markdown",
   "metadata": {},
   "source": [
    "3. Let mytext=\"There are 1000 houses and 30 buildings in 3 states\". create a list containing only the numbers of this string."
   ]
  },
  {
   "cell_type": "code",
   "execution_count": 19,
   "metadata": {},
   "outputs": [
    {
     "name": "stdout",
     "output_type": "stream",
     "text": [
      "[1000, 30, 3]\n"
     ]
    }
   ],
   "source": [
    "mytext = \"There are 1000 houses and 30 buildings in 3 states\"\n",
    "words = mytext.split()\n",
    "numbers = []\n",
    "\n",
    "for word in words:\n",
    "    if word.isdigit():\n",
    "        numbers.append(int(word))\n",
    "\n",
    "print(numbers)\n"
   ]
  },
  {
   "cell_type": "markdown",
   "metadata": {},
   "source": [
    "4. Let list2=[‘John’, ‘Peter’, ‘Mary’, ‘Anna’] create a new list in which each elements\n",
    "the length of the name in list2"
   ]
  },
  {
   "cell_type": "code",
   "execution_count": 11,
   "metadata": {},
   "outputs": [
    {
     "name": "stdout",
     "output_type": "stream",
     "text": [
      "[4, 5, 5, 4]\n"
     ]
    }
   ],
   "source": [
    "list2 = ['john','Peter','Marry','Anna']\n",
    "\n",
    "list3 = []\n",
    "\n",
    "for name in list2:\n",
    "    len_name = len(name)\n",
    "    list3.append(len_name)\n",
    "print(list3)"
   ]
  },
  {
   "cell_type": "markdown",
   "metadata": {},
   "source": [
    "5. Using again list2; create a new list in which each element is a tuple with 2 values, the name\n",
    "in uppercase, and the length of the name"
   ]
  },
  {
   "cell_type": "code",
   "execution_count": 18,
   "metadata": {},
   "outputs": [
    {
     "name": "stdout",
     "output_type": "stream",
     "text": [
      "[('JOHN', 4), ('PETER', 5), ('MARRY', 5), ('ANNA', 4)]\n"
     ]
    }
   ],
   "source": [
    "list = ['john','Peter','Marry','Anna']\n",
    "list4 = []\n",
    "\n",
    "for name in list:\n",
    "    cap_name = name.upper()\n",
    "    len_name = len(name)\n",
    "    list4.append((cap_name,len_name))\n",
    "\n",
    "print(list4)"
   ]
  },
  {
   "cell_type": "code",
   "execution_count": null,
   "metadata": {},
   "outputs": [],
   "source": []
  }
 ],
 "metadata": {
  "kernelspec": {
   "display_name": "base",
   "language": "python",
   "name": "python3"
  },
  "language_info": {
   "codemirror_mode": {
    "name": "ipython",
    "version": 3
   },
   "file_extension": ".py",
   "mimetype": "text/x-python",
   "name": "python",
   "nbconvert_exporter": "python",
   "pygments_lexer": "ipython3",
   "version": "3.11.7"
  }
 },
 "nbformat": 4,
 "nbformat_minor": 2
}
