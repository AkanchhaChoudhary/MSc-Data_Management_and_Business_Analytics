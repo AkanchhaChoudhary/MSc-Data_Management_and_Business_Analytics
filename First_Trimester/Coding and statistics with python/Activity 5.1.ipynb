{
 "cells": [
  {
   "cell_type": "markdown",
   "metadata": {},
   "source": [
    "5.1_activity\n",
    "\n",
    "January 27, 2023\n",
    "\n",
    "1 Exercises\n",
    "\n",
    "1.0.1 handling files.\n",
    "\n",
    "For each of the next exercises, create a new code cell and write your solution.\n",
    "*You will need the folder data_mixed in the same location as your notebook"
   ]
  },
  {
   "cell_type": "markdown",
   "metadata": {},
   "source": [
    "1. Make a function that gets a directory as argument (for instance data_mixed) and returns\n",
    "two lists. one with the names of the elements in the folder, and other with True or False if\n",
    "the element is a file or not."
   ]
  },
  {
   "cell_type": "code",
   "execution_count": 3,
   "metadata": {},
   "outputs": [
    {
     "name": "stdout",
     "output_type": "stream",
     "text": [
      "Names of elements in the directory: ['Jupyter_Notebook_Cheat_Sheet.pdf', 'python-cheatsheets.pdf']\n",
      "File status (True if file, False if directory): [True, True]\n"
     ]
    }
   ],
   "source": [
    "import os\n",
    "\n",
    "def dir1(directory):\n",
    "    names = []\n",
    "    is_file = []\n",
    "\n",
    "    for item in os.listdir(directory):\n",
    "        full_path = os.path.join(directory, item)\n",
    "        \n",
    "        if os.path.isfile(full_path):\n",
    "            names.append(item)\n",
    "            is_file.append(True)\n",
    "        else:\n",
    "            names.append(item)\n",
    "            is_file.append(False)\n",
    "\n",
    "    return names, is_file\n",
    "\n",
    "# Example usage:\n",
    "directory_path = \"data_mixed\"\n",
    "names_list, is_file_list = dir1(directory_path)\n",
    "print(\"Names of elements in the directory:\", names_list)\n",
    "print(\"File status (True if file, False if directory):\", is_file_list)\n"
   ]
  },
  {
   "cell_type": "markdown",
   "metadata": {},
   "source": [
    "2.Create a file with two lines of text and close it"
   ]
  },
  {
   "cell_type": "code",
   "execution_count": 8,
   "metadata": {},
   "outputs": [],
   "source": [
    "# Open a file in write mode ('w')\n",
    "file_path = \"example.txt\"\n",
    "with open(file_path, 'w') as file:\n",
    "    # Write two lines of text to the file\n",
    "    file.write(\"This is the first line of text.\\n\")\n",
    "    file.write(\"And this is the second line.\\n\")\n",
    "\n",
    "file.close()\n"
   ]
  },
  {
   "cell_type": "markdown",
   "metadata": {},
   "source": [
    "3.Open the file that you just created and append 2 other lines, then close it"
   ]
  },
  {
   "cell_type": "code",
   "execution_count": 11,
   "metadata": {},
   "outputs": [],
   "source": [
    "with open(file_path, 'a') as file:\n",
    "    file.write(\"Weather is good today.\\n\")\n",
    "    file.write(\"glad you are fine.\\n\")"
   ]
  },
  {
   "cell_type": "markdown",
   "metadata": {},
   "source": [
    "4. Open the file that you just created and modified, and print all the lined except the third one\n",
    "on screen"
   ]
  },
  {
   "cell_type": "code",
   "execution_count": 13,
   "metadata": {},
   "outputs": [
    {
     "name": "stdout",
     "output_type": "stream",
     "text": [
      "This is the first line of text.\n",
      "And this is the second line.\n",
      "glad you are fine.\n"
     ]
    }
   ],
   "source": [
    "# Open the file in read mode ('r')\n",
    "file = open(file_path, 'r')\n",
    "\n",
    "# Read all lines from the file\n",
    "lines = file.readlines()\n",
    "\n",
    "# Close the file\n",
    "file.close()\n",
    "\n",
    "# Print all lines except the third one\n",
    "for index, line in enumerate(lines):\n",
    "    if index != 2:  # Skipping the third line (index 2)\n",
    "        print(line.strip())  \n"
   ]
  },
  {
   "cell_type": "markdown",
   "metadata": {},
   "source": [
    "5. The dataset Data_Set_Penguins contains three subfolders, each of one containing a number\n",
    "of images. Make a list containing the names of all the files in the three subfolders."
   ]
  }
 ],
 "metadata": {
  "kernelspec": {
   "display_name": "base",
   "language": "python",
   "name": "python3"
  },
  "language_info": {
   "codemirror_mode": {
    "name": "ipython",
    "version": 3
   },
   "file_extension": ".py",
   "mimetype": "text/x-python",
   "name": "python",
   "nbconvert_exporter": "python",
   "pygments_lexer": "ipython3",
   "version": "3.11.7"
  }
 },
 "nbformat": 4,
 "nbformat_minor": 2
}
