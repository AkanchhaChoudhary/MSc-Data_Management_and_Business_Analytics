{
 "cells": [
  {
   "cell_type": "markdown",
   "metadata": {},
   "source": [
    "SCENARIO\n",
    "\n",
    "You have been hired as a data analyst for a retail company called \"Superstore Sales\". Your task is to\n",
    "analyse the sales data and provide actionable insights to improve business performance. The\n",
    "company wants to understand the factors that drive sales and identify customer segments for\n",
    "targeted marketing strategies."
   ]
  },
  {
   "cell_type": "markdown",
   "metadata": {},
   "source": [
    "Answer the following questions:"
   ]
  },
  {
   "cell_type": "code",
   "execution_count": 48,
   "metadata": {},
   "outputs": [],
   "source": [
    "# load dataset\n",
    "\n",
    "import numpy as numpy\n",
    "import pandas as pd"
   ]
  },
  {
   "cell_type": "code",
   "execution_count": 49,
   "metadata": {},
   "outputs": [],
   "source": [
    "df = pd.read_excel('Sales_Data.xlsx')"
   ]
  },
  {
   "cell_type": "code",
   "execution_count": 50,
   "metadata": {},
   "outputs": [
    {
     "data": {
      "text/html": [
       "<div>\n",
       "<style scoped>\n",
       "    .dataframe tbody tr th:only-of-type {\n",
       "        vertical-align: middle;\n",
       "    }\n",
       "\n",
       "    .dataframe tbody tr th {\n",
       "        vertical-align: top;\n",
       "    }\n",
       "\n",
       "    .dataframe thead th {\n",
       "        text-align: right;\n",
       "    }\n",
       "</style>\n",
       "<table border=\"1\" class=\"dataframe\">\n",
       "  <thead>\n",
       "    <tr style=\"text-align: right;\">\n",
       "      <th></th>\n",
       "      <th>Row ID</th>\n",
       "      <th>Order ID</th>\n",
       "      <th>Order Date</th>\n",
       "      <th>Ship Date</th>\n",
       "      <th>Ship Mode</th>\n",
       "      <th>Customer ID</th>\n",
       "      <th>Customer Name</th>\n",
       "      <th>Segment</th>\n",
       "      <th>Country</th>\n",
       "      <th>City</th>\n",
       "      <th>State</th>\n",
       "      <th>Postal Code</th>\n",
       "      <th>Region</th>\n",
       "      <th>Product ID</th>\n",
       "      <th>Category</th>\n",
       "      <th>Sub-Category</th>\n",
       "      <th>Product Name</th>\n",
       "      <th>Sales$</th>\n",
       "      <th>Discount$</th>\n",
       "    </tr>\n",
       "  </thead>\n",
       "  <tbody>\n",
       "    <tr>\n",
       "      <th>0</th>\n",
       "      <td>1</td>\n",
       "      <td>CA-2017-152156</td>\n",
       "      <td>2017-11-08</td>\n",
       "      <td>2017-11-11</td>\n",
       "      <td>Second Class</td>\n",
       "      <td>CG-12520</td>\n",
       "      <td>Claire Gute</td>\n",
       "      <td>Consumer</td>\n",
       "      <td>United States</td>\n",
       "      <td>Henderson</td>\n",
       "      <td>Kentucky</td>\n",
       "      <td>42420.0</td>\n",
       "      <td>South</td>\n",
       "      <td>FUR-BO-10001798</td>\n",
       "      <td>Furniture</td>\n",
       "      <td>Bookcases</td>\n",
       "      <td>Bush Somerset Collection Bookcase</td>\n",
       "      <td>261.9600</td>\n",
       "      <td>13.09800</td>\n",
       "    </tr>\n",
       "    <tr>\n",
       "      <th>1</th>\n",
       "      <td>2</td>\n",
       "      <td>CA-2017-152156</td>\n",
       "      <td>2017-11-08</td>\n",
       "      <td>2017-11-11</td>\n",
       "      <td>Second Class</td>\n",
       "      <td>CG-12520</td>\n",
       "      <td>Claire Gute</td>\n",
       "      <td>Consumer</td>\n",
       "      <td>United States</td>\n",
       "      <td>Henderson</td>\n",
       "      <td>Kentucky</td>\n",
       "      <td>42420.0</td>\n",
       "      <td>South</td>\n",
       "      <td>FUR-CH-10000454</td>\n",
       "      <td>Furniture</td>\n",
       "      <td>Chairs</td>\n",
       "      <td>Hon Deluxe Fabric Upholstered Stacking Chairs,...</td>\n",
       "      <td>731.9400</td>\n",
       "      <td>36.59700</td>\n",
       "    </tr>\n",
       "    <tr>\n",
       "      <th>2</th>\n",
       "      <td>3</td>\n",
       "      <td>CA-2017-138688</td>\n",
       "      <td>2017-06-12</td>\n",
       "      <td>2017-06-16</td>\n",
       "      <td>Second Class</td>\n",
       "      <td>DV-13045</td>\n",
       "      <td>Darrin Van Huff</td>\n",
       "      <td>Corporate</td>\n",
       "      <td>United States</td>\n",
       "      <td>Los Angeles</td>\n",
       "      <td>California</td>\n",
       "      <td>90036.0</td>\n",
       "      <td>West</td>\n",
       "      <td>OFF-LA-10000240</td>\n",
       "      <td>Office Supplies</td>\n",
       "      <td>Labels</td>\n",
       "      <td>Self-Adhesive Address Labels for Typewriters b...</td>\n",
       "      <td>14.6200</td>\n",
       "      <td>1.90060</td>\n",
       "    </tr>\n",
       "    <tr>\n",
       "      <th>3</th>\n",
       "      <td>4</td>\n",
       "      <td>US-2016-108966</td>\n",
       "      <td>2016-10-11</td>\n",
       "      <td>2016-10-18</td>\n",
       "      <td>Standard Class</td>\n",
       "      <td>SO-20335</td>\n",
       "      <td>Sean O'Donnell</td>\n",
       "      <td>Consumer</td>\n",
       "      <td>United States</td>\n",
       "      <td>Fort Lauderdale</td>\n",
       "      <td>Florida</td>\n",
       "      <td>33311.0</td>\n",
       "      <td>South</td>\n",
       "      <td>FUR-TA-10000577</td>\n",
       "      <td>Furniture</td>\n",
       "      <td>Tables</td>\n",
       "      <td>Bretford CR4500 Series Slim Rectangular Table</td>\n",
       "      <td>957.5775</td>\n",
       "      <td>57.45465</td>\n",
       "    </tr>\n",
       "    <tr>\n",
       "      <th>4</th>\n",
       "      <td>5</td>\n",
       "      <td>US-2016-108966</td>\n",
       "      <td>2016-10-11</td>\n",
       "      <td>2016-10-18</td>\n",
       "      <td>Standard Class</td>\n",
       "      <td>SO-20335</td>\n",
       "      <td>Sean O'Donnell</td>\n",
       "      <td>Consumer</td>\n",
       "      <td>United States</td>\n",
       "      <td>Fort Lauderdale</td>\n",
       "      <td>Florida</td>\n",
       "      <td>33311.0</td>\n",
       "      <td>South</td>\n",
       "      <td>OFF-ST-10000760</td>\n",
       "      <td>Office Supplies</td>\n",
       "      <td>Storage</td>\n",
       "      <td>Eldon Fold 'N Roll Cart System</td>\n",
       "      <td>22.3680</td>\n",
       "      <td>3.35520</td>\n",
       "    </tr>\n",
       "  </tbody>\n",
       "</table>\n",
       "</div>"
      ],
      "text/plain": [
       "   Row ID        Order ID Order Date  Ship Date       Ship Mode Customer ID  \\\n",
       "0       1  CA-2017-152156 2017-11-08 2017-11-11    Second Class    CG-12520   \n",
       "1       2  CA-2017-152156 2017-11-08 2017-11-11    Second Class    CG-12520   \n",
       "2       3  CA-2017-138688 2017-06-12 2017-06-16    Second Class    DV-13045   \n",
       "3       4  US-2016-108966 2016-10-11 2016-10-18  Standard Class    SO-20335   \n",
       "4       5  US-2016-108966 2016-10-11 2016-10-18  Standard Class    SO-20335   \n",
       "\n",
       "     Customer Name    Segment        Country             City       State  \\\n",
       "0      Claire Gute   Consumer  United States        Henderson    Kentucky   \n",
       "1      Claire Gute   Consumer  United States        Henderson    Kentucky   \n",
       "2  Darrin Van Huff  Corporate  United States      Los Angeles  California   \n",
       "3   Sean O'Donnell   Consumer  United States  Fort Lauderdale     Florida   \n",
       "4   Sean O'Donnell   Consumer  United States  Fort Lauderdale     Florida   \n",
       "\n",
       "   Postal Code Region       Product ID         Category Sub-Category  \\\n",
       "0      42420.0  South  FUR-BO-10001798        Furniture    Bookcases   \n",
       "1      42420.0  South  FUR-CH-10000454        Furniture       Chairs   \n",
       "2      90036.0   West  OFF-LA-10000240  Office Supplies       Labels   \n",
       "3      33311.0  South  FUR-TA-10000577        Furniture       Tables   \n",
       "4      33311.0  South  OFF-ST-10000760  Office Supplies      Storage   \n",
       "\n",
       "                                        Product Name    Sales$  Discount$  \n",
       "0                  Bush Somerset Collection Bookcase  261.9600   13.09800  \n",
       "1  Hon Deluxe Fabric Upholstered Stacking Chairs,...  731.9400   36.59700  \n",
       "2  Self-Adhesive Address Labels for Typewriters b...   14.6200    1.90060  \n",
       "3      Bretford CR4500 Series Slim Rectangular Table  957.5775   57.45465  \n",
       "4                     Eldon Fold 'N Roll Cart System   22.3680    3.35520  "
      ]
     },
     "execution_count": 50,
     "metadata": {},
     "output_type": "execute_result"
    }
   ],
   "source": [
    "df.head()"
   ]
  },
  {
   "cell_type": "code",
   "execution_count": 51,
   "metadata": {},
   "outputs": [
    {
     "data": {
      "text/plain": [
       "(9800, 19)"
      ]
     },
     "execution_count": 51,
     "metadata": {},
     "output_type": "execute_result"
    }
   ],
   "source": [
    "df.shape"
   ]
  },
  {
   "cell_type": "code",
   "execution_count": 52,
   "metadata": {},
   "outputs": [
    {
     "data": {
      "text/plain": [
       "Index(['Row ID', 'Order ID', 'Order Date', 'Ship Date', 'Ship Mode',\n",
       "       'Customer ID', 'Customer Name', 'Segment', 'Country', 'City', 'State',\n",
       "       'Postal Code', 'Region', 'Product ID', 'Category', 'Sub-Category',\n",
       "       'Product Name', 'Sales$', 'Discount$'],\n",
       "      dtype='object')"
      ]
     },
     "execution_count": 52,
     "metadata": {},
     "output_type": "execute_result"
    }
   ],
   "source": [
    "df.columns"
   ]
  },
  {
   "cell_type": "code",
   "execution_count": 53,
   "metadata": {},
   "outputs": [
    {
     "data": {
      "text/plain": [
       "Row ID            0\n",
       "Order ID          0\n",
       "Order Date        0\n",
       "Ship Date         0\n",
       "Ship Mode         0\n",
       "Customer ID       0\n",
       "Customer Name     0\n",
       "Segment           0\n",
       "Country           0\n",
       "City              0\n",
       "State             0\n",
       "Postal Code      11\n",
       "Region            0\n",
       "Product ID        0\n",
       "Category          0\n",
       "Sub-Category      0\n",
       "Product Name      0\n",
       "Sales$            6\n",
       "Discount$         0\n",
       "dtype: int64"
      ]
     },
     "execution_count": 53,
     "metadata": {},
     "output_type": "execute_result"
    }
   ],
   "source": [
    "df.isnull().sum()"
   ]
  },
  {
   "cell_type": "code",
   "execution_count": 54,
   "metadata": {},
   "outputs": [
    {
     "data": {
      "text/plain": [
       "0"
      ]
     },
     "execution_count": 54,
     "metadata": {},
     "output_type": "execute_result"
    }
   ],
   "source": [
    "df.duplicated().sum()"
   ]
  },
  {
   "cell_type": "code",
   "execution_count": 96,
   "metadata": {},
   "outputs": [
    {
     "name": "stdout",
     "output_type": "stream",
     "text": [
      "      Row ID        Order ID Order Date  Ship Date       Ship Mode  \\\n",
      "0          1  CA-2017-152156 2017-11-08 2017-11-11    Second Class   \n",
      "1          2  CA-2017-152156 2017-11-08 2017-11-11    Second Class   \n",
      "2          3  CA-2017-138688 2017-06-12 2017-06-16    Second Class   \n",
      "3          4  US-2016-108966 2016-10-11 2016-10-18  Standard Class   \n",
      "4          5  US-2016-108966 2016-10-11 2016-10-18  Standard Class   \n",
      "...      ...             ...        ...        ...             ...   \n",
      "9795    9796  CA-2017-125920 2017-05-21 2017-05-28  Standard Class   \n",
      "9796    9797  CA-2016-128608 2016-01-12 2016-01-17  Standard Class   \n",
      "9797    9798  CA-2016-128608 2016-01-12 2016-01-17  Standard Class   \n",
      "9798    9799  CA-2016-128608 2016-01-12 2016-01-17  Standard Class   \n",
      "9799    9800  CA-2016-128608 2016-01-12 2016-01-17  Standard Class   \n",
      "\n",
      "     Customer ID     Customer Name    Segment        Country             City  \\\n",
      "0       CG-12520       Claire Gute   Consumer  United States        Henderson   \n",
      "1       CG-12520       Claire Gute   Consumer  United States        Henderson   \n",
      "2       DV-13045   Darrin Van Huff  Corporate  United States      Los Angeles   \n",
      "3       SO-20335    Sean O'Donnell   Consumer  United States  Fort Lauderdale   \n",
      "4       SO-20335    Sean O'Donnell   Consumer  United States  Fort Lauderdale   \n",
      "...          ...               ...        ...            ...              ...   \n",
      "9795    SH-19975     Sally Hughsby  Corporate  United States          Chicago   \n",
      "9796    CS-12490  Cindy Schnelling  Corporate  United States           Toledo   \n",
      "9797    CS-12490  Cindy Schnelling  Corporate  United States           Toledo   \n",
      "9798    CS-12490  Cindy Schnelling  Corporate  United States           Toledo   \n",
      "9799    CS-12490  Cindy Schnelling  Corporate  United States           Toledo   \n",
      "\n",
      "      ...       Product ID         Category Sub-Category  \\\n",
      "0     ...  FUR-BO-10001798        Furniture    Bookcases   \n",
      "1     ...  FUR-CH-10000454        Furniture       Chairs   \n",
      "2     ...  OFF-LA-10000240  Office Supplies       Labels   \n",
      "3     ...  FUR-TA-10000577        Furniture       Tables   \n",
      "4     ...  OFF-ST-10000760  Office Supplies      Storage   \n",
      "...   ...              ...              ...          ...   \n",
      "9795  ...  OFF-BI-10003429  Office Supplies      Binders   \n",
      "9796  ...  OFF-AR-10001374  Office Supplies          Art   \n",
      "9797  ...  TEC-PH-10004977       Technology       Phones   \n",
      "9798  ...  TEC-PH-10000912       Technology       Phones   \n",
      "9799  ...  TEC-AC-10000487       Technology  Accessories   \n",
      "\n",
      "                                           Product Name    Sales$ Discount$  \\\n",
      "0                     Bush Somerset Collection Bookcase  261.9600  13.09800   \n",
      "1     Hon Deluxe Fabric Upholstered Stacking Chairs,...  731.9400  36.59700   \n",
      "2     Self-Adhesive Address Labels for Typewriters b...   14.6200   1.90060   \n",
      "3         Bretford CR4500 Series Slim Rectangular Table  957.5775  57.45465   \n",
      "4                        Eldon Fold 'N Roll Cart System   22.3680   3.35520   \n",
      "...                                                 ...       ...       ...   \n",
      "9795  Cardinal HOLDit! Binder Insert Strips,Extra St...    3.7980   0.68364   \n",
      "9796           BIC Brite Liner Highlighters, Chisel Tip   10.3680   1.96992   \n",
      "9797                                        GE 30524EE4  235.1880  11.75940   \n",
      "9798           Anker 24W Portable Micro USB Car Charger   26.3760   3.16512   \n",
      "9799                SanDisk Cruzer 4 GB USB Flash Drive   10.3840   0.93456   \n",
      "\n",
      "           Date  Month_Name  Ship_Mode_Num     Month  \n",
      "0    2017-11-08    November            NaN  November  \n",
      "1    2017-11-08    November            NaN  November  \n",
      "2    2017-06-12        June            NaN      June  \n",
      "3    2016-10-11     October            NaN   October  \n",
      "4    2016-10-11     October            NaN   October  \n",
      "...         ...         ...            ...       ...  \n",
      "9795 2017-05-21         May            NaN       May  \n",
      "9796 2016-01-12     January            NaN   January  \n",
      "9797 2016-01-12     January            NaN   January  \n",
      "9798 2016-01-12     January            NaN   January  \n",
      "9799 2016-01-12     January            NaN   January  \n",
      "\n",
      "[9800 rows x 23 columns]\n"
     ]
    }
   ],
   "source": [
    "# Convert the 'Date' column to datetime format\n",
    "df['Date'] = pd.to_datetime(df['Order Date'])\n",
    "\n",
    "# Create a new feature 'Month_Name' by extracting the month name from the 'Date' column\n",
    "df['Month'] = df['Order Date'].dt.strftime('%B')\n",
    "\n",
    "# Print the DataFrame with the new 'Month_Name' column\n",
    "print(df)"
   ]
  },
  {
   "cell_type": "code",
   "execution_count": 97,
   "metadata": {},
   "outputs": [
    {
     "data": {
      "text/html": [
       "<div>\n",
       "<style scoped>\n",
       "    .dataframe tbody tr th:only-of-type {\n",
       "        vertical-align: middle;\n",
       "    }\n",
       "\n",
       "    .dataframe tbody tr th {\n",
       "        vertical-align: top;\n",
       "    }\n",
       "\n",
       "    .dataframe thead th {\n",
       "        text-align: right;\n",
       "    }\n",
       "</style>\n",
       "<table border=\"1\" class=\"dataframe\">\n",
       "  <thead>\n",
       "    <tr style=\"text-align: right;\">\n",
       "      <th></th>\n",
       "      <th>Row ID</th>\n",
       "      <th>Order ID</th>\n",
       "      <th>Order Date</th>\n",
       "      <th>Ship Date</th>\n",
       "      <th>Ship Mode</th>\n",
       "      <th>Customer ID</th>\n",
       "      <th>Customer Name</th>\n",
       "      <th>Segment</th>\n",
       "      <th>Country</th>\n",
       "      <th>City</th>\n",
       "      <th>...</th>\n",
       "      <th>Product ID</th>\n",
       "      <th>Category</th>\n",
       "      <th>Sub-Category</th>\n",
       "      <th>Product Name</th>\n",
       "      <th>Sales$</th>\n",
       "      <th>Discount$</th>\n",
       "      <th>Date</th>\n",
       "      <th>Month_Name</th>\n",
       "      <th>Ship_Mode_Num</th>\n",
       "      <th>Month</th>\n",
       "    </tr>\n",
       "  </thead>\n",
       "  <tbody>\n",
       "    <tr>\n",
       "      <th>0</th>\n",
       "      <td>1</td>\n",
       "      <td>CA-2017-152156</td>\n",
       "      <td>2017-11-08</td>\n",
       "      <td>2017-11-11</td>\n",
       "      <td>Second Class</td>\n",
       "      <td>CG-12520</td>\n",
       "      <td>Claire Gute</td>\n",
       "      <td>Consumer</td>\n",
       "      <td>United States</td>\n",
       "      <td>Henderson</td>\n",
       "      <td>...</td>\n",
       "      <td>FUR-BO-10001798</td>\n",
       "      <td>Furniture</td>\n",
       "      <td>Bookcases</td>\n",
       "      <td>Bush Somerset Collection Bookcase</td>\n",
       "      <td>261.9600</td>\n",
       "      <td>13.09800</td>\n",
       "      <td>2017-11-08</td>\n",
       "      <td>November</td>\n",
       "      <td>NaN</td>\n",
       "      <td>November</td>\n",
       "    </tr>\n",
       "    <tr>\n",
       "      <th>1</th>\n",
       "      <td>2</td>\n",
       "      <td>CA-2017-152156</td>\n",
       "      <td>2017-11-08</td>\n",
       "      <td>2017-11-11</td>\n",
       "      <td>Second Class</td>\n",
       "      <td>CG-12520</td>\n",
       "      <td>Claire Gute</td>\n",
       "      <td>Consumer</td>\n",
       "      <td>United States</td>\n",
       "      <td>Henderson</td>\n",
       "      <td>...</td>\n",
       "      <td>FUR-CH-10000454</td>\n",
       "      <td>Furniture</td>\n",
       "      <td>Chairs</td>\n",
       "      <td>Hon Deluxe Fabric Upholstered Stacking Chairs,...</td>\n",
       "      <td>731.9400</td>\n",
       "      <td>36.59700</td>\n",
       "      <td>2017-11-08</td>\n",
       "      <td>November</td>\n",
       "      <td>NaN</td>\n",
       "      <td>November</td>\n",
       "    </tr>\n",
       "    <tr>\n",
       "      <th>2</th>\n",
       "      <td>3</td>\n",
       "      <td>CA-2017-138688</td>\n",
       "      <td>2017-06-12</td>\n",
       "      <td>2017-06-16</td>\n",
       "      <td>Second Class</td>\n",
       "      <td>DV-13045</td>\n",
       "      <td>Darrin Van Huff</td>\n",
       "      <td>Corporate</td>\n",
       "      <td>United States</td>\n",
       "      <td>Los Angeles</td>\n",
       "      <td>...</td>\n",
       "      <td>OFF-LA-10000240</td>\n",
       "      <td>Office Supplies</td>\n",
       "      <td>Labels</td>\n",
       "      <td>Self-Adhesive Address Labels for Typewriters b...</td>\n",
       "      <td>14.6200</td>\n",
       "      <td>1.90060</td>\n",
       "      <td>2017-06-12</td>\n",
       "      <td>June</td>\n",
       "      <td>NaN</td>\n",
       "      <td>June</td>\n",
       "    </tr>\n",
       "    <tr>\n",
       "      <th>3</th>\n",
       "      <td>4</td>\n",
       "      <td>US-2016-108966</td>\n",
       "      <td>2016-10-11</td>\n",
       "      <td>2016-10-18</td>\n",
       "      <td>Standard Class</td>\n",
       "      <td>SO-20335</td>\n",
       "      <td>Sean O'Donnell</td>\n",
       "      <td>Consumer</td>\n",
       "      <td>United States</td>\n",
       "      <td>Fort Lauderdale</td>\n",
       "      <td>...</td>\n",
       "      <td>FUR-TA-10000577</td>\n",
       "      <td>Furniture</td>\n",
       "      <td>Tables</td>\n",
       "      <td>Bretford CR4500 Series Slim Rectangular Table</td>\n",
       "      <td>957.5775</td>\n",
       "      <td>57.45465</td>\n",
       "      <td>2016-10-11</td>\n",
       "      <td>October</td>\n",
       "      <td>NaN</td>\n",
       "      <td>October</td>\n",
       "    </tr>\n",
       "    <tr>\n",
       "      <th>4</th>\n",
       "      <td>5</td>\n",
       "      <td>US-2016-108966</td>\n",
       "      <td>2016-10-11</td>\n",
       "      <td>2016-10-18</td>\n",
       "      <td>Standard Class</td>\n",
       "      <td>SO-20335</td>\n",
       "      <td>Sean O'Donnell</td>\n",
       "      <td>Consumer</td>\n",
       "      <td>United States</td>\n",
       "      <td>Fort Lauderdale</td>\n",
       "      <td>...</td>\n",
       "      <td>OFF-ST-10000760</td>\n",
       "      <td>Office Supplies</td>\n",
       "      <td>Storage</td>\n",
       "      <td>Eldon Fold 'N Roll Cart System</td>\n",
       "      <td>22.3680</td>\n",
       "      <td>3.35520</td>\n",
       "      <td>2016-10-11</td>\n",
       "      <td>October</td>\n",
       "      <td>NaN</td>\n",
       "      <td>October</td>\n",
       "    </tr>\n",
       "  </tbody>\n",
       "</table>\n",
       "<p>5 rows × 23 columns</p>\n",
       "</div>"
      ],
      "text/plain": [
       "   Row ID        Order ID Order Date  Ship Date       Ship Mode Customer ID  \\\n",
       "0       1  CA-2017-152156 2017-11-08 2017-11-11    Second Class    CG-12520   \n",
       "1       2  CA-2017-152156 2017-11-08 2017-11-11    Second Class    CG-12520   \n",
       "2       3  CA-2017-138688 2017-06-12 2017-06-16    Second Class    DV-13045   \n",
       "3       4  US-2016-108966 2016-10-11 2016-10-18  Standard Class    SO-20335   \n",
       "4       5  US-2016-108966 2016-10-11 2016-10-18  Standard Class    SO-20335   \n",
       "\n",
       "     Customer Name    Segment        Country             City  ...  \\\n",
       "0      Claire Gute   Consumer  United States        Henderson  ...   \n",
       "1      Claire Gute   Consumer  United States        Henderson  ...   \n",
       "2  Darrin Van Huff  Corporate  United States      Los Angeles  ...   \n",
       "3   Sean O'Donnell   Consumer  United States  Fort Lauderdale  ...   \n",
       "4   Sean O'Donnell   Consumer  United States  Fort Lauderdale  ...   \n",
       "\n",
       "        Product ID         Category Sub-Category  \\\n",
       "0  FUR-BO-10001798        Furniture    Bookcases   \n",
       "1  FUR-CH-10000454        Furniture       Chairs   \n",
       "2  OFF-LA-10000240  Office Supplies       Labels   \n",
       "3  FUR-TA-10000577        Furniture       Tables   \n",
       "4  OFF-ST-10000760  Office Supplies      Storage   \n",
       "\n",
       "                                        Product Name    Sales$ Discount$  \\\n",
       "0                  Bush Somerset Collection Bookcase  261.9600  13.09800   \n",
       "1  Hon Deluxe Fabric Upholstered Stacking Chairs,...  731.9400  36.59700   \n",
       "2  Self-Adhesive Address Labels for Typewriters b...   14.6200   1.90060   \n",
       "3      Bretford CR4500 Series Slim Rectangular Table  957.5775  57.45465   \n",
       "4                     Eldon Fold 'N Roll Cart System   22.3680   3.35520   \n",
       "\n",
       "        Date  Month_Name  Ship_Mode_Num     Month  \n",
       "0 2017-11-08    November            NaN  November  \n",
       "1 2017-11-08    November            NaN  November  \n",
       "2 2017-06-12        June            NaN      June  \n",
       "3 2016-10-11     October            NaN   October  \n",
       "4 2016-10-11     October            NaN   October  \n",
       "\n",
       "[5 rows x 23 columns]"
      ]
     },
     "execution_count": 97,
     "metadata": {},
     "output_type": "execute_result"
    }
   ],
   "source": [
    "df.head()"
   ]
  },
  {
   "cell_type": "markdown",
   "metadata": {},
   "source": [
    "1. Calculate the total sales revenue for the entire dataset."
   ]
  },
  {
   "cell_type": "code",
   "execution_count": 98,
   "metadata": {},
   "outputs": [
    {
     "name": "stdout",
     "output_type": "stream",
     "text": [
      "total_revenue for sales is 2259609.8466999996\n"
     ]
    }
   ],
   "source": [
    "total_revenue = df['Sales$'].sum()\n",
    "print(\"total_revenue for sales is\", total_revenue)"
   ]
  },
  {
   "cell_type": "markdown",
   "metadata": {},
   "source": [
    "2. Identify the top-selling products and product categories based on sales."
   ]
  },
  {
   "cell_type": "code",
   "execution_count": 99,
   "metadata": {},
   "outputs": [
    {
     "name": "stdout",
     "output_type": "stream",
     "text": [
      "Top-Selling Products and Categories:\n",
      "             Category                                       Product Name  \\\n",
      "1493       Technology              Canon imageCLASS 2200 Advanced Copier   \n",
      "774   Office Supplies  Fellowes PB500 Electric Punch Plastic Comb Bin...   \n",
      "1512       Technology  Cisco TelePresence System EX90 Videoconferenci...   \n",
      "206         Furniture       HON 5400 Series Task Chairs for Big and Tall   \n",
      "803   Office Supplies         GBC DocuBind TL300 Electric Binding System   \n",
      "...               ...                                                ...   \n",
      "847   Office Supplies                                Grip Seal Envelopes   \n",
      "1392  Office Supplies                                           Xerox 20   \n",
      "534   Office Supplies                                            Avery 5   \n",
      "741   Office Supplies  Eureka Disposable Bags for Sanitaire Vibra Gro...   \n",
      "1574       Technology  ImationÂ Secure+ Hardware Encrypted USB 2.0Â F...   \n",
      "\n",
      "         Sales$  \n",
      "1493  61599.824  \n",
      "774   27453.384  \n",
      "1512  22638.480  \n",
      "206   21870.576  \n",
      "803   19823.479  \n",
      "...         ...  \n",
      "847       7.072  \n",
      "1392      6.480  \n",
      "534       5.760  \n",
      "741       1.624  \n",
      "1574      0.000  \n",
      "\n",
      "[1849 rows x 3 columns]\n"
     ]
    }
   ],
   "source": [
    "# Identify the top-selling products and product categories based on sales\n",
    "top_selling_products = df.groupby(['Category', 'Product Name'])['Sales$'].sum().reset_index()\n",
    "top_selling_products = top_selling_products.sort_values(by='Sales$', ascending=False)\n",
    "\n",
    "# Print the top-selling products and product categories\n",
    "print(\"Top-Selling Products and Categories:\")\n",
    "print(top_selling_products)"
   ]
  },
  {
   "cell_type": "code",
   "execution_count": 100,
   "metadata": {},
   "outputs": [
    {
     "data": {
      "text/html": [
       "<div>\n",
       "<style scoped>\n",
       "    .dataframe tbody tr th:only-of-type {\n",
       "        vertical-align: middle;\n",
       "    }\n",
       "\n",
       "    .dataframe tbody tr th {\n",
       "        vertical-align: top;\n",
       "    }\n",
       "\n",
       "    .dataframe thead th {\n",
       "        text-align: right;\n",
       "    }\n",
       "</style>\n",
       "<table border=\"1\" class=\"dataframe\">\n",
       "  <thead>\n",
       "    <tr style=\"text-align: right;\">\n",
       "      <th></th>\n",
       "      <th>Category</th>\n",
       "      <th>Product Name</th>\n",
       "      <th>Sales$</th>\n",
       "    </tr>\n",
       "  </thead>\n",
       "  <tbody>\n",
       "    <tr>\n",
       "      <th>1493</th>\n",
       "      <td>Technology</td>\n",
       "      <td>Canon imageCLASS 2200 Advanced Copier</td>\n",
       "      <td>61599.824</td>\n",
       "    </tr>\n",
       "    <tr>\n",
       "      <th>774</th>\n",
       "      <td>Office Supplies</td>\n",
       "      <td>Fellowes PB500 Electric Punch Plastic Comb Bin...</td>\n",
       "      <td>27453.384</td>\n",
       "    </tr>\n",
       "    <tr>\n",
       "      <th>1512</th>\n",
       "      <td>Technology</td>\n",
       "      <td>Cisco TelePresence System EX90 Videoconferenci...</td>\n",
       "      <td>22638.480</td>\n",
       "    </tr>\n",
       "  </tbody>\n",
       "</table>\n",
       "</div>"
      ],
      "text/plain": [
       "             Category                                       Product Name  \\\n",
       "1493       Technology              Canon imageCLASS 2200 Advanced Copier   \n",
       "774   Office Supplies  Fellowes PB500 Electric Punch Plastic Comb Bin...   \n",
       "1512       Technology  Cisco TelePresence System EX90 Videoconferenci...   \n",
       "\n",
       "         Sales$  \n",
       "1493  61599.824  \n",
       "774   27453.384  \n",
       "1512  22638.480  "
      ]
     },
     "execution_count": 100,
     "metadata": {},
     "output_type": "execute_result"
    }
   ],
   "source": [
    "top_selling_products.head(3)"
   ]
  },
  {
   "cell_type": "markdown",
   "metadata": {},
   "source": [
    "3. Group the sales by month and make a plot of the total monthly sales. is it increasing, decreasing,\n",
    "or is it steady?"
   ]
  },
  {
   "cell_type": "code",
   "execution_count": 101,
   "metadata": {},
   "outputs": [
    {
     "data": {
      "image/png": "[encoded data removed]",
      "text/plain": [
       "<Figure size 1000x600 with 1 Axes>"
      ]
     },
     "metadata": {},
     "output_type": "display_data"
    }
   ],
   "source": [
    "import matplotlib.pyplot as plt\n",
    "\n",
    "# Group the data by month and calculate the total sales for each month\n",
    "monthly_sales = df.groupby('Month_Name')['Sales$'].sum()\n",
    "\n",
    "# Plot the total monthly sales\n",
    "plt.figure(figsize=(10, 6))\n",
    "plt.plot(monthly_sales.index, monthly_sales.values, marker='o', linestyle='-')\n",
    "plt.title('Total Monthly Sales')\n",
    "plt.xlabel('Month_Name')\n",
    "plt.ylabel('Total Sales')\n",
    "plt.xticks(range(1, 13), ['Jan', 'Feb', 'Mar', 'Apr', 'May', 'Jun', 'Jul', 'Aug', 'Sep', 'Oct', 'Nov', 'Dec'])\n",
    "plt.grid(True)\n",
    "plt.show()"
   ]
  },
  {
   "cell_type": "markdown",
   "metadata": {},
   "source": [
    "the trend is increasing"
   ]
  },
  {
   "cell_type": "markdown",
   "metadata": {},
   "source": [
    "4. Explore the correlation between sales and discount, and shipping cost."
   ]
  },
  {
   "cell_type": "code",
   "execution_count": 102,
   "metadata": {},
   "outputs": [
    {
     "name": "stdout",
     "output_type": "stream",
     "text": [
      "Correlation Matrix:\n",
      "             Sales$  Discount$\n",
      "Sales$     1.000000   0.904085\n",
      "Discount$  0.904085   1.000000\n"
     ]
    }
   ],
   "source": [
    "# Encode ship mode into numerical values\n",
    "df['Ship_Mode_Num'] = df['Ship Mode'].map({'Standard': 0, 'Express': 1})\n",
    "\n",
    "# Calculate the correlation matrix\n",
    "correlation_matrix = df[['Sales$', 'Discount$']].corr()\n",
    "\n",
    "# Print the correlation matrix\n",
    "print(\"Correlation Matrix:\")\n",
    "print(correlation_matrix)"
   ]
  },
  {
   "cell_type": "markdown",
   "metadata": {},
   "source": [
    "5. Make a histogram of the sales. does it look like a normal distribution?"
   ]
  },
  {
   "cell_type": "code",
   "execution_count": 103,
   "metadata": {},
   "outputs": [
    {
     "data": {
      "image/png": "[encoded data removed]",
      "text/plain": [
       "<Figure size 800x600 with 1 Axes>"
      ]
     },
     "metadata": {},
     "output_type": "display_data"
    }
   ],
   "source": [
    "# Plot a histogram of the sales\n",
    "plt.figure(figsize=(8, 6))\n",
    "plt.hist(df['Sales$'], bins=10, color='skyblue', edgecolor='black', alpha=0.7)\n",
    "plt.title('Histogram of Sales')\n",
    "plt.xlabel('Sales')\n",
    "plt.ylabel('Frequency')\n",
    "plt.grid(True)\n",
    "plt.show()"
   ]
  },
  {
   "cell_type": "markdown",
   "metadata": {},
   "source": [
    "no it dosnt look like a normal distribution to me"
   ]
  },
  {
   "cell_type": "markdown",
   "metadata": {},
   "source": [
    "6. What is the mean discount for the consumer segment?"
   ]
  },
  {
   "cell_type": "code",
   "execution_count": 104,
   "metadata": {},
   "outputs": [
    {
     "name": "stdout",
     "output_type": "stream",
     "text": [
      "Mean Discount for the Consumer Segment: 23.063994351891786\n"
     ]
    }
   ],
   "source": [
    "# Filter the data for the consumer segment\n",
    "consumer_data = df[df['Segment'] == 'Consumer']\n",
    "\n",
    "# Calculate the mean discount for the consumer segment\n",
    "mean_discount_consumer = consumer_data['Discount$'].mean()\n",
    "\n",
    "# Print the mean discount for the consumer segment\n",
    "print(\"Mean Discount for the Consumer Segment:\", mean_discount_consumer)"
   ]
  },
  {
   "cell_type": "markdown",
   "metadata": {},
   "source": [
    "7.Compute the standard deviation of the sale for each segment. Which one has more variability in\n",
    "the sales?"
   ]
  },
  {
   "cell_type": "code",
   "execution_count": 105,
   "metadata": {},
   "outputs": [
    {
     "name": "stdout",
     "output_type": "stream",
     "text": [
      "Standard Deviation of Sales by Segment:\n",
      "Segment\n",
      "Consumer       588.990759\n",
      "Corporate      600.204510\n",
      "Home Office    763.710864\n",
      "Name: Sales$, dtype: float64\n"
     ]
    }
   ],
   "source": [
    "# Compute the standard deviation of sales for each segment\n",
    "std_dev_sales_by_segment = df.groupby('Segment')['Sales$'].std()\n",
    "\n",
    "# Print the standard deviation of sales for each segment\n",
    "print(\"Standard Deviation of Sales by Segment:\")\n",
    "print(std_dev_sales_by_segment)"
   ]
  },
  {
   "cell_type": "markdown",
   "metadata": {},
   "source": [
    "Based on above output the segment with the highest standard deviation of sales is \"Home Office\" with a standard deviation of approximately 763.71. This indicates that the sales data for the \"Home Office\" segment has more variability compared to the other segments."
   ]
  },
  {
   "cell_type": "markdown",
   "metadata": {},
   "source": [
    "8. Using bar charts, visualize the total sales by category"
   ]
  },
  {
   "cell_type": "code",
   "execution_count": 106,
   "metadata": {},
   "outputs": [
    {
     "data": {
      "image/png": "[encoded data removed]",
      "text/plain": [
       "<Figure size 1000x600 with 1 Axes>"
      ]
     },
     "metadata": {},
     "output_type": "display_data"
    }
   ],
   "source": [
    "# Calculate the total sales by category\n",
    "total_sales_by_category = df.groupby('Category')['Sales$'].sum()\n",
    "\n",
    "# Plot the total sales by category using a bar chart\n",
    "plt.figure(figsize=(10, 6))\n",
    "total_sales_by_category.plot(kind='bar', color='skyblue', edgecolor='black')\n",
    "plt.title('Total Sales by Category')\n",
    "plt.xlabel('Category')\n",
    "plt.ylabel('Total Sales')\n",
    "plt.xticks(rotation=45)\n",
    "plt.grid(axis='y')\n",
    "plt.show()"
   ]
  },
  {
   "cell_type": "markdown",
   "metadata": {},
   "source": [
    "9. Use a bar chart to visualize the number of sales per ship mode."
   ]
  },
  {
   "cell_type": "code",
   "execution_count": 107,
   "metadata": {},
   "outputs": [
    {
     "data": {
      "image/png": "[encoded data removed]",
      "text/plain": [
       "<Figure size 800x600 with 1 Axes>"
      ]
     },
     "metadata": {},
     "output_type": "display_data"
    }
   ],
   "source": [
    "# Count the number of sales per ship mode\n",
    "sales_per_ship_mode = df['Ship Mode'].value_counts()\n",
    "\n",
    "# Plot the number of sales per ship mode using a bar chart\n",
    "plt.figure(figsize=(8, 6))\n",
    "sales_per_ship_mode.plot(kind='bar', color='skyblue', edgecolor='black')\n",
    "plt.title('Number of Sales per Ship Mode')\n",
    "plt.xlabel('Ship Mode')\n",
    "plt.ylabel('Number of Sales')\n",
    "plt.xticks(rotation=0)\n",
    "plt.grid(axis='y')\n",
    "plt.show()"
   ]
  },
  {
   "cell_type": "markdown",
   "metadata": {},
   "source": [
    "10. Identify the top three regions with the highest sales in the period 2017-2018."
   ]
  },
  {
   "cell_type": "code",
   "execution_count": 108,
   "metadata": {},
   "outputs": [
    {
     "name": "stdout",
     "output_type": "stream",
     "text": [
      "Top Three Regions with Highest Sales (2017-2018):\n",
      "Region\n",
      "West       430602.1540\n",
      "East       388640.7240\n",
      "Central    286600.5162\n",
      "Name: Sales$, dtype: float64\n"
     ]
    }
   ],
   "source": [
    "# Filter the data for the period 2017-2018\n",
    "sales_2017_2018 = df[(df['Date'].dt.year >= 2017) & (df['Date'].dt.year <= 2018)]\n",
    "\n",
    "# Group the filtered data by region and calculate the total sales for each region\n",
    "total_sales_by_region = sales_2017_2018.groupby('Region')['Sales$'].sum()\n",
    "\n",
    "# Sort the regions based on their total sales in descending order\n",
    "sorted_regions = total_sales_by_region.sort_values(ascending=False)\n",
    "\n",
    "# Select the top three regions with the highest sales\n",
    "top_three_regions = sorted_regions.head(3)\n",
    "\n",
    "# Print the top three regions with the highest sales\n",
    "print(\"Top Three Regions with Highest Sales (2017-2018):\")\n",
    "print(top_three_regions)"
   ]
  },
  {
   "cell_type": "code",
   "execution_count": null,
   "metadata": {},
   "outputs": [],
   "source": []
  },
  {
   "cell_type": "code",
   "execution_count": null,
   "metadata": {},
   "outputs": [],
   "source": []
  }
 ],
 "metadata": {
  "kernelspec": {
   "display_name": "base",
   "language": "python",
   "name": "python3"
  },
  "language_info": {
   "codemirror_mode": {
    "name": "ipython",
    "version": 3
   },
   "file_extension": ".py",
   "mimetype": "text/x-python",
   "name": "python",
   "nbconvert_exporter": "python",
   "pygments_lexer": "ipython3",
   "version": "3.11.7"
  }
 },
 "nbformat": 4,
 "nbformat_minor": 2
}
