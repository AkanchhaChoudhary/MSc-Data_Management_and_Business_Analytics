{
 "cells": [
  {
   "cell_type": "markdown",
   "id": "730d65db-c5cf-4e7b-b8ec-b0b022ff823a",
   "metadata": {},
   "source": [
    "# Evaluating Empirically Confidence Intervals\n",
    "\n",
    "Here we'll test empirically what we explained about confidence intervals."
   ]
  },
  {
   "cell_type": "code",
   "execution_count": 1,
   "id": "edf6d0d1-0e7e-4174-9c4c-23f9ddef73a9",
   "metadata": {},
   "outputs": [],
   "source": [
    "import numpy as np\n",
    "import matplotlib.pyplot as plt\n",
    "\n"
   ]
  },
  {
   "cell_type": "markdown",
   "id": "5e173775-ae19-4326-b8d3-c78c12ef7220",
   "metadata": {},
   "source": [
    "We will start by generating data randomy from a normal distribution. We take 100 million points, which is quite a large sample, so the sample mean should get very close to the *population* mean."
   ]
  },
  {
   "cell_type": "code",
   "execution_count": 4,
   "id": "827d8a9e-6b1c-4e57-a975-d11976b25940",
   "metadata": {},
   "outputs": [
    {
     "name": "stdout",
     "output_type": "stream",
     "text": [
      "10.000267468745378\n",
      "1.999925194016005\n"
     ]
    },
    {
     "data": {
      "image/png": "[encoded data removed]",
      "text/plain": [
       "<Figure size 640x480 with 1 Axes>"
      ]
     },
     "metadata": {},
     "output_type": "display_data"
    }
   ],
   "source": [
    "mu = 10\n",
    "sigma = 2\n",
    "M = 100000000\n",
    "np.random.seed(10)\n",
    "X = mu + sigma*np.random.randn(M)\n",
    "plt.hist(X, 200)\n",
    "print(np.mean(X))\n",
    "print(np.std(X))"
   ]
  },
  {
   "cell_type": "markdown",
   "id": "ea30bd43-40d5-458c-bab1-504ea43d3a6b",
   "metadata": {},
   "source": [
    "Now, for smaller samples, let's say 100; let's compute when the 90, 95, and 95% CI should be:\n",
    "\n"
   ]
  },
  {
   "cell_type": "code",
   "execution_count": 4,
   "id": "18c5d9e5-d36b-4e3c-ac9c-043fbd3c4406",
   "metadata": {},
   "outputs": [
    {
     "name": "stdout",
     "output_type": "stream",
     "text": [
      "[9.671, 10.329] [9.608, 10.392] [9.484, 10.516]\n"
     ]
    }
   ],
   "source": [
    "N = 100\n",
    "CI_90 = [10 - 1.645 * 2/np.sqrt(N), 10 + 1.645 * 2/np.sqrt(N)]\n",
    "CI_95 = [10 - 1.96 * 2/np.sqrt(N), 10 + 1.96 * 2/np.sqrt(N)]\n",
    "CI_99 = [10 - 2.58 * 2/np.sqrt(N), 10 + 2.58 * 2/np.sqrt(N)]\n",
    "print(CI_90, CI_95, CI_99)"
   ]
  },
  {
   "cell_type": "markdown",
   "id": "70600d5e-7249-40ce-ac64-7fceac97dcca",
   "metadata": {},
   "source": [
    "Take random samples and compute the means:\n",
    "\n",
    "Warning!<br>\n",
    "- $N=100$ is the size of each sample<br>\n",
    "- $K = 10000$ is the number of samples I measure to plot a sampling distribution\n"
   ]
  },
  {
   "cell_type": "code",
   "execution_count": 5,
   "id": "8e99c401-8a18-428c-b40f-40843239c5a1",
   "metadata": {},
   "outputs": [
    {
     "data": {
      "image/png": "[encoded data removed]",
      "text/plain": [
       "<Figure size 640x480 with 1 Axes>"
      ]
     },
     "metadata": {},
     "output_type": "display_data"
    }
   ],
   "source": [
    "N = 100\n",
    "K = 10000\n",
    "sample_means=np.zeros(K)\n",
    "for i in range(K):\n",
    "    s = np.random.choice(X, N)\n",
    "    sample_means[i]=np.mean(s)\n",
    "\n",
    "plt.hist(sample_means, 30)\n",
    "plt.axvline(CI_90[0], color='b')\n",
    "plt.axvline(CI_90[1], color='b')\n",
    "plt.axvline(CI_95[0], color='r')\n",
    "plt.axvline(CI_95[1], color='r')\n",
    "plt.axvline(CI_99[0], color='g')\n",
    "plt.axvline(CI_99[1], color='g')\n",
    "plt.show()\n",
    "    "
   ]
  },
  {
   "cell_type": "markdown",
   "id": "4fff3fc2-55e4-4e3a-8499-2c66761a9bf6",
   "metadata": {},
   "source": [
    "Let's count how many samples are within the theoretical CI:"
   ]
  },
  {
   "cell_type": "code",
   "execution_count": 8,
   "id": "4b7b66a1-1e03-4d35-8ccc-24d3ea1def49",
   "metadata": {},
   "outputs": [
    {
     "name": "stdout",
     "output_type": "stream",
     "text": [
      "0.903 are within the 90% CI\n",
      "0.9548 are within the 95% CI\n",
      "0.9914 are within the 99% CI\n"
     ]
    }
   ],
   "source": [
    "within_90 = len(sample_means[(sample_means>CI_90[0]) & (sample_means < CI_90[1])])/K\n",
    "within_95 = len(sample_means[(sample_means>CI_95[0]) & (sample_means < CI_95[1])])/K\n",
    "within_99 = len(sample_means[(sample_means>CI_99[0]) & (sample_means < CI_99[1])])/K\n",
    "print(within_90, 'are within the 90% CI')\n",
    "print(within_95, 'are within the 95% CI')\n",
    "print(within_99, 'are within the 99% CI')"
   ]
  },
  {
   "cell_type": "markdown",
   "id": "ff305cc2-980c-4479-a8a3-6201ab811593",
   "metadata": {},
   "source": [
    "## Calculating CI for empirical data\n",
    "- Load the data for file `5.1_data_session_5.csv`\n",
    "- Compute the mean and standard deviation for the whole dataset\n",
    "- Get 10000 different random samples of size N=200\n",
    "- Compute empirically the mean the the sampling distribution and the standard error\n",
    "- Compare with the theoretical result\n"
   ]
  },
  {
   "cell_type": "code",
   "execution_count": 9,
   "id": "f26ad462-6477-4e0e-90da-c43aab5f145b",
   "metadata": {},
   "outputs": [
    {
     "data": {
      "text/html": [
       "<div>\n",
       "<style scoped>\n",
       "    .dataframe tbody tr th:only-of-type {\n",
       "        vertical-align: middle;\n",
       "    }\n",
       "\n",
       "    .dataframe tbody tr th {\n",
       "        vertical-align: top;\n",
       "    }\n",
       "\n",
       "    .dataframe thead th {\n",
       "        text-align: right;\n",
       "    }\n",
       "</style>\n",
       "<table border=\"1\" class=\"dataframe\">\n",
       "  <thead>\n",
       "    <tr style=\"text-align: right;\">\n",
       "      <th></th>\n",
       "      <th>X</th>\n",
       "    </tr>\n",
       "  </thead>\n",
       "  <tbody>\n",
       "    <tr>\n",
       "      <th>0</th>\n",
       "      <td>11.541975</td>\n",
       "    </tr>\n",
       "    <tr>\n",
       "      <th>1</th>\n",
       "      <td>35.507409</td>\n",
       "    </tr>\n",
       "    <tr>\n",
       "      <th>2</th>\n",
       "      <td>12.959888</td>\n",
       "    </tr>\n",
       "    <tr>\n",
       "      <th>3</th>\n",
       "      <td>11.560089</td>\n",
       "    </tr>\n",
       "    <tr>\n",
       "      <th>4</th>\n",
       "      <td>12.935754</td>\n",
       "    </tr>\n",
       "  </tbody>\n",
       "</table>\n",
       "</div>"
      ],
      "text/plain": [
       "           X\n",
       "0  11.541975\n",
       "1  35.507409\n",
       "2  12.959888\n",
       "3  11.560089\n",
       "4  12.935754"
      ]
     },
     "execution_count": 9,
     "metadata": {},
     "output_type": "execute_result"
    }
   ],
   "source": [
    "import pandas as pd\n",
    "df = pd.read_csv('data_lecture5.csv')\n",
    "df.head()"
   ]
  },
  {
   "cell_type": "code",
   "execution_count": 10,
   "id": "9bc3c8bd-e4f4-494b-b257-5b1744f904f9",
   "metadata": {},
   "outputs": [
    {
     "data": {
      "text/html": [
       "<div>\n",
       "<style scoped>\n",
       "    .dataframe tbody tr th:only-of-type {\n",
       "        vertical-align: middle;\n",
       "    }\n",
       "\n",
       "    .dataframe tbody tr th {\n",
       "        vertical-align: top;\n",
       "    }\n",
       "\n",
       "    .dataframe thead th {\n",
       "        text-align: right;\n",
       "    }\n",
       "</style>\n",
       "<table border=\"1\" class=\"dataframe\">\n",
       "  <thead>\n",
       "    <tr style=\"text-align: right;\">\n",
       "      <th></th>\n",
       "      <th>X</th>\n",
       "    </tr>\n",
       "  </thead>\n",
       "  <tbody>\n",
       "    <tr>\n",
       "      <th>count</th>\n",
       "      <td>1000000.000000</td>\n",
       "    </tr>\n",
       "    <tr>\n",
       "      <th>mean</th>\n",
       "      <td>14.994291</td>\n",
       "    </tr>\n",
       "    <tr>\n",
       "      <th>std</th>\n",
       "      <td>5.005201</td>\n",
       "    </tr>\n",
       "    <tr>\n",
       "      <th>min</th>\n",
       "      <td>10.000001</td>\n",
       "    </tr>\n",
       "    <tr>\n",
       "      <th>25%</th>\n",
       "      <td>11.434754</td>\n",
       "    </tr>\n",
       "    <tr>\n",
       "      <th>50%</th>\n",
       "      <td>13.460453</td>\n",
       "    </tr>\n",
       "    <tr>\n",
       "      <th>75%</th>\n",
       "      <td>16.923163</td>\n",
       "    </tr>\n",
       "    <tr>\n",
       "      <th>max</th>\n",
       "      <td>94.650174</td>\n",
       "    </tr>\n",
       "  </tbody>\n",
       "</table>\n",
       "</div>"
      ],
      "text/plain": [
       "                    X\n",
       "count  1000000.000000\n",
       "mean        14.994291\n",
       "std          5.005201\n",
       "min         10.000001\n",
       "25%         11.434754\n",
       "50%         13.460453\n",
       "75%         16.923163\n",
       "max         94.650174"
      ]
     },
     "execution_count": 10,
     "metadata": {},
     "output_type": "execute_result"
    }
   ],
   "source": [
    "df.describe()"
   ]
  },
  {
   "cell_type": "markdown",
   "id": "85f85f20-edd0-49d9-bfdf-65495f36362d",
   "metadata": {},
   "source": [
    "That is\n",
    "- $\\mu \\sim 15$\n",
    "- $\\sigma \\sim 5$\n",
    "\n",
    "Let's take 10000 different samples of size N=100"
   ]
  },
  {
   "cell_type": "code",
   "execution_count": 11,
   "id": "41c126ed-5d55-43a1-a25e-56573428b5f4",
   "metadata": {},
   "outputs": [
    {
     "data": {
      "image/png": "[encoded data removed]",
      "text/plain": [
       "<Figure size 640x480 with 1 Axes>"
      ]
     },
     "metadata": {},
     "output_type": "display_data"
    }
   ],
   "source": [
    "plt.hist(df['X'], 30)\n",
    "plt.show()"
   ]
  },
  {
   "cell_type": "code",
   "execution_count": 13,
   "id": "d08f15c5-6d51-4817-8749-f74495f7d1fc",
   "metadata": {},
   "outputs": [],
   "source": [
    "N=100 #size of each sample\n",
    "K=10000 # number of samples\n",
    "\n",
    "# initialize vector where I will store information\n",
    "sample_means= np.zeros(K)\n",
    "sample_stds= np.zeros(K)\n",
    "\n",
    "for i in range(K):\n",
    "    s = np.random.choice(df['X'], N)\n",
    "    m=np.mean(s)\n",
    "    sigma=np.std(s)\n",
    "    sample_means[i]=m\n",
    "    sample_stds[i]=sigma"
   ]
  },
  {
   "cell_type": "code",
   "execution_count": 17,
   "id": "dcef144a-2caa-4a50-96e0-9c1175bfd4ce",
   "metadata": {},
   "outputs": [
    {
     "name": "stdout",
     "output_type": "stream",
     "text": [
      "mean is 14.992241640106688 and standard error is 0.5023477694715551\n"
     ]
    },
    {
     "data": {
      "image/png": "[encoded data removed]",
      "text/plain": [
       "<Figure size 640x480 with 1 Axes>"
      ]
     },
     "metadata": {},
     "output_type": "display_data"
    }
   ],
   "source": [
    "print(f'mean is {np.mean(sample_means)} and standard error is {np.std(sample_means)}')\n",
    "plt.hist(sample_means, 30)\n",
    "plt.show()"
   ]
  },
  {
   "cell_type": "markdown",
   "id": "7b001065-9cc5-449c-a506-20ddcac0f8bf",
   "metadata": {},
   "source": [
    "Theoretical values were:\n",
    "- mean of samples = 15\n",
    "- standard error = $\\frac{\\sigma}{\\sqrt{N}} = \\frac{5}{\\sqrt{100}}=0.5$\n",
    "\n",
    "So I shoud get about 95% of  the results between $15\\pm 1.96*0.5 = [14.02, 15.98]$\n",
    "Let's verify:"
   ]
  },
  {
   "cell_type": "code",
   "execution_count": 20,
   "id": "c863d969-6a29-4f8f-82b0-41f2e07e6c8b",
   "metadata": {},
   "outputs": [
    {
     "data": {
      "text/plain": [
       "0.9507"
      ]
     },
     "execution_count": 20,
     "metadata": {},
     "output_type": "execute_result"
    }
   ],
   "source": [
    "sum((sample_means>14.02) & (sample_means<15.98))/K"
   ]
  },
  {
   "cell_type": "code",
   "execution_count": null,
   "id": "45a381fe-70bf-4dbb-b715-d5b4ad410370",
   "metadata": {},
   "outputs": [],
   "source": []
  }
 ],
 "metadata": {
  "kernelspec": {
   "display_name": "Python 3 (ipykernel)",
   "language": "python",
   "name": "python3"
  },
  "language_info": {
   "codemirror_mode": {
    "name": "ipython",
    "version": 3
   },
   "file_extension": ".py",
   "mimetype": "text/x-python",
   "name": "python",
   "nbconvert_exporter": "python",
   "pygments_lexer": "ipython3",
   "version": "3.11.7"
  }
 },
 "nbformat": 4,
 "nbformat_minor": 5
}
