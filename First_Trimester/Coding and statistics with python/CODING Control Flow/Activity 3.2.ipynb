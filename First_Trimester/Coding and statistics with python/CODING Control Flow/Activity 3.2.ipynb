{
 "cells": [
  {
   "cell_type": "markdown",
   "metadata": {},
   "source": [
    "1 Exercises\n",
    "\n",
    "1.0.1 for loops"
   ]
  },
  {
   "cell_type": "markdown",
   "metadata": {},
   "source": [
    "For each of the next exercises, create a new code cell and write your solution"
   ]
  },
  {
   "cell_type": "markdown",
   "metadata": {},
   "source": [
    "1. let v=['a', 'g', 'k', 'm'] be a list. Make a for loop that prints each of the elements of\n",
    "the list"
   ]
  },
  {
   "cell_type": "code",
   "execution_count": 4,
   "metadata": {},
   "outputs": [
    {
     "name": "stdout",
     "output_type": "stream",
     "text": [
      "a\n",
      "g\n",
      "k\n",
      "m\n"
     ]
    }
   ],
   "source": [
    "v = ['a','g','k','m']\n",
    "for i in v:\n",
    "   print(i)"
   ]
  },
  {
   "cell_type": "markdown",
   "metadata": {},
   "source": [
    "2. Make a for loop that goes from the element 6 to the element 30 (included) and add all the\n",
    "elements, then print the result"
   ]
  },
  {
   "cell_type": "code",
   "execution_count": 21,
   "metadata": {},
   "outputs": [
    {
     "name": "stdout",
     "output_type": "stream",
     "text": [
      "sum of all element from 1 to 61 is  450\n"
     ]
    }
   ],
   "source": [
    "result = 0\n",
    "for i in range(6,31,1):\n",
    "    result = result+i\n",
    "print(\"sum of all element from 1 to 61 is \" , result)"
   ]
  },
  {
   "cell_type": "markdown",
   "metadata": {},
   "source": [
    "3. Using a for loop, sum all the numbers from 1 to 1 million. Then print the result"
   ]
  },
  {
   "cell_type": "code",
   "execution_count": 25,
   "metadata": {},
   "outputs": [
    {
     "name": "stdout",
     "output_type": "stream",
     "text": [
      "50000005000000\n"
     ]
    }
   ],
   "source": [
    "result2 = 0\n",
    "for i in range(1,10000001):\n",
    "     result2 = result2+i\n",
    "print(result2)"
   ]
  },
  {
   "cell_type": "markdown",
   "metadata": {},
   "source": [
    "4. Using a for loop, find the factorial of 10. That is, ‘10!=1098765432*1’"
   ]
  },
  {
   "cell_type": "code",
   "execution_count": 29,
   "metadata": {},
   "outputs": [
    {
     "name": "stdout",
     "output_type": "stream",
     "text": [
      "The factorial of 10! is  3628800\n"
     ]
    }
   ],
   "source": [
    "x = 1\n",
    "for i in range(1,11):\n",
    "    x = x*i\n",
    "print(\"The factorial of 10! is \" , x)\n"
   ]
  },
  {
   "cell_type": "markdown",
   "metadata": {},
   "source": [
    "5.Create a 2 dimensional numpy array Mul[i,j] of size 10x10, use loops to fill the array with\n",
    "the multipliction table. That is, the element Mul[4,7] for instance must be equal to 4x7=28"
   ]
  },
  {
   "cell_type": "code",
   "execution_count": 32,
   "metadata": {},
   "outputs": [
    {
     "data": {
      "text/plain": [
       "(array([ 1,  2,  3,  4,  5,  6,  7,  8,  9, 10]),\n",
       " array([ 1,  2,  3,  4,  5,  6,  7,  8,  9, 10]))"
      ]
     },
     "execution_count": 32,
     "metadata": {},
     "output_type": "execute_result"
    }
   ],
   "source": [
    "import numpy as np\n",
    "array1 = np.arange(1,11,1)\n",
    "array2 = np.arange(1,11,1)\n",
    "array1,array2"
   ]
  },
  {
   "cell_type": "markdown",
   "metadata": {},
   "source": []
  },
  {
   "cell_type": "markdown",
   "metadata": {},
   "source": []
  },
  {
   "cell_type": "markdown",
   "metadata": {},
   "source": [
    "6. You have two lists of equal length. one with first names, and one with family names. For\n",
    "instance names=['John', 'Emily', ...], f_names=['Adams', 'Blunt',...]. Use loops\n",
    "to print the i-th name and the i-th family name at each iteration. That is > John Adams,\n",
    "Emily Blunt, …"
   ]
  },
  {
   "cell_type": "code",
   "execution_count": 77,
   "metadata": {},
   "outputs": [
    {
     "name": "stdout",
     "output_type": "stream",
     "text": [
      "Emmanuel Kant\n",
      "Jennifer Anniston\n",
      "Kate Winslet\n"
     ]
    }
   ],
   "source": [
    "\n",
    "names = ['Emmanuel','Jennifer', 'Kate']\n",
    "f_names = ['Kant', 'Anniston','Winslet']\n",
    "\n",
    "# Iterate over the range of indices directly\n",
    "for i in range(len(names)):\n",
    "    print(names[i], f_names[i])\n"
   ]
  },
  {
   "cell_type": "markdown",
   "metadata": {},
   "source": [
    "7.You have two numpy arrays of the same length with numbers, for instance v=[8,3,6,0] and\n",
    "w=[3,-1,8,2]. Compute a third array with the in which each element i of the new array\n",
    "is the product of the element i of array 1 and the element N-i of array 2. That is, in this\n",
    "example, [8x2,3x8,6x(-1),0x3] that is [16,24,-6,0]"
   ]
  },
  {
   "cell_type": "code",
   "execution_count": 78,
   "metadata": {},
   "outputs": [
    {
     "name": "stdout",
     "output_type": "stream",
     "text": [
      "[16 24 -6  0]\n"
     ]
    }
   ],
   "source": [
    "import numpy as np\n",
    "\n",
    "# Define the arrays\n",
    "v = np.array([8, 3, 6, 0])\n",
    "w = np.array([3, -1, 8, 2])\n",
    "\n",
    "# Compute the third array using element-wise multiplication and reversing one of the arrays\n",
    "result = v * w[::-1]\n",
    "\n",
    "print(result)\n"
   ]
  },
  {
   "cell_type": "markdown",
   "metadata": {},
   "source": [
    "Using loops, compute the sum all multiples of three from 3 up to 600 (included)"
   ]
  },
  {
   "cell_type": "code",
   "execution_count": 81,
   "metadata": {},
   "outputs": [
    {
     "name": "stdout",
     "output_type": "stream",
     "text": [
      "The sum of all multiples of three from 3 to 600 is: 60300\n"
     ]
    }
   ],
   "source": [
    "x = 0\n",
    "for i in range(3,601,3):\n",
    "    x = x+i\n",
    "print(\"The sum of all multiples of three from 3 to 600 is:\", x)"
   ]
  },
  {
   "cell_type": "code",
   "execution_count": 4,
   "metadata": {},
   "outputs": [
    {
     "name": "stdout",
     "output_type": "stream",
     "text": [
      "2 4 4\n",
      "3 9 13\n",
      "4 16 29\n",
      "5 25 54\n",
      "6 36 90\n",
      "7 49 139\n",
      "8 64 203\n",
      "9 81 284\n"
     ]
    }
   ],
   "source": [
    "cumulative = 0\n",
    "for i in range(2,10):\n",
    "    x = i**2\n",
    "    cumulative = cumulative + x\n",
    "    print(i,x,cumulative)"
   ]
  },
  {
   "cell_type": "code",
   "execution_count": null,
   "metadata": {},
   "outputs": [],
   "source": []
  }
 ],
 "metadata": {
  "kernelspec": {
   "display_name": "base",
   "language": "python",
   "name": "python3"
  },
  "language_info": {
   "codemirror_mode": {
    "name": "ipython",
    "version": 3
   },
   "file_extension": ".py",
   "mimetype": "text/x-python",
   "name": "python",
   "nbconvert_exporter": "python",
   "pygments_lexer": "ipython3",
   "version": "3.11.7"
  }
 },
 "nbformat": 4,
 "nbformat_minor": 2
}
