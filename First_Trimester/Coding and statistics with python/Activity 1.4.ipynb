{
 "cells": [
  {
   "cell_type": "markdown",
   "id": "4dc0818d-e3b1-4eb4-9196-813987f1ee8e",
   "metadata": {},
   "source": [
    "<h1><center>Session1_screen4_activity</center></h1>\n",
    "<h1><center>December 1, 2022</center></h1>"
   ]
  },
  {
   "cell_type": "markdown",
   "id": "efbda476-9ba7-4c87-a6a6-18f0eed3eb93",
   "metadata": {},
   "source": [
    "## 1 Exercise 1.4 ##\n",
    "\n",
    "*Using multiple styles*"
   ]
  },
  {
   "cell_type": "markdown",
   "id": "7afaf1be-150f-4fa2-ab47-726b130083c9",
   "metadata": {},
   "source": [
    "### 1.1 This is a subtitle\n",
    "- first item\n",
    "- **second item**\n",
    "- third item in a font that looks like code"
   ]
  },
  {
   "cell_type": "markdown",
   "id": "97a1483d-83ad-42e7-88d5-4625a47d8460",
   "metadata": {},
   "source": [
    "You can also make ___bold and italics___ at same time make a new line without sepoaration betweeen\n",
    "the lines"
   ]
  },
  {
   "cell_type": "markdown",
   "id": "bba72202-b0f3-4f44-9487-651eb9ac8ce6",
   "metadata": {},
   "source": [
    "1.1.1 **Let’s make an enumerated list**\n",
    "1. First item\n",
    "2. ~~The second item is with a strioke~~\n",
    "3. but the third item has\n",
    "    1. a subtitem\n",
    "       \n",
    "   quoted text is often useful"
   ]
  },
  {
   "cell_type": "markdown",
   "id": "44564153-55b8-4e7b-999d-9e532321f992",
   "metadata": {},
   "source": [
    "You can mix styles, like maths and quotes > 𝑥 + 𝑦 = 5\n",
    "which looks different than > x+y=5\n",
    "\n",
    "**but why??**"
   ]
  },
  {
   "cell_type": "markdown",
   "id": "50edc430-e0d6-45b6-937e-206497b3eb2a",
   "metadata": {},
   "source": [
    "1.1.2 **Tasks lists**\n",
    "\n",
    "- [X] checked task\n",
    "- [ ] Some unchecked task\n"
   ]
  },
  {
   "cell_type": "markdown",
   "id": "de8eac8c-fae6-4cf5-94e7-bc01b629c810",
   "metadata": {},
   "source": [
    "**1.1.3 Even python code with automatic highliting**"
   ]
  },
  {
   "cell_type": "code",
   "execution_count": 7,
   "id": "f7eb44ed-89b4-4df5-b6b9-649fe356f147",
   "metadata": {},
   "outputs": [
    {
     "name": "stdout",
     "output_type": "stream",
     "text": [
      "Python syntax highlighting is 100\n"
     ]
    }
   ],
   "source": [
    "a= 100\n",
    "\n",
    "s= \"Python syntax highlighting is\"\n",
    "\n",
    "print (s, a)"
   ]
  },
  {
   "cell_type": "markdown",
   "id": "510d2467-b5b4-46b2-acf9-e65187bb4f89",
   "metadata": {},
   "source": [
    "**1.2 Special characters**\n",
    "- \\> - \\\\ - \\~ - the sequence \\<br> without making a new line - the same sequence as before but now with a new new lin<br>\n"
   ]
  },
  {
   "cell_type": "code",
   "execution_count": null,
   "id": "dc640e5d-febf-4df1-8c1f-422ad8f5dc10",
   "metadata": {},
   "outputs": [],
   "source": []
  }
 ],
 "metadata": {
  "kernelspec": {
   "display_name": "Python 3 (ipykernel)",
   "language": "python",
   "name": "python3"
  },
  "language_info": {
   "codemirror_mode": {
    "name": "ipython",
    "version": 3
   },
   "file_extension": ".py",
   "mimetype": "text/x-python",
   "name": "python",
   "nbconvert_exporter": "python",
   "pygments_lexer": "ipython3",
   "version": "3.11.7"
  }
 },
 "nbformat": 4,
 "nbformat_minor": 5
}
