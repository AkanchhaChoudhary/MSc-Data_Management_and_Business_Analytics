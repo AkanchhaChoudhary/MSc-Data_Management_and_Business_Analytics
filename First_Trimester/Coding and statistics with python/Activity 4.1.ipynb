{
 "cells": [
  {
   "cell_type": "markdown",
   "metadata": {},
   "source": [
    "4.1_activity\n",
    "\n",
    "January 26, 2023\n",
    "\n",
    "1 Exercises\n",
    "\n",
    "1.0.1 functions"
   ]
  },
  {
   "cell_type": "markdown",
   "metadata": {},
   "source": [
    "For each of the nextexercises, create a new code cell and write your solution"
   ]
  },
  {
   "cell_type": "markdown",
   "metadata": {},
   "source": [
    "1. Write a function that gets a number as input, and returns True if it is bigger than 5"
   ]
  },
  {
   "cell_type": "code",
   "execution_count": 35,
   "metadata": {},
   "outputs": [
    {
     "data": {
      "text/plain": [
       "True"
      ]
     },
     "execution_count": 35,
     "metadata": {},
     "output_type": "execute_result"
    }
   ],
   "source": [
    "def my_func(x):\n",
    "    if x>5:\n",
    "     result = True\n",
    "     return result\n",
    "my_func(6)   "
   ]
  },
  {
   "cell_type": "markdown",
   "metadata": {},
   "source": [
    "2. Write a function that gets a number as input and returns True if it is a float, and False if it\n",
    "is an integer"
   ]
  },
  {
   "cell_type": "code",
   "execution_count": 36,
   "metadata": {},
   "outputs": [
    {
     "data": {
      "text/plain": [
       "False"
      ]
     },
     "execution_count": 36,
     "metadata": {},
     "output_type": "execute_result"
    }
   ],
   "source": [
    "def my_func2(number):\n",
    "    if isinstance(number, float):\n",
    "        return True\n",
    "    elif isinstance(number, int):\n",
    "        return False\n",
    "    else:\n",
    "        return False\n",
    "my_func2(2)"
   ]
  },
  {
   "cell_type": "markdown",
   "metadata": {},
   "source": [
    "3. Write a function that takes a string as argument, and count the number of “a” in the string"
   ]
  },
  {
   "cell_type": "code",
   "execution_count": 37,
   "metadata": {},
   "outputs": [
    {
     "name": "stdout",
     "output_type": "stream",
     "text": [
      "Number of 'a's in the string: 3\n"
     ]
    }
   ],
   "source": [
    "\n",
    "def count_a(string):\n",
    "    count = 0\n",
    "    for char in string:\n",
    "        if char == 'a':\n",
    "            count += 1\n",
    "    return count\n",
    "\n",
    "# Example usage:\n",
    "string = \"akanchha\"\n",
    "print(\"Number of 'a's in the string:\", count_a(string))\n"
   ]
  },
  {
   "cell_type": "markdown",
   "metadata": {},
   "source": [
    "4. Write a function that takes a tuple as argument and returns the number of unique elements\n",
    "in the tuple"
   ]
  },
  {
   "cell_type": "code",
   "execution_count": 38,
   "metadata": {},
   "outputs": [
    {
     "name": "stdout",
     "output_type": "stream",
     "text": [
      "Number of unique elements in the tuple: 5\n"
     ]
    }
   ],
   "source": [
    "def count_elements(tuple_input):\n",
    "    unique_elements = set(tuple_input)\n",
    "    return len(unique_elements)\n",
    "\n",
    "# Example usage:\n",
    "my_tuple = (1, 2, 3, 4, 2, 3, 5)\n",
    "print(\"Number of unique elements in the tuple:\", count_elements(my_tuple))\n",
    "\n"
   ]
  }
 ],
 "metadata": {
  "kernelspec": {
   "display_name": "base",
   "language": "python",
   "name": "python3"
  },
  "language_info": {
   "codemirror_mode": {
    "name": "ipython",
    "version": 3
   },
   "file_extension": ".py",
   "mimetype": "text/x-python",
   "name": "python",
   "nbconvert_exporter": "python",
   "pygments_lexer": "ipython3",
   "version": "3.11.7"
  }
 },
 "nbformat": 4,
 "nbformat_minor": 2
}
