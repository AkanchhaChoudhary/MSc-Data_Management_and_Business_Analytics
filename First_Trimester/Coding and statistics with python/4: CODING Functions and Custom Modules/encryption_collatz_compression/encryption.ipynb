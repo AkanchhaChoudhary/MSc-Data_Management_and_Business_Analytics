{
 "cells": [
  {
   "cell_type": "markdown",
   "id": "5c15111d-5fa1-4e65-86b1-410badea3759",
   "metadata": {},
   "source": [
    "## Encryption\n",
    "\n",
    "In this notebook, we are going to create an encryption algorithm. In particular a **substitution cypher**, in which each letter of our message is replaced by a predetermined different letter. We should have a mapping between the original letter and the substitution letter.\n",
    "This map can serve for encrypt and decrypt.\n"
   ]
  },
  {
   "cell_type": "code",
   "execution_count": null,
   "id": "b8084a08-b634-494d-b213-f2d4158dd587",
   "metadata": {},
   "outputs": [],
   "source": []
  },
  {
   "cell_type": "code",
   "execution_count": 3,
   "id": "5d759e64-cf3c-4556-aad9-7d1e2d3a9c54",
   "metadata": {},
   "outputs": [
    {
     "name": "stdout",
     "output_type": "stream",
     "text": [
      "A -> C\n",
      "B -> W\n",
      "C -> G\n",
      "D -> N\n",
      "E -> B\n",
      "F -> O\n",
      "G -> F\n",
      "H -> R\n",
      "I -> Y\n",
      "J -> D\n",
      "K -> J\n",
      "L -> H\n",
      "M -> S\n",
      "N -> K\n",
      "O -> T\n",
      "P -> Z\n",
      "Q -> U\n",
      "R -> A\n",
      "S -> M\n",
      "T -> E\n",
      "U -> L\n",
      "V -> X\n",
      "W -> Q\n",
      "X -> V\n",
      "Y -> I\n",
      "Z -> P\n"
     ]
    }
   ],
   "source": [
    "import random\n",
    "import string\n",
    "\n",
    "# Set a fixed seed for consistent shuffle\n",
    "random.seed(12)\n",
    "\n",
    "# Create a list of uppercase letters from A to Z\n",
    "letters = list(string.ascii_uppercase)\n",
    "\n",
    "# Create a shuffled copy of the letters\n",
    "shuffled_letters = letters.copy()\n",
    "random.shuffle(shuffled_letters)\n",
    "\n",
    "# Establish a mapping from the original letters to their shuffled counterparts\n",
    "mapping = dict(zip(letters, shuffled_letters))\n",
    "\n",
    "# Print the mapping\n",
    "for key, value in mapping.items():\n",
    "    print(f\"{key} -> {value}\")\n"
   ]
  },
  {
   "cell_type": "code",
   "execution_count": 4,
   "id": "9249cab2-2aed-4aef-aee7-0bccd94cb668",
   "metadata": {},
   "outputs": [
    {
     "name": "stdout",
     "output_type": "stream",
     "text": [
      "Original Message: Hello, World!\n",
      "Encrypted Message: RBHHT, QTAHN!\n"
     ]
    }
   ],
   "source": [
    "\n",
    "# Encryption function\n",
    "def encrypt(message, mapping):\n",
    "    message = message.upper()\n",
    "    encrypted_message = \"\"\n",
    "    \n",
    "    for char in message:\n",
    "        if char in mapping.keys():\n",
    "            encrypted_message = encrypted_message  + mapping[char]\n",
    "        else:\n",
    "            # If not an alphabet character, keep unchanged\n",
    "             encrypted_message = encrypted_message  + char\n",
    "            \n",
    "\n",
    "    return encrypted_message\n",
    "\n",
    "# Test the encryption function\n",
    "message = \"Hello, World!\"\n",
    "encrypted_msg = encrypt(message, mapping)\n",
    "print(f\"Original Message: {message}\")\n",
    "print(f\"Encrypted Message: {encrypted_msg}\")\n"
   ]
  },
  {
   "cell_type": "code",
   "execution_count": 5,
   "id": "e89e62ed-6538-4ffe-bdc9-b7bd256cca9e",
   "metadata": {},
   "outputs": [
    {
     "name": "stdout",
     "output_type": "stream",
     "text": [
      "Encrypted Message: RBHHT, QTAHN!\n",
      "Decrypted Message: HELLO, WORLD!\n"
     ]
    }
   ],
   "source": [
    "\n",
    "\n",
    "# Decryption function\n",
    "def decrypt(encrypted_message, mapping):\n",
    "    # Create a reverse mapping from the shuffled letters to the original letters\n",
    "    reverse_mapping = {v: k for k, v in mapping.items()}\n",
    "    \n",
    "    decrypted_message = encrypt(encrypted_message, reverse_mapping)\n",
    "    return decrypted_message\n",
    "\n",
    "# Test the decryption function\n",
    "decrypted_msg = decrypt(encrypted_msg, mapping)\n",
    "print(f\"Encrypted Message: {encrypted_msg}\")\n",
    "print(f\"Decrypted Message: {decrypted_msg}\")\n"
   ]
  },
  {
   "cell_type": "markdown",
   "id": "5a2cb0f2-d96d-4932-961e-3619726d69d5",
   "metadata": {},
   "source": [
    "\n",
    "We can do the mapping just depend in a sigme number"
   ]
  },
  {
   "cell_type": "code",
   "execution_count": 6,
   "id": "d5c0a290-6f58-452c-99be-bd9bd0aff43d",
   "metadata": {},
   "outputs": [],
   "source": [
    "def create_map(seed = 12):\n",
    "    random.seed(seed)\n",
    "    letters = list(string.ascii_uppercase)\n",
    "    shuffled_letters = letters.copy()\n",
    "    random.shuffle(shuffled_letters)\n",
    "    mapping = dict(zip(letters, shuffled_letters))\n",
    "    return mapping"
   ]
  },
  {
   "cell_type": "markdown",
   "id": "37e73b1a-0642-4123-b223-375dd9558534",
   "metadata": {},
   "source": [
    "And then change our encription with a single number"
   ]
  },
  {
   "cell_type": "code",
   "execution_count": 7,
   "id": "914a156a-3a28-476e-840b-85e82b653bab",
   "metadata": {},
   "outputs": [
    {
     "name": "stdout",
     "output_type": "stream",
     "text": [
      "Original Message: Hello, World!\n",
      "Encrypted Message: RBHHT, QTAHN!\n"
     ]
    }
   ],
   "source": [
    "\n",
    "# Encryption function\n",
    "def encrypt2(message, secret_seed = 12):\n",
    "    mapping = create_map(secret_seed)\n",
    "    message = message.upper()\n",
    "    encrypted_message = \"\"\n",
    "    \n",
    "    for char in message:\n",
    "        if char in mapping.keys():\n",
    "            encrypted_message = encrypted_message  + mapping[char]\n",
    "        else:\n",
    "            # If not an alphabet character, keep unchanged\n",
    "             encrypted_message = encrypted_message  + char\n",
    "            \n",
    "\n",
    "    return encrypted_message\n",
    "\n",
    "# Test the encryption function\n",
    "message = \"Hello, World!\"\n",
    "encrypted_msg = encrypt2(message, secret_seed = 12)\n",
    "print(f\"Original Message: {message}\")\n",
    "print(f\"Encrypted Message: {encrypted_msg}\")\n"
   ]
  },
  {
   "cell_type": "code",
   "execution_count": 8,
   "id": "b969efae-256b-45f3-8203-00a7f0193347",
   "metadata": {},
   "outputs": [
    {
     "name": "stdout",
     "output_type": "stream",
     "text": [
      "Encrypted Message: RBHHT, QTAHN!\n",
      "Decrypted Message: HELLO, WORLD!\n"
     ]
    }
   ],
   "source": [
    "# Decryption function\n",
    "def decrypt2(encrypted_message, secret_seed=12):\n",
    "    mapping = create_map(secret_seed)\n",
    "    # Create a reverse mapping from the shuffled letters to the original letters\n",
    "    reverse_mapping = {v: k for k, v in mapping.items()}\n",
    "    \n",
    "    decrypted_message = encrypt(encrypted_message, reverse_mapping)\n",
    "    return decrypted_message\n",
    "\n",
    "# Test the decryption function\n",
    "decrypted_msg = decrypt2(encrypted_msg, secret_seed = 12)\n",
    "print(f\"Encrypted Message: {encrypted_msg}\")\n",
    "print(f\"Decrypted Message: {decrypted_msg}\")"
   ]
  },
  {
   "cell_type": "markdown",
   "id": "96559fc2-9dc5-40e5-a78a-4da900c6efb7",
   "metadata": {},
   "source": [
    "The problem with this algorithm is that the key '12' can only be known by the sender and the receiver. If the key is intercepted, then all our messages can be decrypted."
   ]
  },
  {
   "cell_type": "code",
   "execution_count": null,
   "id": "6f34a2c3-2f63-4321-8c52-9c9fa58d0974",
   "metadata": {},
   "outputs": [],
   "source": []
  },
  {
   "cell_type": "markdown",
   "id": "13a59e98-c7a9-429c-881b-33065f9b8ef8",
   "metadata": {},
   "source": [
    "In practice the seed is passed via prime number factorization"
   ]
  },
  {
   "cell_type": "markdown",
   "id": "ec36d3ee-d469-43cf-a36b-1019f4e2ac0b",
   "metadata": {},
   "source": [
    "sender has a key_A = 982451653\n",
    "receiver has a key_B = 982451653\n",
    "\n",
    "they are very large prime numbers. so, the product"
   ]
  },
  {
   "cell_type": "code",
   "execution_count": 15,
   "id": "40963824-1cec-40ce-af22-a5f7f375392d",
   "metadata": {},
   "outputs": [
    {
     "data": {
      "text/plain": [
       "965211250482432409"
      ]
     },
     "execution_count": 15,
     "metadata": {},
     "output_type": "execute_result"
    }
   ],
   "source": [
    "982451653*982451653"
   ]
  },
  {
   "cell_type": "markdown",
   "id": "383163e9-92ba-4ae3-991f-b5b04fd9e9e4",
   "metadata": {},
   "source": [
    "has a unique decomposition. \n",
    "If i do now know any of the keys, it is extremely difficult to find this decomposition. However, if i have one of the keys, let's say key_A, it is trivial to find key_B"
   ]
  },
  {
   "cell_type": "code",
   "execution_count": 16,
   "id": "6c524117-2d31-4841-828b-9ee450fb7abb",
   "metadata": {},
   "outputs": [
    {
     "data": {
      "text/plain": [
       "982451653.0"
      ]
     },
     "execution_count": 16,
     "metadata": {},
     "output_type": "execute_result"
    }
   ],
   "source": [
    "965211250482432409/982451653"
   ]
  },
  {
   "cell_type": "code",
   "execution_count": null,
   "id": "535c8248-3a80-4684-8650-26469693261d",
   "metadata": {},
   "outputs": [],
   "source": []
  }
 ],
 "metadata": {
  "kernelspec": {
   "display_name": "Python 3 (ipykernel)",
   "language": "python",
   "name": "python3"
  },
  "language_info": {
   "codemirror_mode": {
    "name": "ipython",
    "version": 3
   },
   "file_extension": ".py",
   "mimetype": "text/x-python",
   "name": "python",
   "nbconvert_exporter": "python",
   "pygments_lexer": "ipython3",
   "version": "3.9.18"
  }
 },
 "nbformat": 4,
 "nbformat_minor": 5
}
