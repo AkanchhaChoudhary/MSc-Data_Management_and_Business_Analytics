{
 "cells": [
  {
   "cell_type": "markdown",
   "id": "18c7f781-7aba-4d57-971b-0539d19e120a",
   "metadata": {},
   "source": [
    "## Compression of binary sequences"
   ]
  },
  {
   "cell_type": "code",
   "execution_count": null,
   "id": "a755b8aa-99d0-4196-b33f-66d53020f72a",
   "metadata": {},
   "outputs": [],
   "source": [
    "def compress_sequence(seq):\n",
    "\n",
    "    compressed = []\n",
    "    current_value = seq[0]\n",
    "    count = 1\n",
    "\n",
    "    for i in range(1, len(seq)):\n",
    "        if seq[i] == current_value:\n",
    "            count += 1\n",
    "        else:\n",
    "            compressed.append((current_value, count))\n",
    "            current_value = seq[i]\n",
    "            count = 1\n",
    "\n",
    "    compressed.append((current_value, count))\n",
    "    return compressed\n",
    "\n",
    "# Test the function\n",
    "seq = [0, 0, 0, 1, 0, 0, 1, 1, 1, 1, 0, 0, 0]\n",
    "print(compress_sequence(seq))\n"
   ]
  },
  {
   "cell_type": "code",
   "execution_count": 1,
   "id": "fb21a9e1-cecc-47df-af8a-ba1d155ce8bf",
   "metadata": {},
   "outputs": [
    {
     "name": "stdout",
     "output_type": "stream",
     "text": [
      "[0, 0, 0, 1, 0, 0, 1, 1, 1, 1, 0, 0, 0]\n"
     ]
    }
   ],
   "source": [
    "def decompress_sequence(compressed):\n",
    "    decompressed = []\n",
    "    \n",
    "    for value, count in compressed:\n",
    "        decompressed.extend([value] * count)\n",
    "    \n",
    "    return decompressed\n",
    "\n",
    "# Test the function\n",
    "compressed_seq = [(0, 3), (1, 1), (0, 2), (1, 4), (0, 3)]\n",
    "print(decompress_sequence(compressed_seq))\n"
   ]
  },
  {
   "cell_type": "markdown",
   "id": "b9238a9f-57eb-4590-b91a-3325d27c6cce",
   "metadata": {},
   "source": [
    "Let's try the compression with longer sequences.\n",
    "I write first a function that creates a random list of numbers from 0 to 255.\n",
    "Every number from 0 to 255 can be written in binary form (0's and 1's) using only 8 digits, (that is, using 8 bits, or 1 byte). Therefore, I return the sequence in binary format (all numbers consecutive), so a sequence with 3 bytes will have 3*8 = 24 bits.\n",
    "(for a number num, you can find this with the function format(num, '08b')\n",
    "\n",
    "For instance the sequence [ 7, 125, 87], is as follows\n",
    "- 7 -> 00000111\n",
    "- 125 ->  01111101\n",
    "- 87 -> 01010111\n",
    "\n",
    "and the list [7, 125, 87] is converted into the sequence 000001110111110101010111"
   ]
  },
  {
   "cell_type": "code",
   "execution_count": 8,
   "id": "4f24f0d2-707d-4ff1-a563-81bb49507277",
   "metadata": {},
   "outputs": [
    {
     "name": "stdout",
     "output_type": "stream",
     "text": [
      "[1, 1, 0, 0, 0, 1, 1, 0, 1, 1, 0, 1, 1, 0, 1, 0, 1, 0, 0, 0, 0, 0, 0, 0]\n"
     ]
    }
   ],
   "source": [
    "import numpy as np\n",
    "def create_seq(n_bytes=10):\n",
    "    list_int= [np.random.randint(0, 255) for _ in range(n_bytes)]\n",
    "    binary_list = []\n",
    "    for num in list_int:\n",
    "        binary_representation = format(num, '08b')\n",
    "        for bit in binary_representation:\n",
    "            binary_list.append(int(bit))\n",
    "    return binary_list\n",
    "\n",
    "seq1 = create_seq(n_bytes=3)\n",
    "print(seq1)"
   ]
  },
  {
   "cell_type": "markdown",
   "id": "f2b50e66-623d-4278-888a-0871cd8c44b1",
   "metadata": {},
   "source": [
    "and now i can comprese it"
   ]
  },
  {
   "cell_type": "code",
   "execution_count": 16,
   "id": "9c73f344-eada-4eb1-9983-ae5a62a77db2",
   "metadata": {},
   "outputs": [
    {
     "name": "stdout",
     "output_type": "stream",
     "text": [
      "[(1, 2), (0, 3), (1, 2), (0, 1), (1, 2), (0, 1), (1, 2), (0, 1), (1, 1), (0, 1), (1, 1), (0, 7)]\n"
     ]
    }
   ],
   "source": [
    "c_seq1 = compress_sequence(seq1)\n",
    "print(c_seq1)"
   ]
  },
  {
   "cell_type": "markdown",
   "id": "18f475f1-bc09-4bd7-83c5-c44311a56c39",
   "metadata": {},
   "source": [
    "We can estimate (roughly) the size of the compressed sequence using the function getsizeog( ), in the sys library"
   ]
  },
  {
   "cell_type": "code",
   "execution_count": 17,
   "id": "c60b2e3e-2cab-4ca2-b9ff-178a78509b76",
   "metadata": {},
   "outputs": [
    {
     "name": "stdout",
     "output_type": "stream",
     "text": [
      "size original list:248 size \"compressed\" list:184\n",
      " The compresion ratio is 1.3478260869565217\n"
     ]
    }
   ],
   "source": [
    "from sys import getsizeof\n",
    "print(f'size original list:{getsizeof(seq1)}', f'size \"compressed\" list:{getsizeof(c_seq1)}')\n",
    "print(f' The compresion ratio is {getsizeof(seq1)/getsizeof(c_seq1)}')"
   ]
  },
  {
   "cell_type": "markdown",
   "id": "fdab2fe7-2507-41d2-b887-b700bc655ae3",
   "metadata": {},
   "source": [
    "we can try this for bigger lentgth, many times, and compute the average compression ratio \n"
   ]
  },
  {
   "cell_type": "code",
   "execution_count": 27,
   "id": "61a92faf-1180-4a29-8e46-161210810172",
   "metadata": {},
   "outputs": [],
   "source": [
    "N = 2000  # we compute 1000 the ratio,\n",
    "number_bytes = 100  # 100 integer numbers\n",
    "\n",
    "arr_ratio = np.zeros(N)\n",
    "for i in range(N):\n",
    "    seq = create_seq(n_bytes=number_bytes)\n",
    "    c_seq = compress_sequence(seq)\n",
    "    ratio = getsizeof(seq)/getsizeof(c_seq)\n",
    "    arr_ratio[i] = ratio\n",
    "    \n"
   ]
  },
  {
   "cell_type": "markdown",
   "id": "a5e94dbf-b17f-4672-bb3c-f109fe059f6d",
   "metadata": {},
   "source": [
    "Let's compute the average compression ratio"
   ]
  },
  {
   "cell_type": "code",
   "execution_count": 28,
   "id": "f830c0c1-2c94-438d-88cf-865a6ebb32cc",
   "metadata": {},
   "outputs": [
    {
     "name": "stdout",
     "output_type": "stream",
     "text": [
      "average compression ratio=:1.993679719086025\n"
     ]
    }
   ],
   "source": [
    "print(f'average compression ratio=:{np.mean(arr_ratio)}')"
   ]
  },
  {
   "cell_type": "markdown",
   "id": "5ac3cf22-48ef-4a1c-8df1-1e9534d1faf9",
   "metadata": {},
   "source": [
    "So, with this simple algorithm, we managed to reduce the size of our data by 2!\n"
   ]
  },
  {
   "cell_type": "code",
   "execution_count": null,
   "id": "739c6e36-7bfe-4819-85a8-7b40d52ad325",
   "metadata": {},
   "outputs": [],
   "source": []
  }
 ],
 "metadata": {
  "kernelspec": {
   "display_name": "Python 3 (ipykernel)",
   "language": "python",
   "name": "python3"
  },
  "language_info": {
   "codemirror_mode": {
    "name": "ipython",
    "version": 3
   },
   "file_extension": ".py",
   "mimetype": "text/x-python",
   "name": "python",
   "nbconvert_exporter": "python",
   "pygments_lexer": "ipython3",
   "version": "3.9.18"
  }
 },
 "nbformat": 4,
 "nbformat_minor": 5
}
