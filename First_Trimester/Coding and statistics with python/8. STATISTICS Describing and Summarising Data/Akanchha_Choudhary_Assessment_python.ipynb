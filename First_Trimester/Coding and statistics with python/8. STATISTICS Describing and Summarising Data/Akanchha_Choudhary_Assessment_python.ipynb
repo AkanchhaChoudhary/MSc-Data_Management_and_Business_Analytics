{
 "cells": [
  {
   "cell_type": "markdown",
   "id": "51db2d0d-2fa3-4861-ba58-4238f490b8b7",
   "metadata": {},
   "source": [
    "## Python Assessment.\n",
    "\n",
    "**Duration: 2 hours**\n",
    "\n",
    "Please save and upload the Jupyter notebook with the following format\n",
    "*YourName_Assesment_python.ipynb*\n",
    "\n",
    "You are allowed to check class material and exercises; but not generative AI such as chat gpt.  \n",
    "\n",
    "The exam also uses two different files. Place them in the same directory as the jupyter notebook, but you do not need to upload those as part of the exam since I will have them already. However, do not modify the files: I should be able to open my own version with your code.\n",
    "\n",
    "The exam consists of 10 questions. (each worth 10 points)\n",
    "For the question with several parts, each part contributes cumulatively to the grade of the question. \n",
    "I will evaluate : Correctness of the answer, clarity of code, appropriate use of markdown to present the solutions.\n",
    "\n",
    "***You are allowed to check class material and exercises; but not generative AI such as chat gpt.***\n"
   ]
  },
  {
   "cell_type": "markdown",
   "id": "95a78649-3318-4df9-8475-f743f31e6d38",
   "metadata": {},
   "source": [
    "## Question 1\n",
    "\n",
    "- i) Create a nd.array (call it mySeq) with a sequence with the numbers from 2 to 100 (included)\n",
    "- ii) Transform this nd.array into a list (call it myList)\n",
    "- iii) Then create a tuple in which the first element is the nd.array, and the second element is the list\n",
    "- iv) Is it possible to modify the elements of the list INSIDE the array? Reason or ilustrate your answer."
   ]
  },
  {
   "cell_type": "markdown",
   "id": "086fd1cf",
   "metadata": {},
   "source": [
    "## Answer 1"
   ]
  },
  {
   "cell_type": "code",
   "execution_count": 6,
   "id": "7a3c7c88",
   "metadata": {},
   "outputs": [],
   "source": [
    "import numpy as np\n",
    "\n",
    "# i) Create a nd.array (call it mySeq) with a sequence with the numbers from 2 to 100 (included)\n",
    "Sequence1 = np.arange(2, 101)  \n",
    "\n",
    "# ii) This code will convert the nd.array into a list\n",
    "List1 = Sequence1.tolist()  \n",
    "\n",
    "#  iii) This will create a tuple with the nd.array and the list\n",
    "Tuple1 = (Sequence1, List1)  \n",
    "\n"
   ]
  },
  {
   "cell_type": "markdown",
   "id": "4b09e9da",
   "metadata": {},
   "source": [
    "iv) No, it's not possible to modify elements of the list inside the array because a numpy array stores elements of a single data type, and it doesn't support\n",
    "storing objects of variable length (like lists) inside the array."
   ]
  },
  {
   "cell_type": "code",
   "execution_count": 8,
   "id": "9e5c40f7",
   "metadata": {},
   "outputs": [
    {
     "name": "stdout",
     "output_type": "stream",
     "text": [
      "Error: setting an array element with a sequence.\n"
     ]
    }
   ],
   "source": [
    "# Explanation with code for above answer\n",
    "try:\n",
    "    Tuple1[0][0] = [10, 20, 30]  # Try to assign a list to the first element of the array\n",
    "except ValueError as e:\n",
    "    print(\"Error:\", e)\n"
   ]
  },
  {
   "cell_type": "code",
   "execution_count": null,
   "id": "ab712e0f",
   "metadata": {},
   "outputs": [],
   "source": []
  },
  {
   "cell_type": "markdown",
   "id": "85551b9b-8271-4d0b-b4f8-37a18cbd8e1d",
   "metadata": {},
   "source": [
    "## Question 2\n",
    "\n",
    "- i) Create a set (call it mySet) with all the numbers from 0 to 100 included.\n",
    "- ii) Transform this set to a list (call it myList)\n",
    "- iii) Using myList, use list comprehensions to create another list (call it SecondList) in which each element is a number with the LAST DIGIT of the corresponding element in myList. That is, \n",
    "[2, 105, 38]  will transform into [2, 5, 8]\n"
   ]
  },
  {
   "cell_type": "markdown",
   "id": "e2b0e32e",
   "metadata": {},
   "source": [
    "## Answer 2"
   ]
  },
  {
   "cell_type": "code",
   "execution_count": 10,
   "id": "8c035a00-6b97-4165-aff4-7a3c355db34e",
   "metadata": {},
   "outputs": [
    {
     "name": "stdout",
     "output_type": "stream",
     "text": [
      "[0, 1, 2, 3, 4, 5, 6, 7, 8, 9, 0, 1, 2, 3, 4, 5, 6, 7, 8, 9, 0, 1, 2, 3, 4, 5, 6, 7, 8, 9, 0, 1, 2, 3, 4, 5, 6, 7, 8, 9, 0, 1, 2, 3, 4, 5, 6, 7, 8, 9, 0, 1, 2, 3, 4, 5, 6, 7, 8, 9, 0, 1, 2, 3, 4, 5, 6, 7, 8, 9, 0, 1, 2, 3, 4, 5, 6, 7, 8, 9, 0, 1, 2, 3, 4, 5, 6, 7, 8, 9, 0, 1, 2, 3, 4, 5, 6, 7, 8, 9, 0]\n"
     ]
    }
   ],
   "source": [
    "# i) Create a set with all the numbers from 0 to 100 included\n",
    "set1 = set(range(101))\n",
    "\n",
    "# ii) Transform the set into a list\n",
    "myList = list(set1)\n",
    "\n",
    "# iii) Using myList, use list comprehensions to create another list (call it SecondList) in which each element is a number with the LAST DIGIT of the corresponding element in myList. That is, \n",
    "#[2, 105, 38]  will transform into [2, 5, 8]\n",
    "SecondList = [int(str(num)[-1]) for num in myList]\n",
    "\n",
    "# Print SecondList\n",
    "print(SecondList)\n"
   ]
  },
  {
   "cell_type": "markdown",
   "id": "54b1dc9a-3ff9-47bd-891a-588ca62b9a35",
   "metadata": {},
   "source": [
    "## Question 3\n",
    "\n",
    "- You have the following list: v =[2, 5, 9, 6, 4, 10]. \n",
    "\n",
    "- Write a for loop to print each element of the list\n",
    "\n",
    "- Now, write another for loop to print the elements in reverse (that is, 10, 4, 6, ...)"
   ]
  },
  {
   "cell_type": "markdown",
   "id": "3709dacd-dc89-4bad-9051-c8145c6f151c",
   "metadata": {},
   "source": [
    "## Answer 3"
   ]
  },
  {
   "cell_type": "code",
   "execution_count": 11,
   "id": "9131e655",
   "metadata": {},
   "outputs": [
    {
     "name": "stdout",
     "output_type": "stream",
     "text": [
      "Elements of the list:\n",
      "2\n",
      "5\n",
      "9\n",
      "6\n",
      "4\n",
      "10\n",
      "\n",
      "Elements of the list in reverse:\n",
      "10\n",
      "4\n",
      "6\n",
      "9\n",
      "5\n",
      "2\n"
     ]
    }
   ],
   "source": [
    "\n",
    "v = [2, 5, 9, 6, 4, 10]\n",
    "\n",
    "# for loop to print each element of the list\n",
    "print(\"Elements of the list:\")\n",
    "for element in v:\n",
    "    print(element)\n",
    "\n",
    "# another for loop to print the elements in reverse\n",
    "print(\"\\nElements of the list in reverse:\")\n",
    "for element in reversed(v):\n",
    "    print(element)\n"
   ]
  },
  {
   "cell_type": "code",
   "execution_count": null,
   "id": "e32ab512",
   "metadata": {},
   "outputs": [],
   "source": []
  },
  {
   "cell_type": "markdown",
   "id": "a595fbf1-4fa0-46c9-9c27-a17489f3762c",
   "metadata": {
    "tags": []
   },
   "source": [
    "## Question 4\n",
    "\n",
    "- Using pandas library, read the file irisData.csv, using the apropriate arguments to obtain a proper dataframe (call it df)\n",
    "- Change the name of the columns to ['sep_L', 'sep_W', 'pet_L', 'pet_W', 'Species']\n",
    "- Create another dataframe (call it df_2) that only contains the data points for which Species is equal to 2.\n",
    "- Give the code to save the df_2 dataframe as a csv file, with a ';' as separator."
   ]
  },
  {
   "cell_type": "markdown",
   "id": "ab8ef022",
   "metadata": {},
   "source": [
    "## Answer 4"
   ]
  },
  {
   "cell_type": "code",
   "execution_count": 12,
   "id": "8021e318",
   "metadata": {},
   "outputs": [],
   "source": [
    "\n",
    "\n",
    "import pandas as pd\n",
    "\n",
    "# Reading irisData.csv into a DataFrame df\n",
    "df = pd.read_csv(\"irisData.csv\", header=None, names=['sep_L', 'sep_W', 'pet_L', 'pet_W', 'Species'])\n",
    "\n",
    "# Creating another DataFrame df_2 containing data points where Species is equal to 2\n",
    "df_2 = df[df['Species'] == 2]\n",
    "\n",
    "# Saving df_2 as a CSV file with ';' as separator\n",
    "df_2.to_csv(\"df_2.csv\", sep=';', index=False)\n"
   ]
  },
  {
   "cell_type": "code",
   "execution_count": null,
   "id": "9a79878f-4a6e-476e-a556-e97eaa5492aa",
   "metadata": {},
   "outputs": [],
   "source": []
  },
  {
   "cell_type": "markdown",
   "id": "29e29e78-c908-48c3-85d1-0e3559ac5a63",
   "metadata": {},
   "source": [
    "## Question 5"
   ]
  },
  {
   "cell_type": "markdown",
   "id": "22ea7d71-104e-4e54-ae05-6a0e4ff46c5a",
   "metadata": {},
   "source": [
    "Let v = [1,2,1,3,1,4,1,5,1,6,1,7,1,8,1,9,1,10,1,11,1,12,1,13,1,14,1,15,1,16,1,17,1,18,1,19,1,20]\n",
    "- Using a for loop, print all the numbers that are not 1\n",
    "- Using a for loop, print all numbers that do not contain any 1 (for instance, 13 is not printed because it contains a 1)\n",
    "- Using  for loop, print all numbers whose sum of digits is an even number. (for instance 15 because 1+5= 6, even)\n"
   ]
  },
  {
   "cell_type": "markdown",
   "id": "0fc4bcb6",
   "metadata": {},
   "source": [
    "## Answer 5"
   ]
  },
  {
   "cell_type": "code",
   "execution_count": 13,
   "id": "3eba9a20-a475-471e-a83d-91d8dcbe23ff",
   "metadata": {},
   "outputs": [
    {
     "name": "stdout",
     "output_type": "stream",
     "text": [
      "Numbers in v that are not 1:\n",
      "2 3 4 5 6 7 8 9 10 11 12 13 14 15 16 17 18 19 20 \n",
      "Numbers in v that do not contain any 1:\n",
      "2 3 4 5 6 7 8 9 20 \n",
      "Numbers in v whose sum of digits is even:\n",
      "2 4 6 8 11 13 15 17 19 20 "
     ]
    }
   ],
   "source": [
    "v = [1,2,1,3,1,4,1,5,1,6,1,7,1,8,1,9,1,10,1,11,1,12,1,13,1,14,1,15,1,16,1,17,1,18,1,19,1,20]\n",
    "\n",
    "# Print all numbers in v that are not equal to 1\n",
    "print(\"Numbers in v that are not 1:\")\n",
    "for num in v:\n",
    "    if num != 1:\n",
    "        print(num, end=' ')\n",
    "\n",
    "# Print all numbers in v that do not contain any 1\n",
    "print(\"\\nNumbers in v that do not contain any 1:\")\n",
    "for num in v:\n",
    "    if '1' not in str(num):\n",
    "        print(num, end=' ')\n",
    "\n",
    "# Print all numbers in v whose sum of digits is even\n",
    "print(\"\\nNumbers in v whose sum of digits is even:\")\n",
    "for num in v:\n",
    "    if sum(int(digit) for digit in str(num)) % 2 == 0:\n",
    "        print(num, end=' ')\n"
   ]
  },
  {
   "cell_type": "markdown",
   "id": "31e8be4b-cdec-43ba-8f17-0af403712db4",
   "metadata": {},
   "source": [
    "## Question 6\n",
    "- Create a function (call is str2len) that takes a strings as argument and return the number of characters of that string. For instance str2len(\"Hello World\") should give 11 as output\n",
    "- Modify the previous function (call it str2len_unq) in such a way that it returns the number of unique characters in the string. For instance str2len_unq(\"Hello World\") should give 8 as output"
   ]
  },
  {
   "cell_type": "markdown",
   "id": "0ea0665b",
   "metadata": {},
   "source": [
    "## Answer 6"
   ]
  },
  {
   "cell_type": "code",
   "execution_count": 15,
   "id": "9bd53b57-3753-40bd-a445-144065c0d81f",
   "metadata": {},
   "outputs": [
    {
     "name": "stdout",
     "output_type": "stream",
     "text": [
      "Number of characters in the string: 11\n",
      "Number of unique characters in the string: 8\n"
     ]
    }
   ],
   "source": [
    "\n",
    "\n",
    "def str2len(s):\n",
    "    \n",
    "    return len(s)\n",
    "\n",
    "def str2len_unq(s):\n",
    "    \n",
    "    return len(set(s))\n",
    "\n",
    "# Test the functions\n",
    "input_str = \"Hello World\"\n",
    "print(\"Number of characters in the string:\", str2len(input_str))\n",
    "print(\"Number of unique characters in the string:\", str2len_unq(input_str))\n"
   ]
  },
  {
   "cell_type": "markdown",
   "id": "cf5fbc9e-8b46-4db1-9db3-711d0dcf98f7",
   "metadata": {},
   "source": [
    "## Question 7\n",
    "\n",
    "Read the file num_data.csv, containing some numeric data. Call the dataframe `df_num`\n",
    "\n",
    "- How many values are there in the y column such that y is more or equal to 6?\n",
    "- How many data points are there such that x>y?\n",
    "- What is the minimum y value? For which x value we can find the that minimum y value?\n"
   ]
  },
  {
   "cell_type": "markdown",
   "id": "13b4cbe7",
   "metadata": {},
   "source": [
    "## Answer 7"
   ]
  },
  {
   "cell_type": "code",
   "execution_count": 26,
   "id": "b4be3f0c",
   "metadata": {},
   "outputs": [
    {
     "name": "stdout",
     "output_type": "stream",
     "text": [
      "Number of values in the y column such that y is greater than or equal to 6: 1395\n",
      "Number of data points such that x is greater than y: 9512\n",
      "Minimum y value: 1.6719022137126942\n",
      "Corresponding x value for the minimum y value: 20.93\n"
     ]
    }
   ],
   "source": [
    "\n",
    "\n",
    "import pandas as pd\n",
    "\n",
    "\n",
    "df_num = pd.read_csv(\"num_data.csv\")\n",
    "\n",
    "num_y_ge_6 = df_num[df_num['y'] >= 6]['y'].count()\n",
    "print(\"Number of values in the y column such that y is greater than or equal to 6:\", num_y_ge_6)\n",
    "\n",
    "\n",
    "num_x_gt_y = df_num[df_num['x'] > df_num['y']].shape[0]\n",
    "print(\"Number of data points such that x is greater than y:\", num_x_gt_y)\n",
    "\n",
    "\n",
    "min_y_value = df_num['y'].min()\n",
    "x_value_min_y = df_num[df_num['y'] == min_y_value]['x'].iloc[0]\n",
    "print(\"Minimum y value:\", min_y_value)\n",
    "print(\"Corresponding x value for the minimum y value:\", x_value_min_y)\n"
   ]
  },
  {
   "cell_type": "code",
   "execution_count": null,
   "id": "8aace89e-ae23-4ea6-8cc5-4c212fa1f755",
   "metadata": {},
   "outputs": [],
   "source": []
  },
  {
   "cell_type": "markdown",
   "id": "0a014a4a-1e23-427d-b140-e428dfcab4b1",
   "metadata": {},
   "source": [
    "## Question 8\n",
    "\n",
    "Using again num_data.csv and `df_num`:\n",
    "\n",
    "- Select a dataframe with all values for which in which y<4 and x> 20. Call this new dataframe `sub_df_num`\n",
    "- Create a new column in the sub_df_num dataframe called `z` with the sume of the existing columns, x + y\n"
   ]
  },
  {
   "cell_type": "markdown",
   "id": "7ca9025f-3f1b-482c-9d63-5b4d478ec69c",
   "metadata": {},
   "source": [
    "## Answer 8"
   ]
  },
  {
   "cell_type": "code",
   "execution_count": 27,
   "id": "f86901f5",
   "metadata": {},
   "outputs": [
    {
     "name": "stdout",
     "output_type": "stream",
     "text": [
      "          x         y          z\n",
      "0     26.56  1.750293  28.310293\n",
      "4     41.68  2.303987  43.983987\n",
      "5     23.64  1.692922  25.332922\n",
      "6     60.97  3.385207  64.355207\n",
      "9     44.53  2.437947  46.967947\n",
      "...     ...       ...        ...\n",
      "9990  67.82  3.882205  71.702205\n",
      "9991  62.57  3.495270  66.065270\n",
      "9993  58.57  3.226588  61.796588\n",
      "9997  52.18  2.839714  55.019714\n",
      "9999  35.82  2.054790  37.874790\n",
      "\n",
      "[4931 rows x 3 columns]\n"
     ]
    }
   ],
   "source": [
    "# i) Select a dataframe with all values for which y<4 and x> 20\n",
    "sub_df_num = df_num[(df_num['y'] < 4) & (df_num['x'] > 20)].copy()\n",
    "\n",
    "#ii) Create a new column 'z' with the sum of existing columns x and y\n",
    "sub_df_num['z'] = sub_df_num['x'] + sub_df_num['y']\n",
    "\n",
    "# Display the modified dataframe\n",
    "print(sub_df_num)\n"
   ]
  },
  {
   "cell_type": "markdown",
   "id": "5ba99e0e-676f-4259-b745-f88d4960a49c",
   "metadata": {
    "tags": []
   },
   "source": [
    "## Question 9\n",
    "\n",
    "Explain in your own  words: What is the difference between positional argument and keyword agument? Give an example with code."
   ]
  },
  {
   "cell_type": "markdown",
   "id": "d8806de7-fe9f-4a1c-96e2-30cb47a6f0ae",
   "metadata": {},
   "source": [
    "## Answer 9"
   ]
  },
  {
   "cell_type": "markdown",
   "id": "a1aec292",
   "metadata": {},
   "source": [
    "With positional arguments, position matters. If we remove one or move it around, the meaning changes. Keyword arguments don't care about position, which makes adding a new argument easy, especially if it has a default value (since callers don't have to change)."
   ]
  },
  {
   "cell_type": "code",
   "execution_count": 28,
   "id": "a7716045",
   "metadata": {},
   "outputs": [
    {
     "name": "stdout",
     "output_type": "stream",
     "text": [
      "Hi, I am Prince\n",
      "My age is  20\n",
      "Hi, I am Prince\n",
      "My age is  20\n"
     ]
    }
   ],
   "source": [
    "# Example for keyword arguments\n",
    "\n",
    "def nameAge(name, age):\n",
    "    print(\"Hi, I am\", name)\n",
    "    print(\"My age is \", age)\n",
    " \n",
    "nameAge(name=\"Prince\", age=20)\n",
    " \n",
    "nameAge(age=20, name=\"Prince\")"
   ]
  },
  {
   "cell_type": "code",
   "execution_count": 29,
   "id": "55757f72",
   "metadata": {},
   "outputs": [
    {
     "name": "stdout",
     "output_type": "stream",
     "text": [
      "Case-1:\n",
      "Hi, I am Prince\n",
      "My age is  20\n",
      "\n",
      "Case-2:\n",
      "Hi, I am 20\n",
      "My age is  Prince\n"
     ]
    }
   ],
   "source": [
    "#Example for positional argument\n",
    "def nameAge(name, age):\n",
    "    print(\"Hi, I am\", name)\n",
    "    print(\"My age is \", age)\n",
    " \n",
    "# You will get correct output because argument is given in order\n",
    "print(\"Case-1:\")\n",
    "nameAge(\"Prince\", 20)\n",
    "# You will get incorrect output because argument is not in order\n",
    "print(\"\\nCase-2:\")\n",
    "nameAge(20, \"Prince\")"
   ]
  },
  {
   "cell_type": "markdown",
   "id": "1dcba1fd-0726-4c99-a09f-adff2de1e2fa",
   "metadata": {},
   "source": [
    "## Question 10\n",
    "\n",
    "The following code is a function that searches for the maximum value of a list. However, there are 2 bugs. Can you find them and explain what the correct code should be? "
   ]
  },
  {
   "cell_type": "code",
   "execution_count": 30,
   "id": "ca47b180-b4a4-4f00-8ee0-e6fc37176a08",
   "metadata": {},
   "outputs": [],
   "source": [
    "def find_max(lst):\n",
    "    max_val = lst[0]\n",
    "    for val in lst:\n",
    "        if val < max_val:\n",
    "            max_val == val\n",
    "    return max_val"
   ]
  },
  {
   "cell_type": "markdown",
   "id": "4a430e14-6694-415e-978c-8ef20f5845fd",
   "metadata": {},
   "source": [
    "## Answer 10"
   ]
  },
  {
   "cell_type": "markdown",
   "id": "b365e652",
   "metadata": {},
   "source": [
    "1. The comparison in the if statement should be checking if val is greater than max_val but it is checking if val is less than max_val, which is incorrect. \n",
    "\n",
    "2. The comparison operator \"==\" is used instead of the assignment operator \"=\" in the line max_val == val which is incorrect. This will not update the maximum value."
   ]
  },
  {
   "cell_type": "markdown",
   "id": "f3ce7e17",
   "metadata": {},
   "source": []
  }
 ],
 "metadata": {
  "kernelspec": {
   "display_name": "Python 3 (ipykernel)",
   "language": "python",
   "name": "python3"
  },
  "language_info": {
   "codemirror_mode": {
    "name": "ipython",
    "version": 3
   },
   "file_extension": ".py",
   "mimetype": "text/x-python",
   "name": "python",
   "nbconvert_exporter": "python",
   "pygments_lexer": "ipython3",
   "version": "3.11.7"
  }
 },
 "nbformat": 4,
 "nbformat_minor": 5
}
