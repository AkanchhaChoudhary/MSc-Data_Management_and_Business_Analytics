{
 "cells": [
  {
   "cell_type": "code",
   "execution_count": 1,
   "id": "95ce68db-7230-437a-90e7-c21ff8c812d2",
   "metadata": {},
   "outputs": [],
   "source": [
    "import pandas as pd\n",
    "import numpy as np\n",
    "import matplotlib.pyplot as plt\n",
    "import statistics as st"
   ]
  },
  {
   "cell_type": "code",
   "execution_count": 2,
   "id": "03d12476-4f42-4a6c-a58d-8ae5189c2566",
   "metadata": {},
   "outputs": [
    {
     "data": {
      "text/html": [
       "<div>\n",
       "<style scoped>\n",
       "    .dataframe tbody tr th:only-of-type {\n",
       "        vertical-align: middle;\n",
       "    }\n",
       "\n",
       "    .dataframe tbody tr th {\n",
       "        vertical-align: top;\n",
       "    }\n",
       "\n",
       "    .dataframe thead th {\n",
       "        text-align: right;\n",
       "    }\n",
       "</style>\n",
       "<table border=\"1\" class=\"dataframe\">\n",
       "  <thead>\n",
       "    <tr style=\"text-align: right;\">\n",
       "      <th></th>\n",
       "      <th>Values</th>\n",
       "    </tr>\n",
       "  </thead>\n",
       "  <tbody>\n",
       "    <tr>\n",
       "      <th>0</th>\n",
       "      <td>-2.267149</td>\n",
       "    </tr>\n",
       "    <tr>\n",
       "      <th>1</th>\n",
       "      <td>-0.629678</td>\n",
       "    </tr>\n",
       "    <tr>\n",
       "      <th>2</th>\n",
       "      <td>0.067861</td>\n",
       "    </tr>\n",
       "    <tr>\n",
       "      <th>3</th>\n",
       "      <td>0.751434</td>\n",
       "    </tr>\n",
       "    <tr>\n",
       "      <th>4</th>\n",
       "      <td>-0.861234</td>\n",
       "    </tr>\n",
       "  </tbody>\n",
       "</table>\n",
       "</div>"
      ],
      "text/plain": [
       "     Values\n",
       "0 -2.267149\n",
       "1 -0.629678\n",
       "2  0.067861\n",
       "3  0.751434\n",
       "4 -0.861234"
      ]
     },
     "execution_count": 2,
     "metadata": {},
     "output_type": "execute_result"
    }
   ],
   "source": [
    "df=pd.read_excel('data_lecture3.xlsx', sheet_name='data1')\n",
    "df.head()"
   ]
  },
  {
   "cell_type": "code",
   "execution_count": 3,
   "id": "baba6609-e182-4137-8e92-87f9385a6273",
   "metadata": {},
   "outputs": [
    {
     "data": {
      "image/png": "[encoded data removed]",
      "text/plain": [
       "<Figure size 640x480 with 1 Axes>"
      ]
     },
     "metadata": {},
     "output_type": "display_data"
    }
   ],
   "source": [
    "values=df['Values'].values\n",
    "H= plt.hist(values, 20)\n",
    "plt.show()"
   ]
  },
  {
   "cell_type": "code",
   "execution_count": 4,
   "id": "5dfb0a69-6685-4fc8-85a9-67f89450a16e",
   "metadata": {
    "collapsed": true,
    "jupyter": {
     "outputs_hidden": true,
     "source_hidden": true
    },
    "tags": []
   },
   "outputs": [
    {
     "data": {
      "text/html": [
       "<div>\n",
       "<style scoped>\n",
       "    .dataframe tbody tr th:only-of-type {\n",
       "        vertical-align: middle;\n",
       "    }\n",
       "\n",
       "    .dataframe tbody tr th {\n",
       "        vertical-align: top;\n",
       "    }\n",
       "\n",
       "    .dataframe thead th {\n",
       "        text-align: right;\n",
       "    }\n",
       "</style>\n",
       "<table border=\"1\" class=\"dataframe\">\n",
       "  <thead>\n",
       "    <tr style=\"text-align: right;\">\n",
       "      <th></th>\n",
       "      <th>Bin Boundaries</th>\n",
       "      <th>Counts</th>\n",
       "    </tr>\n",
       "  </thead>\n",
       "  <tbody>\n",
       "    <tr>\n",
       "      <th>0</th>\n",
       "      <td>[-3.65 , -3.31]</td>\n",
       "      <td>2.0</td>\n",
       "    </tr>\n",
       "    <tr>\n",
       "      <th>1</th>\n",
       "      <td>[-3.31 , -2.97]</td>\n",
       "      <td>8.0</td>\n",
       "    </tr>\n",
       "    <tr>\n",
       "      <th>2</th>\n",
       "      <td>[-2.97 , -2.63]</td>\n",
       "      <td>12.0</td>\n",
       "    </tr>\n",
       "    <tr>\n",
       "      <th>3</th>\n",
       "      <td>[-2.63 , -2.29]</td>\n",
       "      <td>35.0</td>\n",
       "    </tr>\n",
       "    <tr>\n",
       "      <th>4</th>\n",
       "      <td>[-2.29 , -1.94]</td>\n",
       "      <td>82.0</td>\n",
       "    </tr>\n",
       "    <tr>\n",
       "      <th>5</th>\n",
       "      <td>[-1.94 , -1.6]</td>\n",
       "      <td>149.0</td>\n",
       "    </tr>\n",
       "    <tr>\n",
       "      <th>6</th>\n",
       "      <td>[-1.6 , -1.26]</td>\n",
       "      <td>226.0</td>\n",
       "    </tr>\n",
       "    <tr>\n",
       "      <th>7</th>\n",
       "      <td>[-1.26 , -0.92]</td>\n",
       "      <td>401.0</td>\n",
       "    </tr>\n",
       "    <tr>\n",
       "      <th>8</th>\n",
       "      <td>[-0.92 , -0.58]</td>\n",
       "      <td>513.0</td>\n",
       "    </tr>\n",
       "    <tr>\n",
       "      <th>9</th>\n",
       "      <td>[-0.58 , -0.23]</td>\n",
       "      <td>586.0</td>\n",
       "    </tr>\n",
       "    <tr>\n",
       "      <th>10</th>\n",
       "      <td>[-0.23 , 0.11]</td>\n",
       "      <td>651.0</td>\n",
       "    </tr>\n",
       "    <tr>\n",
       "      <th>11</th>\n",
       "      <td>[0.11 , 0.45]</td>\n",
       "      <td>674.0</td>\n",
       "    </tr>\n",
       "    <tr>\n",
       "      <th>12</th>\n",
       "      <td>[0.45 , 0.79]</td>\n",
       "      <td>625.0</td>\n",
       "    </tr>\n",
       "    <tr>\n",
       "      <th>13</th>\n",
       "      <td>[0.79 , 1.13]</td>\n",
       "      <td>426.0</td>\n",
       "    </tr>\n",
       "    <tr>\n",
       "      <th>14</th>\n",
       "      <td>[1.13 , 1.48]</td>\n",
       "      <td>304.0</td>\n",
       "    </tr>\n",
       "    <tr>\n",
       "      <th>15</th>\n",
       "      <td>[1.48 , 1.82]</td>\n",
       "      <td>184.0</td>\n",
       "    </tr>\n",
       "    <tr>\n",
       "      <th>16</th>\n",
       "      <td>[1.82 , 2.16]</td>\n",
       "      <td>89.0</td>\n",
       "    </tr>\n",
       "    <tr>\n",
       "      <th>17</th>\n",
       "      <td>[2.16 , 2.5]</td>\n",
       "      <td>44.0</td>\n",
       "    </tr>\n",
       "    <tr>\n",
       "      <th>18</th>\n",
       "      <td>[2.5 , 2.84]</td>\n",
       "      <td>18.0</td>\n",
       "    </tr>\n",
       "    <tr>\n",
       "      <th>19</th>\n",
       "      <td>[2.84 , 3.19]</td>\n",
       "      <td>9.0</td>\n",
       "    </tr>\n",
       "  </tbody>\n",
       "</table>\n",
       "</div>"
      ],
      "text/plain": [
       "     Bin Boundaries  Counts\n",
       "0   [-3.65 , -3.31]     2.0\n",
       "1   [-3.31 , -2.97]     8.0\n",
       "2   [-2.97 , -2.63]    12.0\n",
       "3   [-2.63 , -2.29]    35.0\n",
       "4   [-2.29 , -1.94]    82.0\n",
       "5    [-1.94 , -1.6]   149.0\n",
       "6    [-1.6 , -1.26]   226.0\n",
       "7   [-1.26 , -0.92]   401.0\n",
       "8   [-0.92 , -0.58]   513.0\n",
       "9   [-0.58 , -0.23]   586.0\n",
       "10   [-0.23 , 0.11]   651.0\n",
       "11    [0.11 , 0.45]   674.0\n",
       "12    [0.45 , 0.79]   625.0\n",
       "13    [0.79 , 1.13]   426.0\n",
       "14    [1.13 , 1.48]   304.0\n",
       "15    [1.48 , 1.82]   184.0\n",
       "16    [1.82 , 2.16]    89.0\n",
       "17     [2.16 , 2.5]    44.0\n",
       "18     [2.5 , 2.84]    18.0\n",
       "19    [2.84 , 3.19]     9.0"
      ]
     },
     "execution_count": 4,
     "metadata": {},
     "output_type": "execute_result"
    }
   ],
   "source": [
    "bin_edges = H[1]\n",
    "counts = H[0]\n",
    "Bin_int = ['['+str(round(bin_edges[i],2))+ ' , ' +str(round(bin_edges[i+1],2))+']' for i in range(len(counts))]\n",
    "dfh = pd.DataFrame({'Bin Boundaries': Bin_int, 'Counts': counts})\n",
    "dfh"
   ]
  },
  {
   "cell_type": "code",
   "execution_count": 5,
   "id": "5516ccf1-06a3-4e7e-bfaf-b38d548dee8e",
   "metadata": {},
   "outputs": [
    {
     "name": "stdout",
     "output_type": "stream",
     "text": [
      "mean = 0.006\n",
      "Variance = 0.991\n",
      "Standard Deviation = 0.995\n",
      "Range = 6.84\n",
      "Coefficient of Variation = 174.122\n"
     ]
    }
   ],
   "source": [
    "mean=np.mean(values)\n",
    "variance = np.var(values)\n",
    "std = np.std(values)\n",
    "Rg =  np.max(values) - np.min(values)\n",
    "coefvar = std/mean\n",
    "print ('mean =',round(mean,3))\n",
    "print('Variance =',round(variance,3))\n",
    "print('Standard Deviation =', round(std,3))\n",
    "print('Range =',round(Rg, 3))\n",
    "print('Coefficient of Variation =',round(coefvar,3))\n"
   ]
  },
  {
   "cell_type": "markdown",
   "id": "47abc769-486f-42c7-bb47-fbfa45ab3d10",
   "metadata": {},
   "source": [
    "## Calculating variability of stock prices"
   ]
  },
  {
   "cell_type": "code",
   "execution_count": 6,
   "id": "ef767fab-750d-4be9-9d7c-439218143818",
   "metadata": {},
   "outputs": [
    {
     "data": {
      "text/html": [
       "<div>\n",
       "<style scoped>\n",
       "    .dataframe tbody tr th:only-of-type {\n",
       "        vertical-align: middle;\n",
       "    }\n",
       "\n",
       "    .dataframe tbody tr th {\n",
       "        vertical-align: top;\n",
       "    }\n",
       "\n",
       "    .dataframe thead th {\n",
       "        text-align: right;\n",
       "    }\n",
       "</style>\n",
       "<table border=\"1\" class=\"dataframe\">\n",
       "  <thead>\n",
       "    <tr style=\"text-align: right;\">\n",
       "      <th></th>\n",
       "      <th>Values</th>\n",
       "    </tr>\n",
       "  </thead>\n",
       "  <tbody>\n",
       "    <tr>\n",
       "      <th>0</th>\n",
       "      <td>100.000000</td>\n",
       "    </tr>\n",
       "    <tr>\n",
       "      <th>1</th>\n",
       "      <td>98.326980</td>\n",
       "    </tr>\n",
       "    <tr>\n",
       "      <th>2</th>\n",
       "      <td>97.574058</td>\n",
       "    </tr>\n",
       "    <tr>\n",
       "      <th>3</th>\n",
       "      <td>102.131880</td>\n",
       "    </tr>\n",
       "    <tr>\n",
       "      <th>4</th>\n",
       "      <td>102.107782</td>\n",
       "    </tr>\n",
       "  </tbody>\n",
       "</table>\n",
       "</div>"
      ],
      "text/plain": [
       "       Values\n",
       "0  100.000000\n",
       "1   98.326980\n",
       "2   97.574058\n",
       "3  102.131880\n",
       "4  102.107782"
      ]
     },
     "execution_count": 6,
     "metadata": {},
     "output_type": "execute_result"
    }
   ],
   "source": [
    "df=pd.read_excel('data_lecture3.xlsx', sheet_name='data5')\n",
    "df.head()"
   ]
  },
  {
   "cell_type": "code",
   "execution_count": 7,
   "id": "d8c1a436-3403-4cf2-abc4-14558be68bd6",
   "metadata": {},
   "outputs": [
    {
     "data": {
      "text/plain": [
       "<AxesSubplot:>"
      ]
     },
     "execution_count": 7,
     "metadata": {},
     "output_type": "execute_result"
    },
    {
     "data": {
      "image/png": "[encoded data removed]",
      "text/plain": [
       "<Figure size 640x480 with 1 Axes>"
      ]
     },
     "metadata": {},
     "output_type": "display_data"
    }
   ],
   "source": [
    "df.plot()"
   ]
  },
  {
   "cell_type": "markdown",
   "id": "55fb1338-8283-4c3e-82c8-89de946c61c8",
   "metadata": {},
   "source": [
    "Returns are calculated as follows:"
   ]
  },
  {
   "cell_type": "code",
   "execution_count": 9,
   "id": "988b27cb-4b18-4cbb-9176-344960c1bad1",
   "metadata": {},
   "outputs": [
    {
     "data": {
      "text/html": [
       "<div>\n",
       "<style scoped>\n",
       "    .dataframe tbody tr th:only-of-type {\n",
       "        vertical-align: middle;\n",
       "    }\n",
       "\n",
       "    .dataframe tbody tr th {\n",
       "        vertical-align: top;\n",
       "    }\n",
       "\n",
       "    .dataframe thead th {\n",
       "        text-align: right;\n",
       "    }\n",
       "</style>\n",
       "<table border=\"1\" class=\"dataframe\">\n",
       "  <thead>\n",
       "    <tr style=\"text-align: right;\">\n",
       "      <th></th>\n",
       "      <th>Values</th>\n",
       "      <th>ret</th>\n",
       "    </tr>\n",
       "  </thead>\n",
       "  <tbody>\n",
       "    <tr>\n",
       "      <th>0</th>\n",
       "      <td>100.000000</td>\n",
       "      <td>NaN</td>\n",
       "    </tr>\n",
       "    <tr>\n",
       "      <th>1</th>\n",
       "      <td>98.326980</td>\n",
       "      <td>-0.016730</td>\n",
       "    </tr>\n",
       "    <tr>\n",
       "      <th>2</th>\n",
       "      <td>97.574058</td>\n",
       "      <td>-0.007657</td>\n",
       "    </tr>\n",
       "    <tr>\n",
       "      <th>3</th>\n",
       "      <td>102.131880</td>\n",
       "      <td>0.046711</td>\n",
       "    </tr>\n",
       "    <tr>\n",
       "      <th>4</th>\n",
       "      <td>102.107782</td>\n",
       "      <td>-0.000236</td>\n",
       "    </tr>\n",
       "  </tbody>\n",
       "</table>\n",
       "</div>"
      ],
      "text/plain": [
       "       Values       ret\n",
       "0  100.000000       NaN\n",
       "1   98.326980 -0.016730\n",
       "2   97.574058 -0.007657\n",
       "3  102.131880  0.046711\n",
       "4  102.107782 -0.000236"
      ]
     },
     "execution_count": 9,
     "metadata": {},
     "output_type": "execute_result"
    }
   ],
   "source": [
    "df['ret'] = df['Values'].pct_change()\n",
    "df.head()"
   ]
  },
  {
   "cell_type": "code",
   "execution_count": 12,
   "id": "c83f575a-ab1c-4287-9243-c266ba8635d3",
   "metadata": {},
   "outputs": [],
   "source": [
    "rets=df['ret'][1:].values\n"
   ]
  },
  {
   "cell_type": "code",
   "execution_count": 21,
   "id": "a6445e9c-c3a4-4b4f-bbbf-1b05f6e164a9",
   "metadata": {},
   "outputs": [
    {
     "name": "stdout",
     "output_type": "stream",
     "text": [
      "mean is: 0.0012524281257839365\n",
      "median is: 0.001522217866315012\n",
      "Variance = 0.00044537860336069796\n",
      "Standard Deviation = 0.02110399496210843 3\n"
     ]
    }
   ],
   "source": [
    "mean_ret =np.mean(rets)\n",
    "median_ret = np.median(rets)\n",
    "mean=np.mean(values)\n",
    "var_ret = np.var(rets)\n",
    "std_ret = np.std(rets)\n",
    "\n",
    "\n",
    "print ('mean is:',mean_ret)\n",
    "print ('median is:',median_ret)\n",
    "print('Variance =',var_ret)\n",
    "print('Standard Deviation =', std_ret,3)"
   ]
  },
  {
   "cell_type": "markdown",
   "id": "d9bc690c-1c3e-4f71-8ff7-c7752f2ff243",
   "metadata": {},
   "source": [
    "## This is the average daily return!! \n",
    "To annualise the return you multiply by the number of trading days (standard is 252)"
   ]
  },
  {
   "cell_type": "code",
   "execution_count": 17,
   "id": "0fbb0351-7d6b-46c9-8942-0dd06391242d",
   "metadata": {},
   "outputs": [
    {
     "name": "stdout",
     "output_type": "stream",
     "text": [
      "Annual return is: 0.316\n"
     ]
    }
   ],
   "source": [
    "ann_ret = 252*mean_ret\n",
    "print('Annual return is:',round(ann_ret,3))"
   ]
  },
  {
   "cell_type": "markdown",
   "id": "41f02c49-ebac-4ea5-a996-df99e79b2a6f",
   "metadata": {},
   "source": [
    "The annualised variance is also the daily variance multiplied by number of trading days.\n"
   ]
  },
  {
   "cell_type": "code",
   "execution_count": 22,
   "id": "e6496dab-09c6-4fa4-82a0-d2dd31f5a491",
   "metadata": {},
   "outputs": [
    {
     "name": "stdout",
     "output_type": "stream",
     "text": [
      "Annual variance is: 0.112\n"
     ]
    }
   ],
   "source": [
    "ann_var = 252*var_ret\n",
    "print('Annual variance is:',round(ann_var,3))"
   ]
  },
  {
   "cell_type": "markdown",
   "id": "447a97ec-f16d-4a83-bbb7-6e549b5d1340",
   "metadata": {},
   "source": [
    "However, for the standard deviation, since it is the **square root** of the variance, we need to multiply by the square root of the number of trading days!"
   ]
  },
  {
   "cell_type": "code",
   "execution_count": 24,
   "id": "d7d5d5f6-9d17-4047-b43c-45a8d01855f4",
   "metadata": {},
   "outputs": [
    {
     "name": "stdout",
     "output_type": "stream",
     "text": [
      "Annual standard deviation is: 0.335\n"
     ]
    }
   ],
   "source": [
    "ann_std = np.sqrt(252)*std_ret\n",
    "print('Annual standard deviation is:',round(ann_std,3))"
   ]
  },
  {
   "cell_type": "markdown",
   "id": "8b852e84-5783-4a8b-9519-5ba2423a4b26",
   "metadata": {},
   "source": [
    "#### The annual standard deviation is called **VOLATILITY**"
   ]
  },
  {
   "cell_type": "code",
   "execution_count": null,
   "id": "61e8a85b-2cc6-4360-b4a8-943cc671d102",
   "metadata": {},
   "outputs": [],
   "source": []
  }
 ],
 "metadata": {
  "kernelspec": {
   "display_name": "Python 3 (ipykernel)",
   "language": "python",
   "name": "python3"
  },
  "language_info": {
   "codemirror_mode": {
    "name": "ipython",
    "version": 3
   },
   "file_extension": ".py",
   "mimetype": "text/x-python",
   "name": "python",
   "nbconvert_exporter": "python",
   "pygments_lexer": "ipython3",
   "version": "3.11.4"
  }
 },
 "nbformat": 4,
 "nbformat_minor": 5
}
