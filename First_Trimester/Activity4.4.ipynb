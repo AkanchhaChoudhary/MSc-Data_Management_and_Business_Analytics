{
 "cells": [
  {
   "cell_type": "markdown",
   "metadata": {},
   "source": [
    "4.4_activity\n",
    "\n",
    "January 26, 2023\n",
    "\n",
    "1 Exercises\n",
    "\n",
    "1.0.1 functional programming\n",
    "\n",
    "For each of the next exercises, create a new code cell and write your solution"
   ]
  },
  {
   "cell_type": "markdown",
   "metadata": {},
   "source": [
    "Let - mylist1=[1.5 ,-8 ,4.3 ,6, 7, 3, \"text\" ,5, 2, True, False, 9 ], -\n",
    "mylist2=[1,2,3,4,5,6,7,8,9,10,11,12,13,14,15], and - mylist3=[\"John\", \"Peter\",\n",
    "\"Mary\", \"Anna\"]"
   ]
  },
  {
   "cell_type": "markdown",
   "metadata": {},
   "source": [
    "1. Write a Python program to triple all numbers of a given list of integers. Use\n",
    "Python map. Then apply it to mylist2"
   ]
  },
  {
   "cell_type": "code",
   "execution_count": 2,
   "metadata": {},
   "outputs": [
    {
     "name": "stdout",
     "output_type": "stream",
     "text": [
      "[4.5, -24, 12.899999999999999, 18, 21, 9, 'texttexttext', 15, 6, 3, 0, 27]\n",
      "[3, 6, 9, 12, 15, 18, 21, 24, 27, 30, 33, 36, 39, 42, 45]\n"
     ]
    }
   ],
   "source": [
    "# Define the function to triple a number\n",
    "def triple_number(num):\n",
    "    return num * 3\n",
    "\n",
    "\n",
    "mylist1 = [1.5, -8, 4.3, 6, 7, 3, \"text\", 5, 2, True, False, 9]\n",
    "tripled_list1 = list(map(triple_number, mylist1))\n",
    "print(tripled_list1)\n",
    "\n",
    "mylist2 = [1, 2, 3, 4, 5, 6, 7, 8, 9, 10, 11, 12, 13, 14, 15]\n",
    "tripled_list2 = list(map(triple_number, mylist2))\n",
    "print(tripled_list2)\n"
   ]
  },
  {
   "cell_type": "markdown",
   "metadata": {},
   "source": [
    "2. Write a Python program to find the length of a given\n",
    "list of strings. Use Python map. Then apply it to mylist3"
   ]
  },
  {
   "cell_type": "code",
   "execution_count": null,
   "metadata": {},
   "outputs": [],
   "source": [
    "def find_len(list)"
   ]
  }
 ],
 "metadata": {
  "kernelspec": {
   "display_name": "base",
   "language": "python",
   "name": "python3"
  },
  "language_info": {
   "codemirror_mode": {
    "name": "ipython",
    "version": 3
   },
   "file_extension": ".py",
   "mimetype": "text/x-python",
   "name": "python",
   "nbconvert_exporter": "python",
   "pygments_lexer": "ipython3",
   "version": "3.11.7"
  }
 },
 "nbformat": 4,
 "nbformat_minor": 2
}
