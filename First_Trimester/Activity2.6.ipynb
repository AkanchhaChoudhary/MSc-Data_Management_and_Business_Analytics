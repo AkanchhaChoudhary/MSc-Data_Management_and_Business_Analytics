{
 "cells": [
  {
   "cell_type": "markdown",
   "metadata": {},
   "source": [
    "1 Exercises\n",
    "\n",
    "1.0.1 reading and saving files"
   ]
  },
  {
   "cell_type": "markdown",
   "metadata": {},
   "source": [
    "1. Import the os package and print a list of all the files in the data directory"
   ]
  },
  {
   "cell_type": "code",
   "execution_count": 1,
   "metadata": {},
   "outputs": [
    {
     "data": {
      "text/plain": [
       "['CashFlow.xlsx',\n",
       " 'fortune500.csv',\n",
       " 'GermanDataClean_OUT.csv',\n",
       " 'giltBondPrices.txt',\n",
       " 'DowJonesPrices.csv',\n",
       " 'DowJonesPrices - Copy.csv']"
      ]
     },
     "execution_count": 1,
     "metadata": {},
     "output_type": "execute_result"
    }
   ],
   "source": [
    "import os\n",
    "os.listdir('./data')"
   ]
  },
  {
   "cell_type": "markdown",
   "metadata": {},
   "source": [
    "2. Open the file DowJonesPrices.csv using pandas and put the information in a dataframe."
   ]
  },
  {
   "cell_type": "code",
   "execution_count": 6,
   "metadata": {},
   "outputs": [
    {
     "data": {
      "text/html": [
       "<div>\n",
       "<style scoped>\n",
       "    .dataframe tbody tr th:only-of-type {\n",
       "        vertical-align: middle;\n",
       "    }\n",
       "\n",
       "    .dataframe tbody tr th {\n",
       "        vertical-align: top;\n",
       "    }\n",
       "\n",
       "    .dataframe thead th {\n",
       "        text-align: right;\n",
       "    }\n",
       "</style>\n",
       "<table border=\"1\" class=\"dataframe\">\n",
       "  <thead>\n",
       "    <tr style=\"text-align: right;\">\n",
       "      <th></th>\n",
       "      <th>Date</th>\n",
       "      <th>AAPL</th>\n",
       "      <th>AXP</th>\n",
       "      <th>BA</th>\n",
       "      <th>CAT</th>\n",
       "      <th>CSCO</th>\n",
       "      <th>CVX</th>\n",
       "      <th>DD</th>\n",
       "      <th>DIS</th>\n",
       "      <th>GE</th>\n",
       "      <th>...</th>\n",
       "      <th>NKE</th>\n",
       "      <th>PFE</th>\n",
       "      <th>PG</th>\n",
       "      <th>TRV</th>\n",
       "      <th>UNH</th>\n",
       "      <th>UTX</th>\n",
       "      <th>V</th>\n",
       "      <th>VZ</th>\n",
       "      <th>WMT</th>\n",
       "      <th>XOM</th>\n",
       "    </tr>\n",
       "  </thead>\n",
       "  <tbody>\n",
       "    <tr>\n",
       "      <th>0</th>\n",
       "      <td>2008-03-19</td>\n",
       "      <td>17.400475</td>\n",
       "      <td>36.908495</td>\n",
       "      <td>61.077398</td>\n",
       "      <td>59.969324</td>\n",
       "      <td>21.842601</td>\n",
       "      <td>63.884423</td>\n",
       "      <td>32.967519</td>\n",
       "      <td>28.272361</td>\n",
       "      <td>27.006786</td>\n",
       "      <td>...</td>\n",
       "      <td>27.788638</td>\n",
       "      <td>15.161948</td>\n",
       "      <td>53.885155</td>\n",
       "      <td>38.364202</td>\n",
       "      <td>32.758480</td>\n",
       "      <td>57.891721</td>\n",
       "      <td>13.418429</td>\n",
       "      <td>22.318548</td>\n",
       "      <td>42.863984</td>\n",
       "      <td>70.244690</td>\n",
       "    </tr>\n",
       "    <tr>\n",
       "      <th>1</th>\n",
       "      <td>2008-03-20</td>\n",
       "      <td>17.883556</td>\n",
       "      <td>40.406014</td>\n",
       "      <td>62.199996</td>\n",
       "      <td>60.042524</td>\n",
       "      <td>22.110390</td>\n",
       "      <td>64.914187</td>\n",
       "      <td>32.953018</td>\n",
       "      <td>28.869664</td>\n",
       "      <td>28.448565</td>\n",
       "      <td>...</td>\n",
       "      <td>30.233569</td>\n",
       "      <td>15.147235</td>\n",
       "      <td>55.124812</td>\n",
       "      <td>39.504962</td>\n",
       "      <td>32.546541</td>\n",
       "      <td>58.102206</td>\n",
       "      <td>15.282759</td>\n",
       "      <td>22.947507</td>\n",
       "      <td>44.932058</td>\n",
       "      <td>70.718922</td>\n",
       "    </tr>\n",
       "    <tr>\n",
       "      <th>2</th>\n",
       "      <td>2008-03-24</td>\n",
       "      <td>18.723591</td>\n",
       "      <td>41.662660</td>\n",
       "      <td>63.439005</td>\n",
       "      <td>61.840057</td>\n",
       "      <td>22.886976</td>\n",
       "      <td>65.538290</td>\n",
       "      <td>33.830312</td>\n",
       "      <td>28.996366</td>\n",
       "      <td>28.380270</td>\n",
       "      <td>...</td>\n",
       "      <td>31.047051</td>\n",
       "      <td>15.161948</td>\n",
       "      <td>55.601600</td>\n",
       "      <td>39.422296</td>\n",
       "      <td>32.905916</td>\n",
       "      <td>59.221980</td>\n",
       "      <td>14.185536</td>\n",
       "      <td>23.487528</td>\n",
       "      <td>45.269704</td>\n",
       "      <td>71.509308</td>\n",
       "    </tr>\n",
       "    <tr>\n",
       "      <th>3</th>\n",
       "      <td>2008-03-25</td>\n",
       "      <td>18.918164</td>\n",
       "      <td>41.750537</td>\n",
       "      <td>63.114701</td>\n",
       "      <td>62.336210</td>\n",
       "      <td>22.985165</td>\n",
       "      <td>65.951755</td>\n",
       "      <td>34.294337</td>\n",
       "      <td>29.032567</td>\n",
       "      <td>28.281622</td>\n",
       "      <td>...</td>\n",
       "      <td>30.727951</td>\n",
       "      <td>15.287011</td>\n",
       "      <td>55.259901</td>\n",
       "      <td>39.480160</td>\n",
       "      <td>32.509681</td>\n",
       "      <td>59.070437</td>\n",
       "      <td>15.021516</td>\n",
       "      <td>23.443053</td>\n",
       "      <td>44.780118</td>\n",
       "      <td>70.885317</td>\n",
       "    </tr>\n",
       "    <tr>\n",
       "      <th>4</th>\n",
       "      <td>2008-03-26</td>\n",
       "      <td>19.465665</td>\n",
       "      <td>39.861175</td>\n",
       "      <td>63.447322</td>\n",
       "      <td>62.921833</td>\n",
       "      <td>22.119317</td>\n",
       "      <td>66.279406</td>\n",
       "      <td>33.953570</td>\n",
       "      <td>28.742964</td>\n",
       "      <td>28.175386</td>\n",
       "      <td>...</td>\n",
       "      <td>29.784133</td>\n",
       "      <td>15.220801</td>\n",
       "      <td>55.339365</td>\n",
       "      <td>39.306567</td>\n",
       "      <td>31.422339</td>\n",
       "      <td>58.607368</td>\n",
       "      <td>15.190136</td>\n",
       "      <td>22.960212</td>\n",
       "      <td>44.653503</td>\n",
       "      <td>71.767228</td>\n",
       "    </tr>\n",
       "  </tbody>\n",
       "</table>\n",
       "<p>5 rows × 31 columns</p>\n",
       "</div>"
      ],
      "text/plain": [
       "         Date       AAPL        AXP         BA        CAT       CSCO  \\\n",
       "0  2008-03-19  17.400475  36.908495  61.077398  59.969324  21.842601   \n",
       "1  2008-03-20  17.883556  40.406014  62.199996  60.042524  22.110390   \n",
       "2  2008-03-24  18.723591  41.662660  63.439005  61.840057  22.886976   \n",
       "3  2008-03-25  18.918164  41.750537  63.114701  62.336210  22.985165   \n",
       "4  2008-03-26  19.465665  39.861175  63.447322  62.921833  22.119317   \n",
       "\n",
       "         CVX         DD        DIS         GE  ...        NKE        PFE  \\\n",
       "0  63.884423  32.967519  28.272361  27.006786  ...  27.788638  15.161948   \n",
       "1  64.914187  32.953018  28.869664  28.448565  ...  30.233569  15.147235   \n",
       "2  65.538290  33.830312  28.996366  28.380270  ...  31.047051  15.161948   \n",
       "3  65.951755  34.294337  29.032567  28.281622  ...  30.727951  15.287011   \n",
       "4  66.279406  33.953570  28.742964  28.175386  ...  29.784133  15.220801   \n",
       "\n",
       "          PG        TRV        UNH        UTX          V         VZ  \\\n",
       "0  53.885155  38.364202  32.758480  57.891721  13.418429  22.318548   \n",
       "1  55.124812  39.504962  32.546541  58.102206  15.282759  22.947507   \n",
       "2  55.601600  39.422296  32.905916  59.221980  14.185536  23.487528   \n",
       "3  55.259901  39.480160  32.509681  59.070437  15.021516  23.443053   \n",
       "4  55.339365  39.306567  31.422339  58.607368  15.190136  22.960212   \n",
       "\n",
       "         WMT        XOM  \n",
       "0  42.863984  70.244690  \n",
       "1  44.932058  70.718922  \n",
       "2  45.269704  71.509308  \n",
       "3  44.780118  70.885317  \n",
       "4  44.653503  71.767228  \n",
       "\n",
       "[5 rows x 31 columns]"
      ]
     },
     "execution_count": 6,
     "metadata": {},
     "output_type": "execute_result"
    }
   ],
   "source": [
    "import pandas as pd\n",
    "df_DJP = pd.read_csv('data/DowJonesPrices.csv')\n",
    "df_DJP.head()"
   ]
  },
  {
   "cell_type": "markdown",
   "metadata": {},
   "source": [
    "3. open the file CashFlow.xlsx and print a list with all the sheets in the file."
   ]
  },
  {
   "cell_type": "code",
   "execution_count": 17,
   "metadata": {},
   "outputs": [
    {
     "data": {
      "text/plain": [
       "['CF_Scenario1', 'CF_Scenario2', 'CF_Scenario3']"
      ]
     },
     "execution_count": 17,
     "metadata": {},
     "output_type": "execute_result"
    }
   ],
   "source": [
    "my_excel = pd.ExcelFile('./data/CashFlow.xlsx')\n",
    "list_sheets = my_excel.sheet_names\n",
    "list_sheets"
   ]
  },
  {
   "cell_type": "markdown",
   "metadata": {},
   "source": [
    "4. Load the content of the first sheet of the file into a dataframe"
   ]
  },
  {
   "cell_type": "code",
   "execution_count": 18,
   "metadata": {},
   "outputs": [
    {
     "data": {
      "text/plain": [
       "'CF_Scenario1'"
      ]
     },
     "execution_count": 18,
     "metadata": {},
     "output_type": "execute_result"
    }
   ],
   "source": [
    "list_sheets[0]"
   ]
  },
  {
   "cell_type": "code",
   "execution_count": 23,
   "metadata": {},
   "outputs": [
    {
     "data": {
      "text/html": [
       "<div>\n",
       "<style scoped>\n",
       "    .dataframe tbody tr th:only-of-type {\n",
       "        vertical-align: middle;\n",
       "    }\n",
       "\n",
       "    .dataframe tbody tr th {\n",
       "        vertical-align: top;\n",
       "    }\n",
       "\n",
       "    .dataframe thead th {\n",
       "        text-align: right;\n",
       "    }\n",
       "</style>\n",
       "<table border=\"1\" class=\"dataframe\">\n",
       "  <thead>\n",
       "    <tr style=\"text-align: right;\">\n",
       "      <th></th>\n",
       "      <th>Year</th>\n",
       "      <th>CF</th>\n",
       "      <th>discount rate</th>\n",
       "    </tr>\n",
       "  </thead>\n",
       "  <tbody>\n",
       "    <tr>\n",
       "      <th>0</th>\n",
       "      <td>0</td>\n",
       "      <td>-2000000</td>\n",
       "      <td>0.05</td>\n",
       "    </tr>\n",
       "    <tr>\n",
       "      <th>1</th>\n",
       "      <td>1</td>\n",
       "      <td>200000</td>\n",
       "      <td>0.05</td>\n",
       "    </tr>\n",
       "    <tr>\n",
       "      <th>2</th>\n",
       "      <td>2</td>\n",
       "      <td>200000</td>\n",
       "      <td>0.05</td>\n",
       "    </tr>\n",
       "    <tr>\n",
       "      <th>3</th>\n",
       "      <td>3</td>\n",
       "      <td>200000</td>\n",
       "      <td>0.05</td>\n",
       "    </tr>\n",
       "    <tr>\n",
       "      <th>4</th>\n",
       "      <td>4</td>\n",
       "      <td>200000</td>\n",
       "      <td>0.05</td>\n",
       "    </tr>\n",
       "    <tr>\n",
       "      <th>5</th>\n",
       "      <td>5</td>\n",
       "      <td>200000</td>\n",
       "      <td>0.05</td>\n",
       "    </tr>\n",
       "    <tr>\n",
       "      <th>6</th>\n",
       "      <td>6</td>\n",
       "      <td>200000</td>\n",
       "      <td>0.05</td>\n",
       "    </tr>\n",
       "    <tr>\n",
       "      <th>7</th>\n",
       "      <td>7</td>\n",
       "      <td>200000</td>\n",
       "      <td>0.05</td>\n",
       "    </tr>\n",
       "    <tr>\n",
       "      <th>8</th>\n",
       "      <td>8</td>\n",
       "      <td>200000</td>\n",
       "      <td>0.05</td>\n",
       "    </tr>\n",
       "    <tr>\n",
       "      <th>9</th>\n",
       "      <td>9</td>\n",
       "      <td>200000</td>\n",
       "      <td>0.05</td>\n",
       "    </tr>\n",
       "    <tr>\n",
       "      <th>10</th>\n",
       "      <td>10</td>\n",
       "      <td>200000</td>\n",
       "      <td>0.05</td>\n",
       "    </tr>\n",
       "  </tbody>\n",
       "</table>\n",
       "</div>"
      ],
      "text/plain": [
       "    Year       CF  discount rate\n",
       "0      0 -2000000           0.05\n",
       "1      1   200000           0.05\n",
       "2      2   200000           0.05\n",
       "3      3   200000           0.05\n",
       "4      4   200000           0.05\n",
       "5      5   200000           0.05\n",
       "6      6   200000           0.05\n",
       "7      7   200000           0.05\n",
       "8      8   200000           0.05\n",
       "9      9   200000           0.05\n",
       "10    10   200000           0.05"
      ]
     },
     "execution_count": 23,
     "metadata": {},
     "output_type": "execute_result"
    }
   ],
   "source": [
    "df2_all = pd.read_excel('./data/CashFlow.xlsx' ,  sheet_name=list_sheets)\n",
    "df2_all[list_sheets[0]]\n"
   ]
  },
  {
   "cell_type": "code",
   "execution_count": null,
   "metadata": {},
   "outputs": [],
   "source": []
  }
 ],
 "metadata": {
  "kernelspec": {
   "display_name": "base",
   "language": "python",
   "name": "python3"
  },
  "language_info": {
   "codemirror_mode": {
    "name": "ipython",
    "version": 3
   },
   "file_extension": ".py",
   "mimetype": "text/x-python",
   "name": "python",
   "nbconvert_exporter": "python",
   "pygments_lexer": "ipython3",
   "version": "3.11.7"
  }
 },
 "nbformat": 4,
 "nbformat_minor": 2
}
